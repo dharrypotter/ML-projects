{
  "cells": [
    {
      "cell_type": "markdown",
      "metadata": {
        "id": "ySSBVbncEsk5"
      },
      "source": [
        "# Importing required libraries"
      ],
      "id": "ySSBVbncEsk5"
    },
    {
      "cell_type": "code",
      "execution_count": 6,
      "metadata": {
        "id": "78ae81db"
      },
      "outputs": [],
      "source": [
        "import pandas as pd\n",
        "import numpy as np\n",
        "\n"
      ],
      "id": "78ae81db"
    },
    {
      "cell_type": "code",
      "execution_count": 7,
      "metadata": {
        "id": "eFrz0CnCE8BT"
      },
      "outputs": [],
      "source": [
        "import warnings\n",
        "warnings.filterwarnings('ignore')"
      ],
      "id": "eFrz0CnCE8BT"
    },
    {
      "cell_type": "code",
      "execution_count": 8,
      "metadata": {
        "colab": {
          "base_uri": "https://localhost:8080/"
        },
        "id": "wu7d2c-6_lI8",
        "outputId": "63ecdd80-3498-4f56-ad5a-c80a30937822"
      },
      "outputs": [
        {
          "output_type": "stream",
          "name": "stdout",
          "text": [
            "Mounted at /content/drive\n"
          ]
        }
      ],
      "source": [
        "from google.colab import drive\n",
        "drive.mount('/content/drive')"
      ],
      "id": "wu7d2c-6_lI8"
    },
    {
      "cell_type": "markdown",
      "metadata": {
        "id": "tCylT1GaE3-3"
      },
      "source": [
        "# Reading dataset"
      ],
      "id": "tCylT1GaE3-3"
    },
    {
      "cell_type": "code",
      "execution_count": 9,
      "metadata": {
        "id": "de6292a1"
      },
      "outputs": [],
      "source": [
        "df = pd.read_csv(\"/content/drive/MyDrive/Train-1617360447408-1660719685476.csv\",na_values = [\"?\",\"#\"])\n",
        "test =  pd.read_csv(\"/content/drive/MyDrive/test-1617360461595-1660719701431.csv\",na_values = [\"?\",\"#\"])"
      ],
      "id": "de6292a1"
    },
    {
      "cell_type": "code",
      "execution_count": 10,
      "metadata": {
        "colab": {
          "base_uri": "https://localhost:8080/"
        },
        "id": "0ftB9JDpDrpD",
        "outputId": "bca495da-b999-4104-a524-6203b5d74878"
      },
      "outputs": [
        {
          "output_type": "stream",
          "name": "stdout",
          "text": [
            "(66587, 49)\n",
            "(16647, 48)\n"
          ]
        }
      ],
      "source": [
        "print(df.shape)\n",
        "print(test.shape)"
      ],
      "id": "0ftB9JDpDrpD"
    },
    {
      "cell_type": "markdown",
      "metadata": {
        "id": "XcKPVVIkHsAe"
      },
      "source": [
        "# Check Summary"
      ],
      "id": "XcKPVVIkHsAe"
    },
    {
      "cell_type": "code",
      "execution_count": 11,
      "metadata": {
        "colab": {
          "base_uri": "https://localhost:8080/",
          "height": 365
        },
        "id": "k1p3KzXA536D",
        "outputId": "26dfffae-7c33-4aae-9fc3-38a42586e3aa"
      },
      "outputs": [
        {
          "output_type": "execute_result",
          "data": {
            "text/plain": [
              "               index  encounter_id    patient_id  time_in_hospital  \\\n",
              "count   66587.000000  6.658700e+04  6.658700e+04      66587.000000   \n",
              "mean    50903.474282  1.653153e+08  5.422970e+07          4.397510   \n",
              "std     29480.255515  1.030035e+08  3.878819e+07          2.980995   \n",
              "min         0.000000  1.573800e+04  1.350000e+02          1.000000   \n",
              "25%     25166.500000  8.440328e+07  2.338646e+07          2.000000   \n",
              "50%     51129.000000  1.528504e+08  4.526103e+07          4.000000   \n",
              "75%     76380.000000  2.305049e+08  8.727185e+07          6.000000   \n",
              "max    101765.000000  4.438672e+08  1.893494e+08         14.000000   \n",
              "\n",
              "       num_lab_procedures  num_procedures  num_medications  number_outpatient  \\\n",
              "count        66587.000000    66587.000000     66587.000000       66587.000000   \n",
              "mean            43.115533        1.331521        16.028744           0.365672   \n",
              "std             19.630417        1.705746         8.125304           1.221861   \n",
              "min              1.000000        0.000000         1.000000           0.000000   \n",
              "25%             31.000000        0.000000        10.000000           0.000000   \n",
              "50%             44.000000        1.000000        15.000000           0.000000   \n",
              "75%             57.000000        2.000000        20.000000           0.000000   \n",
              "max            129.000000        6.000000        81.000000          39.000000   \n",
              "\n",
              "       number_emergency  number_inpatient        diag_5  number_diagnoses  \\\n",
              "count      66587.000000      66587.000000  66587.000000      66587.000000   \n",
              "mean           0.200460          0.637602     49.703387          7.424948   \n",
              "std            0.905503          1.255487     28.864879          1.933061   \n",
              "min            0.000000          0.000000      0.000283          1.000000   \n",
              "25%            0.000000          0.000000     24.622056          6.000000   \n",
              "50%            0.000000          0.000000     49.508499          8.000000   \n",
              "75%            0.000000          1.000000     74.637294          9.000000   \n",
              "max           63.000000         19.000000     99.995810         16.000000   \n",
              "\n",
              "         readmitted  \n",
              "count  66587.000000  \n",
              "mean       0.462012  \n",
              "std        0.498559  \n",
              "min        0.000000  \n",
              "25%        0.000000  \n",
              "50%        0.000000  \n",
              "75%        1.000000  \n",
              "max        1.000000  "
            ],
            "text/html": [
              "\n",
              "  <div id=\"df-bfe056bc-e259-47d3-abdc-c10813db9363\">\n",
              "    <div class=\"colab-df-container\">\n",
              "      <div>\n",
              "<style scoped>\n",
              "    .dataframe tbody tr th:only-of-type {\n",
              "        vertical-align: middle;\n",
              "    }\n",
              "\n",
              "    .dataframe tbody tr th {\n",
              "        vertical-align: top;\n",
              "    }\n",
              "\n",
              "    .dataframe thead th {\n",
              "        text-align: right;\n",
              "    }\n",
              "</style>\n",
              "<table border=\"1\" class=\"dataframe\">\n",
              "  <thead>\n",
              "    <tr style=\"text-align: right;\">\n",
              "      <th></th>\n",
              "      <th>index</th>\n",
              "      <th>encounter_id</th>\n",
              "      <th>patient_id</th>\n",
              "      <th>time_in_hospital</th>\n",
              "      <th>num_lab_procedures</th>\n",
              "      <th>num_procedures</th>\n",
              "      <th>num_medications</th>\n",
              "      <th>number_outpatient</th>\n",
              "      <th>number_emergency</th>\n",
              "      <th>number_inpatient</th>\n",
              "      <th>diag_5</th>\n",
              "      <th>number_diagnoses</th>\n",
              "      <th>readmitted</th>\n",
              "    </tr>\n",
              "  </thead>\n",
              "  <tbody>\n",
              "    <tr>\n",
              "      <th>count</th>\n",
              "      <td>66587.000000</td>\n",
              "      <td>6.658700e+04</td>\n",
              "      <td>6.658700e+04</td>\n",
              "      <td>66587.000000</td>\n",
              "      <td>66587.000000</td>\n",
              "      <td>66587.000000</td>\n",
              "      <td>66587.000000</td>\n",
              "      <td>66587.000000</td>\n",
              "      <td>66587.000000</td>\n",
              "      <td>66587.000000</td>\n",
              "      <td>66587.000000</td>\n",
              "      <td>66587.000000</td>\n",
              "      <td>66587.000000</td>\n",
              "    </tr>\n",
              "    <tr>\n",
              "      <th>mean</th>\n",
              "      <td>50903.474282</td>\n",
              "      <td>1.653153e+08</td>\n",
              "      <td>5.422970e+07</td>\n",
              "      <td>4.397510</td>\n",
              "      <td>43.115533</td>\n",
              "      <td>1.331521</td>\n",
              "      <td>16.028744</td>\n",
              "      <td>0.365672</td>\n",
              "      <td>0.200460</td>\n",
              "      <td>0.637602</td>\n",
              "      <td>49.703387</td>\n",
              "      <td>7.424948</td>\n",
              "      <td>0.462012</td>\n",
              "    </tr>\n",
              "    <tr>\n",
              "      <th>std</th>\n",
              "      <td>29480.255515</td>\n",
              "      <td>1.030035e+08</td>\n",
              "      <td>3.878819e+07</td>\n",
              "      <td>2.980995</td>\n",
              "      <td>19.630417</td>\n",
              "      <td>1.705746</td>\n",
              "      <td>8.125304</td>\n",
              "      <td>1.221861</td>\n",
              "      <td>0.905503</td>\n",
              "      <td>1.255487</td>\n",
              "      <td>28.864879</td>\n",
              "      <td>1.933061</td>\n",
              "      <td>0.498559</td>\n",
              "    </tr>\n",
              "    <tr>\n",
              "      <th>min</th>\n",
              "      <td>0.000000</td>\n",
              "      <td>1.573800e+04</td>\n",
              "      <td>1.350000e+02</td>\n",
              "      <td>1.000000</td>\n",
              "      <td>1.000000</td>\n",
              "      <td>0.000000</td>\n",
              "      <td>1.000000</td>\n",
              "      <td>0.000000</td>\n",
              "      <td>0.000000</td>\n",
              "      <td>0.000000</td>\n",
              "      <td>0.000283</td>\n",
              "      <td>1.000000</td>\n",
              "      <td>0.000000</td>\n",
              "    </tr>\n",
              "    <tr>\n",
              "      <th>25%</th>\n",
              "      <td>25166.500000</td>\n",
              "      <td>8.440328e+07</td>\n",
              "      <td>2.338646e+07</td>\n",
              "      <td>2.000000</td>\n",
              "      <td>31.000000</td>\n",
              "      <td>0.000000</td>\n",
              "      <td>10.000000</td>\n",
              "      <td>0.000000</td>\n",
              "      <td>0.000000</td>\n",
              "      <td>0.000000</td>\n",
              "      <td>24.622056</td>\n",
              "      <td>6.000000</td>\n",
              "      <td>0.000000</td>\n",
              "    </tr>\n",
              "    <tr>\n",
              "      <th>50%</th>\n",
              "      <td>51129.000000</td>\n",
              "      <td>1.528504e+08</td>\n",
              "      <td>4.526103e+07</td>\n",
              "      <td>4.000000</td>\n",
              "      <td>44.000000</td>\n",
              "      <td>1.000000</td>\n",
              "      <td>15.000000</td>\n",
              "      <td>0.000000</td>\n",
              "      <td>0.000000</td>\n",
              "      <td>0.000000</td>\n",
              "      <td>49.508499</td>\n",
              "      <td>8.000000</td>\n",
              "      <td>0.000000</td>\n",
              "    </tr>\n",
              "    <tr>\n",
              "      <th>75%</th>\n",
              "      <td>76380.000000</td>\n",
              "      <td>2.305049e+08</td>\n",
              "      <td>8.727185e+07</td>\n",
              "      <td>6.000000</td>\n",
              "      <td>57.000000</td>\n",
              "      <td>2.000000</td>\n",
              "      <td>20.000000</td>\n",
              "      <td>0.000000</td>\n",
              "      <td>0.000000</td>\n",
              "      <td>1.000000</td>\n",
              "      <td>74.637294</td>\n",
              "      <td>9.000000</td>\n",
              "      <td>1.000000</td>\n",
              "    </tr>\n",
              "    <tr>\n",
              "      <th>max</th>\n",
              "      <td>101765.000000</td>\n",
              "      <td>4.438672e+08</td>\n",
              "      <td>1.893494e+08</td>\n",
              "      <td>14.000000</td>\n",
              "      <td>129.000000</td>\n",
              "      <td>6.000000</td>\n",
              "      <td>81.000000</td>\n",
              "      <td>39.000000</td>\n",
              "      <td>63.000000</td>\n",
              "      <td>19.000000</td>\n",
              "      <td>99.995810</td>\n",
              "      <td>16.000000</td>\n",
              "      <td>1.000000</td>\n",
              "    </tr>\n",
              "  </tbody>\n",
              "</table>\n",
              "</div>\n",
              "      <button class=\"colab-df-convert\" onclick=\"convertToInteractive('df-bfe056bc-e259-47d3-abdc-c10813db9363')\"\n",
              "              title=\"Convert this dataframe to an interactive table.\"\n",
              "              style=\"display:none;\">\n",
              "        \n",
              "  <svg xmlns=\"http://www.w3.org/2000/svg\" height=\"24px\"viewBox=\"0 0 24 24\"\n",
              "       width=\"24px\">\n",
              "    <path d=\"M0 0h24v24H0V0z\" fill=\"none\"/>\n",
              "    <path d=\"M18.56 5.44l.94 2.06.94-2.06 2.06-.94-2.06-.94-.94-2.06-.94 2.06-2.06.94zm-11 1L8.5 8.5l.94-2.06 2.06-.94-2.06-.94L8.5 2.5l-.94 2.06-2.06.94zm10 10l.94 2.06.94-2.06 2.06-.94-2.06-.94-.94-2.06-.94 2.06-2.06.94z\"/><path d=\"M17.41 7.96l-1.37-1.37c-.4-.4-.92-.59-1.43-.59-.52 0-1.04.2-1.43.59L10.3 9.45l-7.72 7.72c-.78.78-.78 2.05 0 2.83L4 21.41c.39.39.9.59 1.41.59.51 0 1.02-.2 1.41-.59l7.78-7.78 2.81-2.81c.8-.78.8-2.07 0-2.86zM5.41 20L4 18.59l7.72-7.72 1.47 1.35L5.41 20z\"/>\n",
              "  </svg>\n",
              "      </button>\n",
              "      \n",
              "  <style>\n",
              "    .colab-df-container {\n",
              "      display:flex;\n",
              "      flex-wrap:wrap;\n",
              "      gap: 12px;\n",
              "    }\n",
              "\n",
              "    .colab-df-convert {\n",
              "      background-color: #E8F0FE;\n",
              "      border: none;\n",
              "      border-radius: 50%;\n",
              "      cursor: pointer;\n",
              "      display: none;\n",
              "      fill: #1967D2;\n",
              "      height: 32px;\n",
              "      padding: 0 0 0 0;\n",
              "      width: 32px;\n",
              "    }\n",
              "\n",
              "    .colab-df-convert:hover {\n",
              "      background-color: #E2EBFA;\n",
              "      box-shadow: 0px 1px 2px rgba(60, 64, 67, 0.3), 0px 1px 3px 1px rgba(60, 64, 67, 0.15);\n",
              "      fill: #174EA6;\n",
              "    }\n",
              "\n",
              "    [theme=dark] .colab-df-convert {\n",
              "      background-color: #3B4455;\n",
              "      fill: #D2E3FC;\n",
              "    }\n",
              "\n",
              "    [theme=dark] .colab-df-convert:hover {\n",
              "      background-color: #434B5C;\n",
              "      box-shadow: 0px 1px 3px 1px rgba(0, 0, 0, 0.15);\n",
              "      filter: drop-shadow(0px 1px 2px rgba(0, 0, 0, 0.3));\n",
              "      fill: #FFFFFF;\n",
              "    }\n",
              "  </style>\n",
              "\n",
              "      <script>\n",
              "        const buttonEl =\n",
              "          document.querySelector('#df-bfe056bc-e259-47d3-abdc-c10813db9363 button.colab-df-convert');\n",
              "        buttonEl.style.display =\n",
              "          google.colab.kernel.accessAllowed ? 'block' : 'none';\n",
              "\n",
              "        async function convertToInteractive(key) {\n",
              "          const element = document.querySelector('#df-bfe056bc-e259-47d3-abdc-c10813db9363');\n",
              "          const dataTable =\n",
              "            await google.colab.kernel.invokeFunction('convertToInteractive',\n",
              "                                                     [key], {});\n",
              "          if (!dataTable) return;\n",
              "\n",
              "          const docLinkHtml = 'Like what you see? Visit the ' +\n",
              "            '<a target=\"_blank\" href=https://colab.research.google.com/notebooks/data_table.ipynb>data table notebook</a>'\n",
              "            + ' to learn more about interactive tables.';\n",
              "          element.innerHTML = '';\n",
              "          dataTable['output_type'] = 'display_data';\n",
              "          await google.colab.output.renderOutput(dataTable, element);\n",
              "          const docLink = document.createElement('div');\n",
              "          docLink.innerHTML = docLinkHtml;\n",
              "          element.appendChild(docLink);\n",
              "        }\n",
              "      </script>\n",
              "    </div>\n",
              "  </div>\n",
              "  "
            ]
          },
          "metadata": {},
          "execution_count": 11
        }
      ],
      "source": [
        "df.describe()"
      ],
      "id": "k1p3KzXA536D"
    },
    {
      "cell_type": "markdown",
      "metadata": {
        "id": "zmUGCUPs5ocY"
      },
      "source": [
        "# Exploratory Data Analysis (EDA)"
      ],
      "id": "zmUGCUPs5ocY"
    },
    {
      "cell_type": "code",
      "source": [
        "import seaborn as sns\n",
        "import matplotlib.pyplot as plt"
      ],
      "metadata": {
        "id": "9I9TQpC0DBHQ"
      },
      "id": "9I9TQpC0DBHQ",
      "execution_count": 261,
      "outputs": []
    },
    {
      "cell_type": "code",
      "execution_count": 268,
      "metadata": {
        "colab": {
          "base_uri": "https://localhost:8080/",
          "height": 297
        },
        "id": "RwOvoBOkRpSJ",
        "outputId": "6715a30c-fb65-48a2-b32d-7f7ef0b5a9d4"
      },
      "outputs": [
        {
          "output_type": "execute_result",
          "data": {
            "text/plain": [
              "<matplotlib.axes._subplots.AxesSubplot at 0x7f79a42c9450>"
            ]
          },
          "metadata": {},
          "execution_count": 268
        },
        {
          "output_type": "display_data",
          "data": {
            "text/plain": [
              "<Figure size 432x288 with 1 Axes>"
            ],
            "image/png": "[encoded data removed]"
          },
          "metadata": {
            "needs_background": "light"
          }
        }
      ],
      "source": [
        "#distribution of number of inpatient visits\n",
        "sns.distplot(df[\"number_inpatient\"])\n"
      ],
      "id": "RwOvoBOkRpSJ"
    },
    {
      "cell_type": "code",
      "execution_count": 263,
      "metadata": {
        "colab": {
          "base_uri": "https://localhost:8080/",
          "height": 297
        },
        "id": "YKEYMc2xq5YL",
        "outputId": "bb0372e0-c6df-424f-a54a-939b8bac907f"
      },
      "outputs": [
        {
          "output_type": "execute_result",
          "data": {
            "text/plain": [
              "<matplotlib.axes._subplots.AxesSubplot at 0x7f79a4815d10>"
            ]
          },
          "metadata": {},
          "execution_count": 263
        },
        {
          "output_type": "display_data",
          "data": {
            "text/plain": [
              "<Figure size 432x288 with 1 Axes>"
            ],
            "image/png": "[encoded data removed]"
          },
          "metadata": {
            "needs_background": "light"
          }
        }
      ],
      "source": [
        "sns.distplot(df[\"number_outpatient\"])"
      ],
      "id": "YKEYMc2xq5YL"
    },
    {
      "cell_type": "code",
      "execution_count": 265,
      "metadata": {
        "colab": {
          "base_uri": "https://localhost:8080/",
          "height": 297
        },
        "id": "aFL2gFXt5tdg",
        "outputId": "a6ab4341-96c4-4210-8615-a99dc9fb1a16"
      },
      "outputs": [
        {
          "output_type": "execute_result",
          "data": {
            "text/plain": [
              "<matplotlib.axes._subplots.AxesSubplot at 0x7f79a4f8ce90>"
            ]
          },
          "metadata": {},
          "execution_count": 265
        },
        {
          "output_type": "display_data",
          "data": {
            "text/plain": [
              "<Figure size 432x288 with 1 Axes>"
            ],
            "image/png": "[encoded data removed]"
          },
          "metadata": {
            "needs_background": "light"
          }
        }
      ],
      "source": [
        "\n",
        "#boxplot of num_lab_procedures\n",
        "sns.boxplot(df[\"num_lab_procedures\"])\n"
      ],
      "id": "aFL2gFXt5tdg"
    },
    {
      "cell_type": "code",
      "source": [
        "#age v/s number of medications\n",
        "sns.catplot(x = \"age\", y = \"num_medications\", data=df, jitter = \"0.25\")\n",
        "\n"
      ],
      "metadata": {
        "colab": {
          "base_uri": "https://localhost:8080/",
          "height": 386
        },
        "id": "A0S1R0je1wO8",
        "outputId": "024c3bb7-e8d1-4998-e284-e6840cf66d13"
      },
      "id": "A0S1R0je1wO8",
      "execution_count": 266,
      "outputs": [
        {
          "output_type": "execute_result",
          "data": {
            "text/plain": [
              "<seaborn.axisgrid.FacetGrid at 0x7f79a43f8110>"
            ]
          },
          "metadata": {},
          "execution_count": 266
        },
        {
          "output_type": "display_data",
          "data": {
            "text/plain": [
              "<Figure size 360x360 with 1 Axes>"
            ],
            "image/png": "[encoded data removed]"
          },
          "metadata": {
            "needs_background": "light"
          }
        }
      ]
    },
    {
      "cell_type": "code",
      "source": [
        "#race versus num_medications\n",
        "sns.catplot(x = \"race\", y = \"num_medications\", data=df, jitter = \"0.25\")"
      ],
      "metadata": {
        "colab": {
          "base_uri": "https://localhost:8080/",
          "height": 386
        },
        "id": "SXZAqL9r2Nco",
        "outputId": "783050df-7099-42db-cfca-51d7d3cdb712"
      },
      "id": "SXZAqL9r2Nco",
      "execution_count": 242,
      "outputs": [
        {
          "output_type": "execute_result",
          "data": {
            "text/plain": [
              "<seaborn.axisgrid.FacetGrid at 0x7f79a4d6ce50>"
            ]
          },
          "metadata": {},
          "execution_count": 242
        },
        {
          "output_type": "display_data",
          "data": {
            "text/plain": [
              "<Figure size 360x360 with 1 Axes>"
            ],
            "image/png": "[encoded data removed]"
          },
          "metadata": {
            "needs_background": "light"
          }
        }
      ]
    },
    {
      "cell_type": "code",
      "source": [
        "#race versus number of diagnoses\n",
        "sns.catplot(data=df, y=\"number_diagnoses\", x =\"race\")\n"
      ],
      "metadata": {
        "colab": {
          "base_uri": "https://localhost:8080/",
          "height": 386
        },
        "id": "oRQ6NngZ4Keq",
        "outputId": "9cf16a06-0e88-4720-e949-84ed8d25defa"
      },
      "id": "oRQ6NngZ4Keq",
      "execution_count": 254,
      "outputs": [
        {
          "output_type": "execute_result",
          "data": {
            "text/plain": [
              "<seaborn.axisgrid.FacetGrid at 0x7f79a44af4d0>"
            ]
          },
          "metadata": {},
          "execution_count": 254
        },
        {
          "output_type": "display_data",
          "data": {
            "text/plain": [
              "<Figure size 360x360 with 1 Axes>"
            ],
            "image/png": "[encoded data removed]"
          },
          "metadata": {
            "needs_background": "light"
          }
        }
      ]
    },
    {
      "cell_type": "code",
      "execution_count": 14,
      "metadata": {
        "colab": {
          "base_uri": "https://localhost:8080/",
          "height": 297
        },
        "id": "754dTUvZKXzn",
        "outputId": "381c8f5a-b149-4a4c-d95e-c7552a0458b4"
      },
      "outputs": [
        {
          "output_type": "execute_result",
          "data": {
            "text/plain": [
              "<matplotlib.axes._subplots.AxesSubplot at 0x7f79ab1fd110>"
            ]
          },
          "metadata": {},
          "execution_count": 14
        },
        {
          "output_type": "display_data",
          "data": {
            "text/plain": [
              "<Figure size 432x288 with 1 Axes>"
            ],
            "image/png": "[encoded data removed]"
          },
          "metadata": {
            "needs_background": "light"
          }
        }
      ],
      "source": [
        "#distribution of number of lab Procedures\n",
        "sns.distplot(df[\"num_lab_procedures\"])"
      ],
      "id": "754dTUvZKXzn"
    },
    {
      "cell_type": "code",
      "source": [
        "#distribution of num_medications\n",
        "sns.distplot(df[\"num_medications\"])"
      ],
      "metadata": {
        "colab": {
          "base_uri": "https://localhost:8080/",
          "height": 297
        },
        "id": "x0AssaPrzl2U",
        "outputId": "565f1ae5-86ac-4c8d-b7db-83f7af723c53"
      },
      "id": "x0AssaPrzl2U",
      "execution_count": 236,
      "outputs": [
        {
          "output_type": "execute_result",
          "data": {
            "text/plain": [
              "<matplotlib.axes._subplots.AxesSubplot at 0x7f79a2a28b50>"
            ]
          },
          "metadata": {},
          "execution_count": 236
        },
        {
          "output_type": "display_data",
          "data": {
            "text/plain": [
              "<Figure size 432x288 with 1 Axes>"
            ],
            "image/png": "[encoded data removed]"
          },
          "metadata": {
            "needs_background": "light"
          }
        }
      ]
    },
    {
      "cell_type": "code",
      "source": [
        "#distribution of num_diagnoses\n",
        "sns.distplot(df[\"number_diagnoses\"])"
      ],
      "metadata": {
        "colab": {
          "base_uri": "https://localhost:8080/",
          "height": 297
        },
        "id": "pktM_1JZz8Xb",
        "outputId": "9b93aa3e-9a20-45f5-f731-94d5046071b3"
      },
      "id": "pktM_1JZz8Xb",
      "execution_count": 238,
      "outputs": [
        {
          "output_type": "execute_result",
          "data": {
            "text/plain": [
              "<matplotlib.axes._subplots.AxesSubplot at 0x7f79a50922d0>"
            ]
          },
          "metadata": {},
          "execution_count": 238
        },
        {
          "output_type": "display_data",
          "data": {
            "text/plain": [
              "<Figure size 432x288 with 1 Axes>"
            ],
            "image/png": "[encoded data removed]"
          },
          "metadata": {
            "needs_background": "light"
          }
        }
      ]
    },
    {
      "cell_type": "code",
      "source": [
        "#distribution of num_procedures\n",
        "sns.distplot(df[\"num_procedures\"])"
      ],
      "metadata": {
        "colab": {
          "base_uri": "https://localhost:8080/",
          "height": 300
        },
        "id": "kjg-e0puzx_7",
        "outputId": "71d83ede-ad59-472e-ba2b-104e8395a5ad"
      },
      "id": "kjg-e0puzx_7",
      "execution_count": 267,
      "outputs": [
        {
          "output_type": "execute_result",
          "data": {
            "text/plain": [
              "<matplotlib.axes._subplots.AxesSubplot at 0x7f79a4387290>"
            ]
          },
          "metadata": {},
          "execution_count": 267
        },
        {
          "output_type": "display_data",
          "data": {
            "text/plain": [
              "<Figure size 432x288 with 1 Axes>"
            ],
            "image/png": "[encoded data removed]"
          },
          "metadata": {
            "needs_background": "light"
          }
        }
      ]
    },
    {
      "cell_type": "code",
      "execution_count": 20,
      "metadata": {
        "colab": {
          "base_uri": "https://localhost:8080/",
          "height": 706
        },
        "id": "fdzXgxpo-_wB",
        "outputId": "3465aecf-0995-44d3-e020-e44e67648fc7"
      },
      "outputs": [
        {
          "output_type": "execute_result",
          "data": {
            "text/plain": [
              "<matplotlib.axes._subplots.AxesSubplot at 0x7f79a78d8b10>"
            ]
          },
          "metadata": {},
          "execution_count": 20
        },
        {
          "output_type": "display_data",
          "data": {
            "text/plain": [
              "<Figure size 1080x720 with 2 Axes>"
            ],
            "image/png": "[encoded data removed]"
          },
          "metadata": {
            "needs_background": "light"
          }
        }
      ],
      "source": [
        "#heatmap\n",
        "plt.subplots(figsize = (15,10))\n",
        "sns.heatmap(df.corr(),annot = True, cmap = 'Oranges')"
      ],
      "id": "fdzXgxpo-_wB"
    },
    {
      "cell_type": "code",
      "source": [
        "#countplot of races of patients along with the gender \n",
        "sns.countplot(data=df, x=\"race\", hue='gender')"
      ],
      "metadata": {
        "colab": {
          "base_uri": "https://localhost:8080/",
          "height": 298
        },
        "id": "0unwW1BDvWNA",
        "outputId": "c0c7b4ea-bbd9-4843-d864-9bfea95c1986"
      },
      "id": "0unwW1BDvWNA",
      "execution_count": 234,
      "outputs": [
        {
          "output_type": "execute_result",
          "data": {
            "text/plain": [
              "<matplotlib.axes._subplots.AxesSubplot at 0x7f79a2bf4110>"
            ]
          },
          "metadata": {},
          "execution_count": 234
        },
        {
          "output_type": "display_data",
          "data": {
            "text/plain": [
              "<Figure size 432x288 with 1 Axes>"
            ],
            "image/png": "[encoded data removed]"
          },
          "metadata": {
            "needs_background": "light"
          }
        }
      ]
    },
    {
      "cell_type": "code",
      "source": [
        "#Distribution of patients across different age groups\n",
        "sns.countplot(data=df, x=\"age\", hue='gender')"
      ],
      "metadata": {
        "colab": {
          "base_uri": "https://localhost:8080/",
          "height": 296
        },
        "id": "KynwbgMyx7Y7",
        "outputId": "fc875556-25c6-45c4-923d-879987980b15"
      },
      "id": "KynwbgMyx7Y7",
      "execution_count": 235,
      "outputs": [
        {
          "output_type": "execute_result",
          "data": {
            "text/plain": [
              "<matplotlib.axes._subplots.AxesSubplot at 0x7f79a2aaa310>"
            ]
          },
          "metadata": {},
          "execution_count": 235
        },
        {
          "output_type": "display_data",
          "data": {
            "text/plain": [
              "<Figure size 432x288 with 1 Axes>"
            ],
            "image/png": "[encoded data removed]"
          },
          "metadata": {
            "needs_background": "light"
          }
        }
      ]
    },
    {
      "cell_type": "code",
      "execution_count": 21,
      "metadata": {
        "colab": {
          "base_uri": "https://localhost:8080/",
          "height": 365
        },
        "id": "dCkvgaxPXTVg",
        "outputId": "435b18b0-d73e-46e5-8973-d9801fbdf0ae"
      },
      "outputs": [
        {
          "output_type": "execute_result",
          "data": {
            "text/plain": [
              "               index  encounter_id    patient_id  time_in_hospital  \\\n",
              "count   66587.000000  6.658700e+04  6.658700e+04      66587.000000   \n",
              "mean    50903.474282  1.653153e+08  5.422970e+07          4.397510   \n",
              "std     29480.255515  1.030035e+08  3.878819e+07          2.980995   \n",
              "min         0.000000  1.573800e+04  1.350000e+02          1.000000   \n",
              "25%     25166.500000  8.440328e+07  2.338646e+07          2.000000   \n",
              "50%     51129.000000  1.528504e+08  4.526103e+07          4.000000   \n",
              "75%     76380.000000  2.305049e+08  8.727185e+07          6.000000   \n",
              "max    101765.000000  4.438672e+08  1.893494e+08         14.000000   \n",
              "\n",
              "       num_lab_procedures  num_procedures  num_medications  number_outpatient  \\\n",
              "count        66587.000000    66587.000000     66587.000000       66587.000000   \n",
              "mean            43.115533        1.331521        16.028744           0.365672   \n",
              "std             19.630417        1.705746         8.125304           1.221861   \n",
              "min              1.000000        0.000000         1.000000           0.000000   \n",
              "25%             31.000000        0.000000        10.000000           0.000000   \n",
              "50%             44.000000        1.000000        15.000000           0.000000   \n",
              "75%             57.000000        2.000000        20.000000           0.000000   \n",
              "max            129.000000        6.000000        81.000000          39.000000   \n",
              "\n",
              "       number_emergency  number_inpatient        diag_5  number_diagnoses  \\\n",
              "count      66587.000000      66587.000000  66587.000000      66587.000000   \n",
              "mean           0.200460          0.637602     49.703387          7.424948   \n",
              "std            0.905503          1.255487     28.864879          1.933061   \n",
              "min            0.000000          0.000000      0.000283          1.000000   \n",
              "25%            0.000000          0.000000     24.622056          6.000000   \n",
              "50%            0.000000          0.000000     49.508499          8.000000   \n",
              "75%            0.000000          1.000000     74.637294          9.000000   \n",
              "max           63.000000         19.000000     99.995810         16.000000   \n",
              "\n",
              "         readmitted  \n",
              "count  66587.000000  \n",
              "mean       0.462012  \n",
              "std        0.498559  \n",
              "min        0.000000  \n",
              "25%        0.000000  \n",
              "50%        0.000000  \n",
              "75%        1.000000  \n",
              "max        1.000000  "
            ],
            "text/html": [
              "\n",
              "  <div id=\"df-22f64a11-9d6b-4ffc-ba4d-a010dafc4953\">\n",
              "    <div class=\"colab-df-container\">\n",
              "      <div>\n",
              "<style scoped>\n",
              "    .dataframe tbody tr th:only-of-type {\n",
              "        vertical-align: middle;\n",
              "    }\n",
              "\n",
              "    .dataframe tbody tr th {\n",
              "        vertical-align: top;\n",
              "    }\n",
              "\n",
              "    .dataframe thead th {\n",
              "        text-align: right;\n",
              "    }\n",
              "</style>\n",
              "<table border=\"1\" class=\"dataframe\">\n",
              "  <thead>\n",
              "    <tr style=\"text-align: right;\">\n",
              "      <th></th>\n",
              "      <th>index</th>\n",
              "      <th>encounter_id</th>\n",
              "      <th>patient_id</th>\n",
              "      <th>time_in_hospital</th>\n",
              "      <th>num_lab_procedures</th>\n",
              "      <th>num_procedures</th>\n",
              "      <th>num_medications</th>\n",
              "      <th>number_outpatient</th>\n",
              "      <th>number_emergency</th>\n",
              "      <th>number_inpatient</th>\n",
              "      <th>diag_5</th>\n",
              "      <th>number_diagnoses</th>\n",
              "      <th>readmitted</th>\n",
              "    </tr>\n",
              "  </thead>\n",
              "  <tbody>\n",
              "    <tr>\n",
              "      <th>count</th>\n",
              "      <td>66587.000000</td>\n",
              "      <td>6.658700e+04</td>\n",
              "      <td>6.658700e+04</td>\n",
              "      <td>66587.000000</td>\n",
              "      <td>66587.000000</td>\n",
              "      <td>66587.000000</td>\n",
              "      <td>66587.000000</td>\n",
              "      <td>66587.000000</td>\n",
              "      <td>66587.000000</td>\n",
              "      <td>66587.000000</td>\n",
              "      <td>66587.000000</td>\n",
              "      <td>66587.000000</td>\n",
              "      <td>66587.000000</td>\n",
              "    </tr>\n",
              "    <tr>\n",
              "      <th>mean</th>\n",
              "      <td>50903.474282</td>\n",
              "      <td>1.653153e+08</td>\n",
              "      <td>5.422970e+07</td>\n",
              "      <td>4.397510</td>\n",
              "      <td>43.115533</td>\n",
              "      <td>1.331521</td>\n",
              "      <td>16.028744</td>\n",
              "      <td>0.365672</td>\n",
              "      <td>0.200460</td>\n",
              "      <td>0.637602</td>\n",
              "      <td>49.703387</td>\n",
              "      <td>7.424948</td>\n",
              "      <td>0.462012</td>\n",
              "    </tr>\n",
              "    <tr>\n",
              "      <th>std</th>\n",
              "      <td>29480.255515</td>\n",
              "      <td>1.030035e+08</td>\n",
              "      <td>3.878819e+07</td>\n",
              "      <td>2.980995</td>\n",
              "      <td>19.630417</td>\n",
              "      <td>1.705746</td>\n",
              "      <td>8.125304</td>\n",
              "      <td>1.221861</td>\n",
              "      <td>0.905503</td>\n",
              "      <td>1.255487</td>\n",
              "      <td>28.864879</td>\n",
              "      <td>1.933061</td>\n",
              "      <td>0.498559</td>\n",
              "    </tr>\n",
              "    <tr>\n",
              "      <th>min</th>\n",
              "      <td>0.000000</td>\n",
              "      <td>1.573800e+04</td>\n",
              "      <td>1.350000e+02</td>\n",
              "      <td>1.000000</td>\n",
              "      <td>1.000000</td>\n",
              "      <td>0.000000</td>\n",
              "      <td>1.000000</td>\n",
              "      <td>0.000000</td>\n",
              "      <td>0.000000</td>\n",
              "      <td>0.000000</td>\n",
              "      <td>0.000283</td>\n",
              "      <td>1.000000</td>\n",
              "      <td>0.000000</td>\n",
              "    </tr>\n",
              "    <tr>\n",
              "      <th>25%</th>\n",
              "      <td>25166.500000</td>\n",
              "      <td>8.440328e+07</td>\n",
              "      <td>2.338646e+07</td>\n",
              "      <td>2.000000</td>\n",
              "      <td>31.000000</td>\n",
              "      <td>0.000000</td>\n",
              "      <td>10.000000</td>\n",
              "      <td>0.000000</td>\n",
              "      <td>0.000000</td>\n",
              "      <td>0.000000</td>\n",
              "      <td>24.622056</td>\n",
              "      <td>6.000000</td>\n",
              "      <td>0.000000</td>\n",
              "    </tr>\n",
              "    <tr>\n",
              "      <th>50%</th>\n",
              "      <td>51129.000000</td>\n",
              "      <td>1.528504e+08</td>\n",
              "      <td>4.526103e+07</td>\n",
              "      <td>4.000000</td>\n",
              "      <td>44.000000</td>\n",
              "      <td>1.000000</td>\n",
              "      <td>15.000000</td>\n",
              "      <td>0.000000</td>\n",
              "      <td>0.000000</td>\n",
              "      <td>0.000000</td>\n",
              "      <td>49.508499</td>\n",
              "      <td>8.000000</td>\n",
              "      <td>0.000000</td>\n",
              "    </tr>\n",
              "    <tr>\n",
              "      <th>75%</th>\n",
              "      <td>76380.000000</td>\n",
              "      <td>2.305049e+08</td>\n",
              "      <td>8.727185e+07</td>\n",
              "      <td>6.000000</td>\n",
              "      <td>57.000000</td>\n",
              "      <td>2.000000</td>\n",
              "      <td>20.000000</td>\n",
              "      <td>0.000000</td>\n",
              "      <td>0.000000</td>\n",
              "      <td>1.000000</td>\n",
              "      <td>74.637294</td>\n",
              "      <td>9.000000</td>\n",
              "      <td>1.000000</td>\n",
              "    </tr>\n",
              "    <tr>\n",
              "      <th>max</th>\n",
              "      <td>101765.000000</td>\n",
              "      <td>4.438672e+08</td>\n",
              "      <td>1.893494e+08</td>\n",
              "      <td>14.000000</td>\n",
              "      <td>129.000000</td>\n",
              "      <td>6.000000</td>\n",
              "      <td>81.000000</td>\n",
              "      <td>39.000000</td>\n",
              "      <td>63.000000</td>\n",
              "      <td>19.000000</td>\n",
              "      <td>99.995810</td>\n",
              "      <td>16.000000</td>\n",
              "      <td>1.000000</td>\n",
              "    </tr>\n",
              "  </tbody>\n",
              "</table>\n",
              "</div>\n",
              "      <button class=\"colab-df-convert\" onclick=\"convertToInteractive('df-22f64a11-9d6b-4ffc-ba4d-a010dafc4953')\"\n",
              "              title=\"Convert this dataframe to an interactive table.\"\n",
              "              style=\"display:none;\">\n",
              "        \n",
              "  <svg xmlns=\"http://www.w3.org/2000/svg\" height=\"24px\"viewBox=\"0 0 24 24\"\n",
              "       width=\"24px\">\n",
              "    <path d=\"M0 0h24v24H0V0z\" fill=\"none\"/>\n",
              "    <path d=\"M18.56 5.44l.94 2.06.94-2.06 2.06-.94-2.06-.94-.94-2.06-.94 2.06-2.06.94zm-11 1L8.5 8.5l.94-2.06 2.06-.94-2.06-.94L8.5 2.5l-.94 2.06-2.06.94zm10 10l.94 2.06.94-2.06 2.06-.94-2.06-.94-.94-2.06-.94 2.06-2.06.94z\"/><path d=\"M17.41 7.96l-1.37-1.37c-.4-.4-.92-.59-1.43-.59-.52 0-1.04.2-1.43.59L10.3 9.45l-7.72 7.72c-.78.78-.78 2.05 0 2.83L4 21.41c.39.39.9.59 1.41.59.51 0 1.02-.2 1.41-.59l7.78-7.78 2.81-2.81c.8-.78.8-2.07 0-2.86zM5.41 20L4 18.59l7.72-7.72 1.47 1.35L5.41 20z\"/>\n",
              "  </svg>\n",
              "      </button>\n",
              "      \n",
              "  <style>\n",
              "    .colab-df-container {\n",
              "      display:flex;\n",
              "      flex-wrap:wrap;\n",
              "      gap: 12px;\n",
              "    }\n",
              "\n",
              "    .colab-df-convert {\n",
              "      background-color: #E8F0FE;\n",
              "      border: none;\n",
              "      border-radius: 50%;\n",
              "      cursor: pointer;\n",
              "      display: none;\n",
              "      fill: #1967D2;\n",
              "      height: 32px;\n",
              "      padding: 0 0 0 0;\n",
              "      width: 32px;\n",
              "    }\n",
              "\n",
              "    .colab-df-convert:hover {\n",
              "      background-color: #E2EBFA;\n",
              "      box-shadow: 0px 1px 2px rgba(60, 64, 67, 0.3), 0px 1px 3px 1px rgba(60, 64, 67, 0.15);\n",
              "      fill: #174EA6;\n",
              "    }\n",
              "\n",
              "    [theme=dark] .colab-df-convert {\n",
              "      background-color: #3B4455;\n",
              "      fill: #D2E3FC;\n",
              "    }\n",
              "\n",
              "    [theme=dark] .colab-df-convert:hover {\n",
              "      background-color: #434B5C;\n",
              "      box-shadow: 0px 1px 3px 1px rgba(0, 0, 0, 0.15);\n",
              "      filter: drop-shadow(0px 1px 2px rgba(0, 0, 0, 0.3));\n",
              "      fill: #FFFFFF;\n",
              "    }\n",
              "  </style>\n",
              "\n",
              "      <script>\n",
              "        const buttonEl =\n",
              "          document.querySelector('#df-22f64a11-9d6b-4ffc-ba4d-a010dafc4953 button.colab-df-convert');\n",
              "        buttonEl.style.display =\n",
              "          google.colab.kernel.accessAllowed ? 'block' : 'none';\n",
              "\n",
              "        async function convertToInteractive(key) {\n",
              "          const element = document.querySelector('#df-22f64a11-9d6b-4ffc-ba4d-a010dafc4953');\n",
              "          const dataTable =\n",
              "            await google.colab.kernel.invokeFunction('convertToInteractive',\n",
              "                                                     [key], {});\n",
              "          if (!dataTable) return;\n",
              "\n",
              "          const docLinkHtml = 'Like what you see? Visit the ' +\n",
              "            '<a target=\"_blank\" href=https://colab.research.google.com/notebooks/data_table.ipynb>data table notebook</a>'\n",
              "            + ' to learn more about interactive tables.';\n",
              "          element.innerHTML = '';\n",
              "          dataTable['output_type'] = 'display_data';\n",
              "          await google.colab.output.renderOutput(dataTable, element);\n",
              "          const docLink = document.createElement('div');\n",
              "          docLink.innerHTML = docLinkHtml;\n",
              "          element.appendChild(docLink);\n",
              "        }\n",
              "      </script>\n",
              "    </div>\n",
              "  </div>\n",
              "  "
            ]
          },
          "metadata": {},
          "execution_count": 21
        }
      ],
      "source": [
        "df.describe()"
      ],
      "id": "dCkvgaxPXTVg"
    },
    {
      "cell_type": "markdown",
      "metadata": {
        "id": "WBEK4pI8Ffci"
      },
      "source": [
        "# Drop unnecesary columns (by checking cardinality)"
      ],
      "id": "WBEK4pI8Ffci"
    },
    {
      "cell_type": "code",
      "execution_count": 23,
      "metadata": {
        "colab": {
          "base_uri": "https://localhost:8080/"
        },
        "id": "e810f457",
        "outputId": "842f445e-7288-46a2-b948-8c85897728dc"
      },
      "outputs": [
        {
          "output_type": "execute_result",
          "data": {
            "text/plain": [
              "428    4564\n",
              "414    4183\n",
              "786    2659\n",
              "410    2382\n",
              "486    2233\n",
              "       ... \n",
              "939       1\n",
              "52        1\n",
              "334       1\n",
              "385       1\n",
              "862       1\n",
              "Name: diag_1, Length: 651, dtype: int64"
            ]
          },
          "metadata": {},
          "execution_count": 23
        }
      ],
      "source": [
        "df[\"diag_1\"].value_counts()"
      ],
      "id": "e810f457"
    },
    {
      "cell_type": "code",
      "execution_count": 24,
      "metadata": {
        "colab": {
          "base_uri": "https://localhost:8080/"
        },
        "id": "-gdmLLg71ESi",
        "outputId": "8681d00f-a1fa-4b03-ccd0-aed4c274048f"
      },
      "outputs": [
        {
          "output_type": "execute_result",
          "data": {
            "text/plain": [
              "28.217689    6\n",
              "30.611320    6\n",
              "37.266488    6\n",
              "56.122334    6\n",
              "99.845805    6\n",
              "            ..\n",
              "57.432264    1\n",
              "28.301659    1\n",
              "64.735318    1\n",
              "0.212257     1\n",
              "24.436177    1\n",
              "Name: diag_5, Length: 48911, dtype: int64"
            ]
          },
          "metadata": {},
          "execution_count": 24
        }
      ],
      "source": [
        "df['diag_5'].value_counts()"
      ],
      "id": "-gdmLLg71ESi"
    },
    {
      "cell_type": "code",
      "execution_count": 25,
      "metadata": {
        "colab": {
          "base_uri": "https://localhost:8080/"
        },
        "id": "_gOKz7LhFoBH",
        "outputId": "31c137a7-6aef-46e7-a831-96f2b6048826"
      },
      "outputs": [
        {
          "output_type": "execute_result",
          "data": {
            "text/plain": [
              "No    66587\n",
              "Name: X19, dtype: int64"
            ]
          },
          "metadata": {},
          "execution_count": 25
        }
      ],
      "source": [
        "df['X19'].value_counts()"
      ],
      "id": "_gOKz7LhFoBH"
    },
    {
      "cell_type": "markdown",
      "source": [
        "# Check for duplicates"
      ],
      "metadata": {
        "id": "T7651BxpENlS"
      },
      "id": "T7651BxpENlS"
    },
    {
      "cell_type": "code",
      "execution_count": 26,
      "metadata": {
        "colab": {
          "base_uri": "https://localhost:8080/"
        },
        "id": "KNSg_1cNSMiQ",
        "outputId": "4f0699c8-fbad-4e32-f994-5b564fea1652"
      },
      "outputs": [
        {
          "output_type": "execute_result",
          "data": {
            "text/plain": [
              "(66587, 49)"
            ]
          },
          "metadata": {},
          "execution_count": 26
        }
      ],
      "source": [
        "#check shape before dropping duplicates\n",
        "df.shape"
      ],
      "id": "KNSg_1cNSMiQ"
    },
    {
      "cell_type": "code",
      "execution_count": 27,
      "metadata": {
        "id": "sZmHJY5-P48D"
      },
      "outputs": [],
      "source": [
        "#drop duplicate records \n",
        "df = df.drop_duplicates(keep = 'first')\n",
        "test = test.drop_duplicates(keep = 'first')"
      ],
      "id": "sZmHJY5-P48D"
    },
    {
      "cell_type": "code",
      "execution_count": 28,
      "metadata": {
        "colab": {
          "base_uri": "https://localhost:8080/"
        },
        "id": "EoRR0W8wtgvT",
        "outputId": "8c3c36a9-f7cb-4e81-8787-946a9896454c"
      },
      "outputs": [
        {
          "output_type": "execute_result",
          "data": {
            "text/plain": [
              "(15379, 48)"
            ]
          },
          "metadata": {},
          "execution_count": 28
        }
      ],
      "source": [
        "#check shape after duplicate dropping\n",
        "test.shape\n"
      ],
      "id": "EoRR0W8wtgvT"
    },
    {
      "cell_type": "code",
      "execution_count": 29,
      "metadata": {
        "colab": {
          "base_uri": "https://localhost:8080/"
        },
        "id": "ySpybruvIKZx",
        "outputId": "ff0cf773-55ed-4bd0-d215-d1df63145f71"
      },
      "outputs": [
        {
          "output_type": "execute_result",
          "data": {
            "text/plain": [
              "(48911, 49)"
            ]
          },
          "metadata": {},
          "execution_count": 29
        }
      ],
      "source": [
        "df.shape"
      ],
      "id": "ySpybruvIKZx"
    },
    {
      "cell_type": "code",
      "execution_count": 30,
      "metadata": {
        "colab": {
          "base_uri": "https://localhost:8080/"
        },
        "id": "zNGLavNejouy",
        "outputId": "86562dc8-7224-4804-a1e9-f09ad12c60df"
      },
      "outputs": [
        {
          "output_type": "execute_result",
          "data": {
            "text/plain": [
              "Index(['index', 'encounter_id', 'patient_id', 'race', 'gender', 'age',\n",
              "       'weight', 'time_in_hospital', 'medical_specialty', 'num_lab_procedures',\n",
              "       'num_procedures', 'num_medications', 'number_outpatient',\n",
              "       'number_emergency', 'number_inpatient', 'diag_1', 'diag_2', 'diag_3',\n",
              "       'diag_4', 'diag_5', 'number_diagnoses', 'X1', 'X2', 'X3', 'X4', 'X5',\n",
              "       'X6', 'X7', 'X8', 'X9', 'X10', 'X11', 'X12', 'X13', 'X14', 'X15', 'X16',\n",
              "       'X17', 'X18', 'X19', 'X20', 'X21', 'X22', 'X23', 'X24', 'X25', 'change',\n",
              "       'diabetesMed'],\n",
              "      dtype='object')"
            ]
          },
          "metadata": {},
          "execution_count": 30
        }
      ],
      "source": [
        "test.columns"
      ],
      "id": "zNGLavNejouy"
    },
    {
      "cell_type": "code",
      "execution_count": 31,
      "metadata": {
        "colab": {
          "base_uri": "https://localhost:8080/"
        },
        "id": "IuhxB68bws2W",
        "outputId": "906964b2-21d2-4547-f9b5-7558ac556292"
      },
      "outputs": [
        {
          "output_type": "execute_result",
          "data": {
            "text/plain": [
              "index                   int64\n",
              "encounter_id            int64\n",
              "patient_id              int64\n",
              "race                   object\n",
              "gender                 object\n",
              "age                    object\n",
              "weight                 object\n",
              "time_in_hospital        int64\n",
              "medical_specialty      object\n",
              "num_lab_procedures      int64\n",
              "num_procedures          int64\n",
              "num_medications         int64\n",
              "number_outpatient       int64\n",
              "number_emergency        int64\n",
              "number_inpatient        int64\n",
              "diag_1                 object\n",
              "diag_2                 object\n",
              "diag_3                 object\n",
              "diag_4                 object\n",
              "diag_5                float64\n",
              "number_diagnoses        int64\n",
              "X1                     object\n",
              "X2                     object\n",
              "X3                     object\n",
              "X4                     object\n",
              "X5                     object\n",
              "X6                     object\n",
              "X7                     object\n",
              "X8                     object\n",
              "X9                     object\n",
              "X10                    object\n",
              "X11                    object\n",
              "X12                    object\n",
              "X13                    object\n",
              "X14                    object\n",
              "X15                    object\n",
              "X16                    object\n",
              "X17                    object\n",
              "X18                    object\n",
              "X19                    object\n",
              "X20                    object\n",
              "X21                    object\n",
              "X22                    object\n",
              "X23                    object\n",
              "X24                    object\n",
              "X25                    object\n",
              "change                 object\n",
              "diabetesMed            object\n",
              "readmitted              int64\n",
              "dtype: object"
            ]
          },
          "metadata": {},
          "execution_count": 31
        }
      ],
      "source": [
        "df.dtypes\n"
      ],
      "id": "IuhxB68bws2W"
    },
    {
      "cell_type": "code",
      "execution_count": 32,
      "metadata": {
        "colab": {
          "base_uri": "https://localhost:8080/"
        },
        "id": "clQcZxDYMqfD",
        "outputId": "e01e4588-e77c-49e5-c6d9-bf8cc754e2c3"
      },
      "outputs": [
        {
          "output_type": "execute_result",
          "data": {
            "text/plain": [
              "index                     0\n",
              "encounter_id              0\n",
              "patient_id                0\n",
              "race                   1114\n",
              "gender                    0\n",
              "age                       0\n",
              "weight                47354\n",
              "time_in_hospital          0\n",
              "medical_specialty     23983\n",
              "num_lab_procedures        0\n",
              "num_procedures            0\n",
              "num_medications           0\n",
              "number_outpatient         0\n",
              "number_emergency          0\n",
              "number_inpatient          0\n",
              "diag_1                   11\n",
              "diag_2                  172\n",
              "diag_3                  685\n",
              "diag_4                  685\n",
              "diag_5                    0\n",
              "number_diagnoses          0\n",
              "X1                        0\n",
              "X2                        0\n",
              "X3                        0\n",
              "X4                        0\n",
              "X5                        0\n",
              "X6                        0\n",
              "X7                        0\n",
              "X8                        0\n",
              "X9                        0\n",
              "X10                       0\n",
              "X11                       0\n",
              "X12                       0\n",
              "X13                       0\n",
              "X14                       0\n",
              "X15                       0\n",
              "X16                       0\n",
              "X17                       0\n",
              "X18                       0\n",
              "X19                       0\n",
              "X20                       0\n",
              "X21                       0\n",
              "X22                       0\n",
              "X23                       0\n",
              "X24                       0\n",
              "X25                       0\n",
              "change                    0\n",
              "diabetesMed               0\n",
              "readmitted                0\n",
              "dtype: int64"
            ]
          },
          "metadata": {},
          "execution_count": 32
        }
      ],
      "source": [
        "df.isna().sum()"
      ],
      "id": "clQcZxDYMqfD"
    },
    {
      "cell_type": "markdown",
      "metadata": {
        "id": "EGdrp9kOszpA"
      },
      "source": [
        "# Check for alphanumeric values in numeric columns"
      ],
      "id": "EGdrp9kOszpA"
    },
    {
      "cell_type": "code",
      "execution_count": 33,
      "metadata": {
        "id": "oKiJqtJts2iw"
      },
      "outputs": [],
      "source": [
        "diag_alpha = ['diag_1', 'diag_2', 'diag_3','diag_5']\n",
        "for i in diag_alpha:\n",
        "  df[i] = pd.to_numeric(df[i],errors='coerce')\n",
        "  df[i] = df[i].replace(np.nan, 0, regex=True)\n",
        "  test[i] = pd.to_numeric(test[i],errors='coerce')\n",
        "  test[i] = test[i].replace(np.nan, 0, regex=True)\n",
        " "
      ],
      "id": "oKiJqtJts2iw"
    },
    {
      "cell_type": "code",
      "execution_count": 34,
      "metadata": {
        "colab": {
          "base_uri": "https://localhost:8080/"
        },
        "id": "JvFB2TtKZpra",
        "outputId": "8f5f7e57-1f3e-444f-f03b-d6c874092d17"
      },
      "outputs": [
        {
          "output_type": "execute_result",
          "data": {
            "text/plain": [
              "index                     0\n",
              "encounter_id              0\n",
              "patient_id                0\n",
              "race                    345\n",
              "gender                    0\n",
              "age                       0\n",
              "weight                14886\n",
              "time_in_hospital          0\n",
              "medical_specialty      7466\n",
              "num_lab_procedures        0\n",
              "num_procedures            0\n",
              "num_medications           0\n",
              "number_outpatient         0\n",
              "number_emergency          0\n",
              "number_inpatient          0\n",
              "diag_1                    0\n",
              "diag_2                    0\n",
              "diag_3                    0\n",
              "diag_4                  229\n",
              "diag_5                    0\n",
              "number_diagnoses          0\n",
              "X1                        0\n",
              "X2                        0\n",
              "X3                        0\n",
              "X4                        0\n",
              "X5                        0\n",
              "X6                        0\n",
              "X7                        0\n",
              "X8                        0\n",
              "X9                        0\n",
              "X10                       0\n",
              "X11                       0\n",
              "X12                       0\n",
              "X13                       0\n",
              "X14                       0\n",
              "X15                       0\n",
              "X16                       0\n",
              "X17                       0\n",
              "X18                       0\n",
              "X19                       0\n",
              "X20                       0\n",
              "X21                       0\n",
              "X22                       0\n",
              "X23                       0\n",
              "X24                       0\n",
              "X25                       0\n",
              "change                    0\n",
              "diabetesMed               0\n",
              "dtype: int64"
            ]
          },
          "metadata": {},
          "execution_count": 34
        }
      ],
      "source": [
        "test.isna().sum()"
      ],
      "id": "JvFB2TtKZpra"
    },
    {
      "cell_type": "code",
      "execution_count": 36,
      "metadata": {
        "id": "VAfBDj-25CGR"
      },
      "outputs": [],
      "source": [
        "def drop_unnecessary_columns(DataFrame, cols=None):\n",
        "    print('Before dropping: ', DataFrame.columns)\n",
        "    DataFrame.drop(columns=cols,axis=1, inplace=True)\n",
        "    print('After dropping: ', DataFrame.columns)\n",
        "    return DataFrame"
      ],
      "id": "VAfBDj-25CGR"
    },
    {
      "cell_type": "code",
      "execution_count": 37,
      "metadata": {
        "colab": {
          "base_uri": "https://localhost:8080/"
        },
        "id": "KEeDQr_G5PpW",
        "outputId": "fe045180-1d20-487c-b618-0284e32c525a"
      },
      "outputs": [
        {
          "output_type": "stream",
          "name": "stdout",
          "text": [
            "Before dropping:  Index(['index', 'encounter_id', 'patient_id', 'race', 'gender', 'age',\n",
            "       'weight', 'time_in_hospital', 'medical_specialty', 'num_lab_procedures',\n",
            "       'num_procedures', 'num_medications', 'number_outpatient',\n",
            "       'number_emergency', 'number_inpatient', 'diag_1', 'diag_2', 'diag_3',\n",
            "       'diag_4', 'diag_5', 'number_diagnoses', 'X1', 'X2', 'X3', 'X4', 'X5',\n",
            "       'X6', 'X7', 'X8', 'X9', 'X10', 'X11', 'X12', 'X13', 'X14', 'X15', 'X16',\n",
            "       'X17', 'X18', 'X19', 'X20', 'X21', 'X22', 'X23', 'X24', 'X25', 'change',\n",
            "       'diabetesMed', 'readmitted'],\n",
            "      dtype='object')\n",
            "After dropping:  Index(['race', 'gender', 'age', 'time_in_hospital', 'medical_specialty',\n",
            "       'num_lab_procedures', 'num_procedures', 'num_medications',\n",
            "       'number_outpatient', 'number_emergency', 'number_inpatient', 'diag_1',\n",
            "       'diag_2', 'diag_3', 'diag_5', 'number_diagnoses', 'X1', 'X2', 'X3',\n",
            "       'X4', 'X5', 'X6', 'X7', 'X9', 'X10', 'X11', 'X12', 'X13', 'X14', 'X15',\n",
            "       'X16', 'X17', 'X20', 'X21', 'X22', 'X23', 'X24', 'change',\n",
            "       'diabetesMed', 'readmitted'],\n",
            "      dtype='object')\n"
          ]
        }
      ],
      "source": [
        "#drop unnecessary columns from train set (9 columns are to be dropped; weight is dropped because it contains more than 90% of null values, diag3 and diag 4 are duplicate columns,rest are ids)\n",
        "#we are dropping 'X8','X18','X19','X25' because all records have same values for these columns hence they won't have any impact on prediction\n",
        "df = drop_unnecessary_columns(df, cols=['index', 'encounter_id', 'patient_id','diag_4','weight','X8','X18','X19','X25'])\n",
        "\n"
      ],
      "id": "KEeDQr_G5PpW"
    },
    {
      "cell_type": "code",
      "execution_count": 38,
      "metadata": {
        "colab": {
          "base_uri": "https://localhost:8080/"
        },
        "id": "G7VIHU7D26wQ",
        "outputId": "880e8f8e-2b5f-4f3d-8ff5-7623e5b6ef5e"
      },
      "outputs": [
        {
          "output_type": "stream",
          "name": "stdout",
          "text": [
            "Before dropping:  Index(['index', 'encounter_id', 'patient_id', 'race', 'gender', 'age',\n",
            "       'weight', 'time_in_hospital', 'medical_specialty', 'num_lab_procedures',\n",
            "       'num_procedures', 'num_medications', 'number_outpatient',\n",
            "       'number_emergency', 'number_inpatient', 'diag_1', 'diag_2', 'diag_3',\n",
            "       'diag_4', 'diag_5', 'number_diagnoses', 'X1', 'X2', 'X3', 'X4', 'X5',\n",
            "       'X6', 'X7', 'X8', 'X9', 'X10', 'X11', 'X12', 'X13', 'X14', 'X15', 'X16',\n",
            "       'X17', 'X18', 'X19', 'X20', 'X21', 'X22', 'X23', 'X24', 'X25', 'change',\n",
            "       'diabetesMed'],\n",
            "      dtype='object')\n",
            "After dropping:  Index(['race', 'gender', 'age', 'time_in_hospital', 'medical_specialty',\n",
            "       'num_lab_procedures', 'num_procedures', 'num_medications',\n",
            "       'number_outpatient', 'number_emergency', 'number_inpatient', 'diag_1',\n",
            "       'diag_2', 'diag_3', 'diag_5', 'number_diagnoses', 'X1', 'X2', 'X3',\n",
            "       'X4', 'X5', 'X6', 'X7', 'X9', 'X10', 'X11', 'X12', 'X13', 'X14', 'X15',\n",
            "       'X16', 'X17', 'X20', 'X21', 'X22', 'X23', 'X24', 'change',\n",
            "       'diabetesMed'],\n",
            "      dtype='object')\n"
          ]
        }
      ],
      "source": [
        "#drop unnecessary columns from test set \n",
        "test = drop_unnecessary_columns(test, cols=['index', 'encounter_id', 'patient_id','diag_4','weight','X8','X18','X19','X25'])"
      ],
      "id": "G7VIHU7D26wQ"
    },
    {
      "cell_type": "code",
      "execution_count": 39,
      "metadata": {
        "colab": {
          "base_uri": "https://localhost:8080/"
        },
        "id": "BT2NlgWNnQmi",
        "outputId": "36591a41-771e-4831-826a-6fcc721788d1"
      },
      "outputs": [
        {
          "output_type": "execute_result",
          "data": {
            "text/plain": [
              "(48911, 40)"
            ]
          },
          "metadata": {},
          "execution_count": 39
        }
      ],
      "source": [
        "#check shape of train data after dropping\n",
        "df.shape"
      ],
      "id": "BT2NlgWNnQmi"
    },
    {
      "cell_type": "code",
      "execution_count": 40,
      "metadata": {
        "colab": {
          "base_uri": "https://localhost:8080/"
        },
        "id": "6Vr7-tel4pUG",
        "outputId": "9645bc9f-a922-4b9e-9b3b-90c09c7da44a"
      },
      "outputs": [
        {
          "output_type": "execute_result",
          "data": {
            "text/plain": [
              "(15379, 39)"
            ]
          },
          "metadata": {},
          "execution_count": 40
        }
      ],
      "source": [
        "#check shape of test data after dropping\n",
        "test.shape"
      ],
      "id": "6Vr7-tel4pUG"
    },
    {
      "cell_type": "markdown",
      "metadata": {
        "id": "LaFnLFGNC7vp"
      },
      "source": [
        "# Check for missing values"
      ],
      "id": "LaFnLFGNC7vp"
    },
    {
      "cell_type": "code",
      "execution_count": 41,
      "metadata": {
        "colab": {
          "base_uri": "https://localhost:8080/"
        },
        "id": "h4Q20xHqFTAa",
        "outputId": "bfc8a401-2256-4a90-a547-166327d13bfa"
      },
      "outputs": [
        {
          "output_type": "execute_result",
          "data": {
            "text/plain": [
              "race                   1114\n",
              "gender                    0\n",
              "age                       0\n",
              "time_in_hospital          0\n",
              "medical_specialty     23983\n",
              "num_lab_procedures        0\n",
              "num_procedures            0\n",
              "num_medications           0\n",
              "number_outpatient         0\n",
              "number_emergency          0\n",
              "number_inpatient          0\n",
              "diag_1                    0\n",
              "diag_2                    0\n",
              "diag_3                    0\n",
              "diag_5                    0\n",
              "number_diagnoses          0\n",
              "X1                        0\n",
              "X2                        0\n",
              "X3                        0\n",
              "X4                        0\n",
              "X5                        0\n",
              "X6                        0\n",
              "X7                        0\n",
              "X9                        0\n",
              "X10                       0\n",
              "X11                       0\n",
              "X12                       0\n",
              "X13                       0\n",
              "X14                       0\n",
              "X15                       0\n",
              "X16                       0\n",
              "X17                       0\n",
              "X20                       0\n",
              "X21                       0\n",
              "X22                       0\n",
              "X23                       0\n",
              "X24                       0\n",
              "change                    0\n",
              "diabetesMed               0\n",
              "readmitted                0\n",
              "dtype: int64"
            ]
          },
          "metadata": {},
          "execution_count": 41
        }
      ],
      "source": [
        "#check missing values on train set\n",
        "df.isna().sum()"
      ],
      "id": "h4Q20xHqFTAa"
    },
    {
      "cell_type": "code",
      "execution_count": 42,
      "metadata": {
        "id": "9ArMdrFmAoe_"
      },
      "outputs": [],
      "source": [
        "#convert all missing values in \"Race\" and \"Medical Specialty\" to a new class called 'Unknown'.\n",
        "df['race'] = df['race'].fillna('Unknown')\n",
        "df['medical_specialty'] = df['medical_specialty'].fillna('Unknown')\n",
        "test['race'] = test['race'].fillna('Unknown')\n",
        "test['medical_specialty'] = test['medical_specialty'].fillna('Unknown')\n",
        "\n"
      ],
      "id": "9ArMdrFmAoe_"
    },
    {
      "cell_type": "code",
      "execution_count": 43,
      "metadata": {
        "colab": {
          "base_uri": "https://localhost:8080/"
        },
        "id": "KD8dDsebCc0q",
        "outputId": "151448d3-2561-4e12-9e8c-0387ac256ab8"
      },
      "outputs": [
        {
          "output_type": "execute_result",
          "data": {
            "text/plain": [
              "race                  0\n",
              "gender                0\n",
              "age                   0\n",
              "time_in_hospital      0\n",
              "medical_specialty     0\n",
              "num_lab_procedures    0\n",
              "num_procedures        0\n",
              "num_medications       0\n",
              "number_outpatient     0\n",
              "number_emergency      0\n",
              "number_inpatient      0\n",
              "diag_1                0\n",
              "diag_2                0\n",
              "diag_3                0\n",
              "diag_5                0\n",
              "number_diagnoses      0\n",
              "X1                    0\n",
              "X2                    0\n",
              "X3                    0\n",
              "X4                    0\n",
              "X5                    0\n",
              "X6                    0\n",
              "X7                    0\n",
              "X9                    0\n",
              "X10                   0\n",
              "X11                   0\n",
              "X12                   0\n",
              "X13                   0\n",
              "X14                   0\n",
              "X15                   0\n",
              "X16                   0\n",
              "X17                   0\n",
              "X20                   0\n",
              "X21                   0\n",
              "X22                   0\n",
              "X23                   0\n",
              "X24                   0\n",
              "change                0\n",
              "diabetesMed           0\n",
              "readmitted            0\n",
              "dtype: int64"
            ]
          },
          "metadata": {},
          "execution_count": 43
        }
      ],
      "source": [
        "df.isna().sum()"
      ],
      "id": "KD8dDsebCc0q"
    },
    {
      "cell_type": "code",
      "execution_count": 44,
      "metadata": {
        "colab": {
          "base_uri": "https://localhost:8080/"
        },
        "id": "yuX8Pn1RSxKm",
        "outputId": "5bfbf3e1-b14e-4afb-bf7b-540dae986827"
      },
      "outputs": [
        {
          "output_type": "execute_result",
          "data": {
            "text/plain": [
              "race                  0\n",
              "gender                0\n",
              "age                   0\n",
              "time_in_hospital      0\n",
              "medical_specialty     0\n",
              "num_lab_procedures    0\n",
              "num_procedures        0\n",
              "num_medications       0\n",
              "number_outpatient     0\n",
              "number_emergency      0\n",
              "number_inpatient      0\n",
              "diag_1                0\n",
              "diag_2                0\n",
              "diag_3                0\n",
              "diag_5                0\n",
              "number_diagnoses      0\n",
              "X1                    0\n",
              "X2                    0\n",
              "X3                    0\n",
              "X4                    0\n",
              "X5                    0\n",
              "X6                    0\n",
              "X7                    0\n",
              "X9                    0\n",
              "X10                   0\n",
              "X11                   0\n",
              "X12                   0\n",
              "X13                   0\n",
              "X14                   0\n",
              "X15                   0\n",
              "X16                   0\n",
              "X17                   0\n",
              "X20                   0\n",
              "X21                   0\n",
              "X22                   0\n",
              "X23                   0\n",
              "X24                   0\n",
              "change                0\n",
              "diabetesMed           0\n",
              "dtype: int64"
            ]
          },
          "metadata": {},
          "execution_count": 44
        }
      ],
      "source": [
        "test.isna().sum()"
      ],
      "id": "yuX8Pn1RSxKm"
    },
    {
      "cell_type": "code",
      "execution_count": 45,
      "metadata": {
        "colab": {
          "base_uri": "https://localhost:8080/"
        },
        "id": "CJqnddjiSMFY",
        "outputId": "9b215ed6-1aaf-4a3c-b366-7cf3be7ed1d1"
      },
      "outputs": [
        {
          "output_type": "execute_result",
          "data": {
            "text/plain": [
              "(48911, 40)"
            ]
          },
          "metadata": {},
          "execution_count": 45
        }
      ],
      "source": [
        "df.shape"
      ],
      "id": "CJqnddjiSMFY"
    },
    {
      "cell_type": "code",
      "execution_count": 46,
      "metadata": {
        "colab": {
          "base_uri": "https://localhost:8080/"
        },
        "id": "EN1ER_wpSeLU",
        "outputId": "4a29675c-634d-4f9a-d330-921fcbf35b09"
      },
      "outputs": [
        {
          "output_type": "execute_result",
          "data": {
            "text/plain": [
              "(15379, 39)"
            ]
          },
          "metadata": {},
          "execution_count": 46
        }
      ],
      "source": [
        "test.shape"
      ],
      "id": "EN1ER_wpSeLU"
    },
    {
      "cell_type": "code",
      "execution_count": 47,
      "metadata": {
        "id": "XPLYINPeRSAp"
      },
      "outputs": [],
      "source": [
        "#remove missing values from diag_1,diag_2,diag_3\n",
        "df.dropna(axis = 0, inplace = True)\n"
      ],
      "id": "XPLYINPeRSAp"
    },
    {
      "cell_type": "code",
      "execution_count": 48,
      "metadata": {
        "id": "H2EKdQUcScuf"
      },
      "outputs": [],
      "source": [
        "test.dropna(axis =0, inplace= True)"
      ],
      "id": "H2EKdQUcScuf"
    },
    {
      "cell_type": "code",
      "execution_count": 49,
      "metadata": {
        "colab": {
          "base_uri": "https://localhost:8080/"
        },
        "id": "BwBp_xQjSieL",
        "outputId": "14d428ba-e86b-4b75-8972-12bd362b94d6"
      },
      "outputs": [
        {
          "output_type": "execute_result",
          "data": {
            "text/plain": [
              "(15379, 39)"
            ]
          },
          "metadata": {},
          "execution_count": 49
        }
      ],
      "source": [
        "test.shape"
      ],
      "id": "BwBp_xQjSieL"
    },
    {
      "cell_type": "code",
      "execution_count": 50,
      "metadata": {
        "colab": {
          "base_uri": "https://localhost:8080/"
        },
        "id": "3MJvEQ-9SS2p",
        "outputId": "1d027be0-a069-4123-8275-98e886118c1d"
      },
      "outputs": [
        {
          "output_type": "execute_result",
          "data": {
            "text/plain": [
              "(48911, 40)"
            ]
          },
          "metadata": {},
          "execution_count": 50
        }
      ],
      "source": [
        "df.shape"
      ],
      "id": "3MJvEQ-9SS2p"
    },
    {
      "cell_type": "code",
      "execution_count": 51,
      "metadata": {
        "colab": {
          "base_uri": "https://localhost:8080/"
        },
        "id": "T9ZOhK3wxOas",
        "outputId": "d22bc08a-0ee3-4340-9695-1f51c27572f7"
      },
      "outputs": [
        {
          "output_type": "execute_result",
          "data": {
            "text/plain": [
              "race                  0\n",
              "gender                0\n",
              "age                   0\n",
              "time_in_hospital      0\n",
              "medical_specialty     0\n",
              "num_lab_procedures    0\n",
              "num_procedures        0\n",
              "num_medications       0\n",
              "number_outpatient     0\n",
              "number_emergency      0\n",
              "number_inpatient      0\n",
              "diag_1                0\n",
              "diag_2                0\n",
              "diag_3                0\n",
              "diag_5                0\n",
              "number_diagnoses      0\n",
              "X1                    0\n",
              "X2                    0\n",
              "X3                    0\n",
              "X4                    0\n",
              "X5                    0\n",
              "X6                    0\n",
              "X7                    0\n",
              "X9                    0\n",
              "X10                   0\n",
              "X11                   0\n",
              "X12                   0\n",
              "X13                   0\n",
              "X14                   0\n",
              "X15                   0\n",
              "X16                   0\n",
              "X17                   0\n",
              "X20                   0\n",
              "X21                   0\n",
              "X22                   0\n",
              "X23                   0\n",
              "X24                   0\n",
              "change                0\n",
              "diabetesMed           0\n",
              "dtype: int64"
            ]
          },
          "metadata": {},
          "execution_count": 51
        }
      ],
      "source": [
        "#check missing values on train set\n",
        "test.isna().sum()"
      ],
      "id": "T9ZOhK3wxOas"
    },
    {
      "cell_type": "code",
      "execution_count": 52,
      "metadata": {
        "colab": {
          "base_uri": "https://localhost:8080/"
        },
        "id": "rdZpNbEmFois",
        "outputId": "62a31489-82b3-4d33-f444-74917695f234"
      },
      "outputs": [
        {
          "output_type": "execute_result",
          "data": {
            "text/plain": [
              "(15379, 39)"
            ]
          },
          "metadata": {},
          "execution_count": 52
        }
      ],
      "source": [
        "test.shape"
      ],
      "id": "rdZpNbEmFois"
    },
    {
      "cell_type": "markdown",
      "metadata": {
        "id": "vfJa6UFj4CLy"
      },
      "source": [
        "# Check datatypes"
      ],
      "id": "vfJa6UFj4CLy"
    },
    {
      "cell_type": "code",
      "execution_count": 53,
      "metadata": {
        "colab": {
          "base_uri": "https://localhost:8080/"
        },
        "id": "6cb3d30b",
        "outputId": "44d8feef-2e6c-4301-d26e-d9856115346a"
      },
      "outputs": [
        {
          "output_type": "execute_result",
          "data": {
            "text/plain": [
              "race                   object\n",
              "gender                 object\n",
              "age                    object\n",
              "time_in_hospital        int64\n",
              "medical_specialty      object\n",
              "num_lab_procedures      int64\n",
              "num_procedures          int64\n",
              "num_medications         int64\n",
              "number_outpatient       int64\n",
              "number_emergency        int64\n",
              "number_inpatient        int64\n",
              "diag_1                float64\n",
              "diag_2                float64\n",
              "diag_3                float64\n",
              "diag_5                float64\n",
              "number_diagnoses        int64\n",
              "X1                     object\n",
              "X2                     object\n",
              "X3                     object\n",
              "X4                     object\n",
              "X5                     object\n",
              "X6                     object\n",
              "X7                     object\n",
              "X9                     object\n",
              "X10                    object\n",
              "X11                    object\n",
              "X12                    object\n",
              "X13                    object\n",
              "X14                    object\n",
              "X15                    object\n",
              "X16                    object\n",
              "X17                    object\n",
              "X20                    object\n",
              "X21                    object\n",
              "X22                    object\n",
              "X23                    object\n",
              "X24                    object\n",
              "change                 object\n",
              "diabetesMed            object\n",
              "readmitted              int64\n",
              "dtype: object"
            ]
          },
          "metadata": {},
          "execution_count": 53
        }
      ],
      "source": [
        "#check dtypes on train data\n",
        "df.dtypes"
      ],
      "id": "6cb3d30b"
    },
    {
      "cell_type": "code",
      "execution_count": 54,
      "metadata": {
        "colab": {
          "base_uri": "https://localhost:8080/"
        },
        "id": "3bOlBnINugea",
        "outputId": "a71dc10a-ef8f-4543-ef78-498111c393cb"
      },
      "outputs": [
        {
          "output_type": "execute_result",
          "data": {
            "text/plain": [
              "race                   object\n",
              "gender                 object\n",
              "age                    object\n",
              "time_in_hospital        int64\n",
              "medical_specialty      object\n",
              "num_lab_procedures      int64\n",
              "num_procedures          int64\n",
              "num_medications         int64\n",
              "number_outpatient       int64\n",
              "number_emergency        int64\n",
              "number_inpatient        int64\n",
              "diag_1                float64\n",
              "diag_2                float64\n",
              "diag_3                float64\n",
              "diag_5                float64\n",
              "number_diagnoses        int64\n",
              "X1                     object\n",
              "X2                     object\n",
              "X3                     object\n",
              "X4                     object\n",
              "X5                     object\n",
              "X6                     object\n",
              "X7                     object\n",
              "X9                     object\n",
              "X10                    object\n",
              "X11                    object\n",
              "X12                    object\n",
              "X13                    object\n",
              "X14                    object\n",
              "X15                    object\n",
              "X16                    object\n",
              "X17                    object\n",
              "X20                    object\n",
              "X21                    object\n",
              "X22                    object\n",
              "X23                    object\n",
              "X24                    object\n",
              "change                 object\n",
              "diabetesMed            object\n",
              "dtype: object"
            ]
          },
          "metadata": {},
          "execution_count": 54
        }
      ],
      "source": [
        "#check dtypes on test data\n",
        "test.dtypes\n"
      ],
      "id": "3bOlBnINugea"
    },
    {
      "cell_type": "markdown",
      "metadata": {
        "id": "GN8SEtfarbTe"
      },
      "source": [
        "# Feature Engineering"
      ],
      "id": "GN8SEtfarbTe"
    },
    {
      "cell_type": "code",
      "execution_count": 55,
      "metadata": {
        "colab": {
          "base_uri": "https://localhost:8080/"
        },
        "id": "5MgImOUQkq1T",
        "outputId": "201d59c6-b6ee-4559-aa35-84ef4b8d992d"
      },
      "outputs": [
        {
          "output_type": "execute_result",
          "data": {
            "text/plain": [
              "[70-80)     12478\n",
              "[60-70)     10964\n",
              "[50-60)      8421\n",
              "[80-90)      8103\n",
              "[40-50)      4619\n",
              "[30-40)      1766\n",
              "[90-100)     1353\n",
              "[20-30)       817\n",
              "[10-20)       313\n",
              "[0-10)         77\n",
              "Name: age, dtype: int64"
            ]
          },
          "metadata": {},
          "execution_count": 55
        }
      ],
      "source": [
        "#check age column\n",
        "df.age.value_counts()"
      ],
      "id": "5MgImOUQkq1T"
    },
    {
      "cell_type": "code",
      "execution_count": 56,
      "metadata": {
        "id": "W6XH4tGij1oW"
      },
      "outputs": [],
      "source": [
        "#converting age bins to three categories 'Young', 'Middle' and 'Old' (Train)\n",
        "Young = ['[20-30)','[10-20)','[0-10)']\n",
        "Middle = ['[30-40)','[40-50)','[50-60)']\n",
        "Old = ['[70-80)','[60-70)','[70-80)','[80-90)','[90-100)']\n",
        "df['age'] = df['age'].apply(lambda i: 'Young' if i in Young else i)\n",
        "df['age'] = df['age'].apply(lambda i: 'Middle' if i in Middle else i)\n",
        "df['age'] = df['age'].apply(lambda i: 'Old' if i in Old else i)\n"
      ],
      "id": "W6XH4tGij1oW"
    },
    {
      "cell_type": "code",
      "execution_count": 57,
      "metadata": {
        "id": "NvPd2qiYsxhY"
      },
      "outputs": [],
      "source": [
        "#converting age bins to Young, Middle, Old (Test)\n",
        "test['age'] = test['age'].apply(lambda i: 'Young' if i in Young else i)\n",
        "test['age'] = test['age'].apply(lambda i: 'Middle' if i in Middle else i)\n",
        "test['age'] = test['age'].apply(lambda i: 'Old' if i in Old else i)\n"
      ],
      "id": "NvPd2qiYsxhY"
    },
    {
      "cell_type": "code",
      "execution_count": 58,
      "metadata": {
        "colab": {
          "base_uri": "https://localhost:8080/"
        },
        "id": "GytMwUH0r4p7",
        "outputId": "625e8392-e273-45f3-a7b3-504750e486a6"
      },
      "outputs": [
        {
          "output_type": "execute_result",
          "data": {
            "text/plain": [
              "medical_specialty\n",
              "Unknown                           23983\n",
              "InternalMedicine                   6977\n",
              "Emergency/Trauma                   3642\n",
              "Family/GeneralPractice             3636\n",
              "Cardiology                         2551\n",
              "                                  ...  \n",
              "Pediatrics-EmergencyMedicine          1\n",
              "Psychiatry-Addictive                  1\n",
              "Proctology                            1\n",
              "DCPTEAM                               1\n",
              "Pediatrics-Hematology-Oncology        1\n",
              "Length: 65, dtype: int64"
            ]
          },
          "metadata": {},
          "execution_count": 58
        }
      ],
      "source": [
        "#Group the patients according to specialties and sort them in Descending to see the top specialties (Train)\n",
        "df.groupby(\"medical_specialty\").size().sort_values(ascending = False)\n"
      ],
      "id": "GytMwUH0r4p7"
    },
    {
      "cell_type": "code",
      "execution_count": 59,
      "metadata": {
        "colab": {
          "base_uri": "https://localhost:8080/"
        },
        "id": "9BasJtljt48n",
        "outputId": "7ec6c8af-da10-4c78-8b31-9430ae2fc7a5"
      },
      "outputs": [
        {
          "output_type": "execute_result",
          "data": {
            "text/plain": [
              "medical_specialty\n",
              "Unknown                                 7466\n",
              "InternalMedicine                        2198\n",
              "Emergency/Trauma                        1195\n",
              "Family/GeneralPractice                  1091\n",
              "Cardiology                               852\n",
              "Surgery-General                          477\n",
              "Orthopedics                              238\n",
              "Nephrology                               213\n",
              "Orthopedics-Reconstructive               198\n",
              "Radiologist                              174\n",
              "Psychiatry                               145\n",
              "Pulmonology                              134\n",
              "ObstetricsandGynecology                  102\n",
              "Urology                                  100\n",
              "Surgery-Cardiovascular/Thoracic           92\n",
              "Gastroenterology                          84\n",
              "Surgery-Neuro                             77\n",
              "Surgery-Vascular                          76\n",
              "PhysicalMedicineandRehabilitation         55\n",
              "Oncology                                  51\n",
              "Pediatrics                                45\n",
              "Pediatrics-Endocrinology                  30\n",
              "Hematology/Oncology                       30\n",
              "Neurology                                 26\n",
              "Endocrinology                             21\n",
              "Surgery-Cardiovascular                    18\n",
              "Podiatry                                  18\n",
              "Surgery-Thoracic                          16\n",
              "Otolaryngology                            16\n",
              "Pediatrics-CriticalCare                   14\n",
              "Psychology                                12\n",
              "Hospitalist                               11\n",
              "Hematology                                11\n",
              "Gynecology                                 9\n",
              "Ophthalmology                              9\n",
              "Radiology                                  9\n",
              "Surgeon                                    8\n",
              "Obsterics&Gynecology-GynecologicOnco       7\n",
              "Surgery-Plastic                            6\n",
              "SurgicalSpecialty                          5\n",
              "Obstetrics                                 4\n",
              "Osteopath                                  3\n",
              "Surgery-Colon&Rectal                       3\n",
              "InfectiousDiseases                         3\n",
              "Anesthesiology-Pediatric                   3\n",
              "Pediatrics-Pulmonology                     3\n",
              "Pediatrics-Neurology                       3\n",
              "Surgery-Pediatric                          2\n",
              "Surgery-Maxillofacial                      2\n",
              "Rheumatology                               2\n",
              "AllergyandImmunology                       2\n",
              "Psychiatry-Child/Adolescent                2\n",
              "PhysicianNotFound                          2\n",
              "Pediatrics-Hematology-Oncology             1\n",
              "Resident                                   1\n",
              "OutreachServices                           1\n",
              "Pathology                                  1\n",
              "Pediatrics-AllergyandImmunology            1\n",
              "Anesthesiology                             1\n",
              "dtype: int64"
            ]
          },
          "metadata": {},
          "execution_count": 59
        }
      ],
      "source": [
        "#Group the patients according to specialties and sort them in Descending to see the top 15 specialties (Test)\n",
        "test.groupby(\"medical_specialty\").size().sort_values(ascending = False)"
      ],
      "id": "9BasJtljt48n"
    },
    {
      "cell_type": "code",
      "execution_count": 60,
      "metadata": {
        "id": "7MMEaoidrtUZ"
      },
      "outputs": [],
      "source": [
        "#create a list of top 15 specialties based on the count values (Train)\n",
        "top_spec_train = ['InternalMedicine','Emergency/Trauma','Family/GeneralPractice','Cardiology','Surgery-General','Nephrology','Orthopedics','Orthopedics-Reconstructive','Radiologist',\n",
        "'Psychiatry','Pulmonology','Urology','ObstetricsandGynecology','Surgery-Cardiovascular/Thoracic','Surgery-Vascular'\n",
        "]"
      ],
      "id": "7MMEaoidrtUZ"
    },
    {
      "cell_type": "code",
      "execution_count": 61,
      "metadata": {
        "id": "aZJ9--JTvfUf"
      },
      "outputs": [],
      "source": [
        "#create a list of top 15 specialties based on the count values (Test)\n",
        "top_spec_test = ['InternalMedicine','Emergency/Trauma','Family/GeneralPractice','Cardiology','Surgery-General'\n",
        ",'Orthopedics','Nephrology','Orthopedics-Reconstructive','Radiologist','Psychiatry','Pulmonology','ObstetricsandGynecology'\n",
        ",'Urology','Surgery-Cardiovascular/Thoracic','Gastroenterology']"
      ],
      "id": "aZJ9--JTvfUf"
    },
    {
      "cell_type": "code",
      "execution_count": 62,
      "metadata": {
        "id": "lSFhkPDOrO1-"
      },
      "outputs": [],
      "source": [
        "#create a new column \"med_spec\" classes other than top 15 medical specialties marked as \"others\"\n",
        "df['med_spec'] = df['medical_specialty'].copy()\n",
        "df['med_spec'] = df['med_spec'].apply(lambda i: i if i in top_spec_train else 'Other')\n",
        "test['med_spec'] = test['medical_specialty'].copy()\n",
        "test['med_spec'] = test['med_spec'].apply(lambda i: i if i in top_spec_test else 'Other')"
      ],
      "id": "lSFhkPDOrO1-"
    },
    {
      "cell_type": "code",
      "execution_count": 63,
      "metadata": {
        "id": "kMV0cZejyJY_"
      },
      "outputs": [],
      "source": [
        "#drop medical_specialty from df and test\n",
        "df.drop(['medical_specialty'], axis = 1, inplace = True)\n"
      ],
      "id": "kMV0cZejyJY_"
    },
    {
      "cell_type": "code",
      "execution_count": 64,
      "metadata": {
        "id": "suB8lsPpUOpE"
      },
      "outputs": [],
      "source": [
        "test.drop(['medical_specialty'], axis = 1, inplace = True)"
      ],
      "id": "suB8lsPpUOpE"
    },
    {
      "cell_type": "code",
      "execution_count": 65,
      "metadata": {
        "colab": {
          "base_uri": "https://localhost:8080/"
        },
        "id": "eWYbTJoVtWPf",
        "outputId": "bf225d09-3710-4d04-97f9-4f161562eebf"
      },
      "outputs": [
        {
          "output_type": "execute_result",
          "data": {
            "text/plain": [
              "race                   object\n",
              "gender                 object\n",
              "age                    object\n",
              "time_in_hospital        int64\n",
              "num_lab_procedures      int64\n",
              "num_procedures          int64\n",
              "num_medications         int64\n",
              "number_outpatient       int64\n",
              "number_emergency        int64\n",
              "number_inpatient        int64\n",
              "diag_1                float64\n",
              "diag_2                float64\n",
              "diag_3                float64\n",
              "diag_5                float64\n",
              "number_diagnoses        int64\n",
              "X1                     object\n",
              "X2                     object\n",
              "X3                     object\n",
              "X4                     object\n",
              "X5                     object\n",
              "X6                     object\n",
              "X7                     object\n",
              "X9                     object\n",
              "X10                    object\n",
              "X11                    object\n",
              "X12                    object\n",
              "X13                    object\n",
              "X14                    object\n",
              "X15                    object\n",
              "X16                    object\n",
              "X17                    object\n",
              "X20                    object\n",
              "X21                    object\n",
              "X22                    object\n",
              "X23                    object\n",
              "X24                    object\n",
              "change                 object\n",
              "diabetesMed            object\n",
              "med_spec               object\n",
              "dtype: object"
            ]
          },
          "metadata": {},
          "execution_count": 65
        }
      ],
      "source": [
        "test.dtypes"
      ],
      "id": "eWYbTJoVtWPf"
    },
    {
      "cell_type": "code",
      "execution_count": 65,
      "metadata": {
        "id": "9Dq1Tw4-UIQv"
      },
      "outputs": [],
      "source": [],
      "id": "9Dq1Tw4-UIQv"
    },
    {
      "cell_type": "markdown",
      "metadata": {
        "id": "WZEXRND9D71W"
      },
      "source": [
        "# Distinguish categorical variables and convert dtype"
      ],
      "id": "WZEXRND9D71W"
    },
    {
      "cell_type": "code",
      "execution_count": 66,
      "metadata": {
        "id": "0PbSYCTB1jRw"
      },
      "outputs": [],
      "source": [
        "#decide cat and num cols and convert cat dtype into category\n",
        "def convert_columns_types(DataFrame, cols=None, col_type = 'category'):\n",
        "    print('Before conversion:\\n', DataFrame.dtypes,'\\n')\n",
        "    DataFrame[cols] = DataFrame[cols].astype(col_type)\n",
        "    print('After conversion:\\n', DataFrame.dtypes,'\\n')\n",
        "    return DataFrame\n"
      ],
      "id": "0PbSYCTB1jRw"
    },
    {
      "cell_type": "code",
      "execution_count": 67,
      "metadata": {
        "colab": {
          "base_uri": "https://localhost:8080/"
        },
        "id": "4I057FQi7G-7",
        "outputId": "49ccb3b1-4daa-4123-8973-2b9d61546c21"
      },
      "outputs": [
        {
          "output_type": "execute_result",
          "data": {
            "text/plain": [
              "Index(['race', 'gender', 'age', 'time_in_hospital', 'num_lab_procedures',\n",
              "       'num_procedures', 'num_medications', 'number_outpatient',\n",
              "       'number_emergency', 'number_inpatient', 'diag_1', 'diag_2', 'diag_3',\n",
              "       'diag_5', 'number_diagnoses', 'X1', 'X2', 'X3', 'X4', 'X5', 'X6', 'X7',\n",
              "       'X9', 'X10', 'X11', 'X12', 'X13', 'X14', 'X15', 'X16', 'X17', 'X20',\n",
              "       'X21', 'X22', 'X23', 'X24', 'change', 'diabetesMed', 'med_spec'],\n",
              "      dtype='object')"
            ]
          },
          "metadata": {},
          "execution_count": 67
        }
      ],
      "source": [
        "test.columns"
      ],
      "id": "4I057FQi7G-7"
    },
    {
      "cell_type": "code",
      "execution_count": 68,
      "metadata": {
        "colab": {
          "base_uri": "https://localhost:8080/"
        },
        "id": "HZjO4_JY4F3d",
        "outputId": "fe0715d6-6bc2-4fb2-94ca-c7fdb6732e6c"
      },
      "outputs": [
        {
          "output_type": "stream",
          "name": "stdout",
          "text": [
            "Before conversion:\n",
            " race                   object\n",
            "gender                 object\n",
            "age                    object\n",
            "time_in_hospital        int64\n",
            "num_lab_procedures      int64\n",
            "num_procedures          int64\n",
            "num_medications         int64\n",
            "number_outpatient       int64\n",
            "number_emergency        int64\n",
            "number_inpatient        int64\n",
            "diag_1                float64\n",
            "diag_2                float64\n",
            "diag_3                float64\n",
            "diag_5                float64\n",
            "number_diagnoses        int64\n",
            "X1                     object\n",
            "X2                     object\n",
            "X3                     object\n",
            "X4                     object\n",
            "X5                     object\n",
            "X6                     object\n",
            "X7                     object\n",
            "X9                     object\n",
            "X10                    object\n",
            "X11                    object\n",
            "X12                    object\n",
            "X13                    object\n",
            "X14                    object\n",
            "X15                    object\n",
            "X16                    object\n",
            "X17                    object\n",
            "X20                    object\n",
            "X21                    object\n",
            "X22                    object\n",
            "X23                    object\n",
            "X24                    object\n",
            "change                 object\n",
            "diabetesMed            object\n",
            "readmitted              int64\n",
            "med_spec               object\n",
            "dtype: object \n",
            "\n",
            "After conversion:\n",
            " race                  category\n",
            "gender                category\n",
            "age                   category\n",
            "time_in_hospital         int64\n",
            "num_lab_procedures       int64\n",
            "num_procedures           int64\n",
            "num_medications          int64\n",
            "number_outpatient        int64\n",
            "number_emergency         int64\n",
            "number_inpatient         int64\n",
            "diag_1                 float64\n",
            "diag_2                 float64\n",
            "diag_3                 float64\n",
            "diag_5                 float64\n",
            "number_diagnoses         int64\n",
            "X1                    category\n",
            "X2                    category\n",
            "X3                    category\n",
            "X4                    category\n",
            "X5                    category\n",
            "X6                    category\n",
            "X7                    category\n",
            "X9                    category\n",
            "X10                   category\n",
            "X11                   category\n",
            "X12                   category\n",
            "X13                   category\n",
            "X14                   category\n",
            "X15                   category\n",
            "X16                   category\n",
            "X17                   category\n",
            "X20                   category\n",
            "X21                   category\n",
            "X22                   category\n",
            "X23                   category\n",
            "X24                   category\n",
            "change                category\n",
            "diabetesMed           category\n",
            "readmitted               int64\n",
            "med_spec              category\n",
            "dtype: object \n",
            "\n"
          ]
        }
      ],
      "source": [
        "#we see 32 columns as categorical on train (we are not considering X8,X18,X19,X25 since all records have same values and hence they won't have any impact on the model)\n",
        "cat_cols = ['race','gender', 'age','med_spec','X1', 'X2', 'X3', 'X4', 'X5',\n",
        "       'X6', 'X7', 'X9', 'X10', 'X11', 'X12', 'X13', 'X14', 'X15', 'X16',\n",
        "       'X17', 'X20', 'X21', 'X22', 'X23', 'X24', 'change',\n",
        "       'diabetesMed']\n",
        "df = convert_columns_types(df, cols = cat_cols)\n"
      ],
      "id": "HZjO4_JY4F3d"
    },
    {
      "cell_type": "code",
      "execution_count": 69,
      "metadata": {
        "colab": {
          "base_uri": "https://localhost:8080/"
        },
        "id": "usDGbcBQxewl",
        "outputId": "01288d90-1db5-4176-fdec-f7a45bca93f9"
      },
      "outputs": [
        {
          "output_type": "stream",
          "name": "stdout",
          "text": [
            "Before conversion:\n",
            " race                   object\n",
            "gender                 object\n",
            "age                    object\n",
            "time_in_hospital        int64\n",
            "num_lab_procedures      int64\n",
            "num_procedures          int64\n",
            "num_medications         int64\n",
            "number_outpatient       int64\n",
            "number_emergency        int64\n",
            "number_inpatient        int64\n",
            "diag_1                float64\n",
            "diag_2                float64\n",
            "diag_3                float64\n",
            "diag_5                float64\n",
            "number_diagnoses        int64\n",
            "X1                     object\n",
            "X2                     object\n",
            "X3                     object\n",
            "X4                     object\n",
            "X5                     object\n",
            "X6                     object\n",
            "X7                     object\n",
            "X9                     object\n",
            "X10                    object\n",
            "X11                    object\n",
            "X12                    object\n",
            "X13                    object\n",
            "X14                    object\n",
            "X15                    object\n",
            "X16                    object\n",
            "X17                    object\n",
            "X20                    object\n",
            "X21                    object\n",
            "X22                    object\n",
            "X23                    object\n",
            "X24                    object\n",
            "change                 object\n",
            "diabetesMed            object\n",
            "med_spec               object\n",
            "dtype: object \n",
            "\n",
            "After conversion:\n",
            " race                  category\n",
            "gender                category\n",
            "age                   category\n",
            "time_in_hospital         int64\n",
            "num_lab_procedures       int64\n",
            "num_procedures           int64\n",
            "num_medications          int64\n",
            "number_outpatient        int64\n",
            "number_emergency         int64\n",
            "number_inpatient         int64\n",
            "diag_1                 float64\n",
            "diag_2                 float64\n",
            "diag_3                 float64\n",
            "diag_5                 float64\n",
            "number_diagnoses         int64\n",
            "X1                    category\n",
            "X2                    category\n",
            "X3                    category\n",
            "X4                    category\n",
            "X5                    category\n",
            "X6                    category\n",
            "X7                    category\n",
            "X9                    category\n",
            "X10                   category\n",
            "X11                   category\n",
            "X12                   category\n",
            "X13                   category\n",
            "X14                   category\n",
            "X15                   category\n",
            "X16                   category\n",
            "X17                   category\n",
            "X20                   category\n",
            "X21                   category\n",
            "X22                   category\n",
            "X23                   category\n",
            "X24                   category\n",
            "change                category\n",
            "diabetesMed           category\n",
            "med_spec              category\n",
            "dtype: object \n",
            "\n"
          ]
        }
      ],
      "source": [
        "#we see 32 columns out of 49 as categorical on test\n",
        "cat_cols_test = ['race','gender', 'age','med_spec','X1', 'X2', 'X3', 'X4', 'X5',\n",
        "       'X6', 'X7', 'X9', 'X10', 'X11', 'X12', 'X13', 'X14', 'X15', 'X16',\n",
        "       'X17', 'X20', 'X21', 'X22', 'X23', 'X24', 'change',\n",
        "       'diabetesMed']\n",
        "test = convert_columns_types(test, cols = cat_cols_test)"
      ],
      "id": "usDGbcBQxewl"
    },
    {
      "cell_type": "code",
      "execution_count": 70,
      "metadata": {
        "colab": {
          "base_uri": "https://localhost:8080/"
        },
        "id": "NOOy1qIG0lkz",
        "outputId": "fbf19d5e-a108-4659-b58b-9762c35078c7"
      },
      "outputs": [
        {
          "output_type": "execute_result",
          "data": {
            "text/plain": [
              "race                      6\n",
              "gender                    3\n",
              "age                       3\n",
              "time_in_hospital         14\n",
              "num_lab_procedures      113\n",
              "num_procedures            7\n",
              "num_medications          71\n",
              "number_outpatient        33\n",
              "number_emergency         26\n",
              "number_inpatient         19\n",
              "diag_1                  638\n",
              "diag_2                  574\n",
              "diag_3                  607\n",
              "diag_5                48911\n",
              "number_diagnoses         16\n",
              "X1                        4\n",
              "X2                        4\n",
              "X3                        4\n",
              "X4                        4\n",
              "X5                        4\n",
              "X6                        3\n",
              "X7                        4\n",
              "X9                        4\n",
              "X10                       4\n",
              "X11                       2\n",
              "X12                       4\n",
              "X13                       4\n",
              "X14                       4\n",
              "X15                       3\n",
              "X16                       2\n",
              "X17                       2\n",
              "X20                       4\n",
              "X21                       4\n",
              "X22                       2\n",
              "X23                       2\n",
              "X24                       2\n",
              "change                    2\n",
              "diabetesMed               2\n",
              "readmitted                2\n",
              "med_spec                 16\n",
              "dtype: int64"
            ]
          },
          "metadata": {},
          "execution_count": 70
        }
      ],
      "source": [
        "df.nunique()"
      ],
      "id": "NOOy1qIG0lkz"
    },
    {
      "cell_type": "markdown",
      "metadata": {
        "id": "KApk4nniHvrw"
      },
      "source": [
        "# Convert diag_1,diag_2,diag_3 dtype into float64"
      ],
      "id": "KApk4nniHvrw"
    },
    {
      "cell_type": "code",
      "execution_count": 71,
      "metadata": {
        "colab": {
          "base_uri": "https://localhost:8080/"
        },
        "id": "UcV2Ah46JEQW",
        "outputId": "2a65926e-acd5-4f82-ddba-a3b326bbfc42"
      },
      "outputs": [
        {
          "output_type": "execute_result",
          "data": {
            "text/plain": [
              "Index(['race', 'gender', 'age', 'time_in_hospital', 'num_lab_procedures',\n",
              "       'num_procedures', 'num_medications', 'number_outpatient',\n",
              "       'number_emergency', 'number_inpatient', 'diag_1', 'diag_2', 'diag_3',\n",
              "       'diag_5', 'number_diagnoses', 'X1', 'X2', 'X3', 'X4', 'X5', 'X6', 'X7',\n",
              "       'X9', 'X10', 'X11', 'X12', 'X13', 'X14', 'X15', 'X16', 'X17', 'X20',\n",
              "       'X21', 'X22', 'X23', 'X24', 'change', 'diabetesMed', 'readmitted',\n",
              "       'med_spec'],\n",
              "      dtype='object')"
            ]
          },
          "metadata": {},
          "execution_count": 71
        }
      ],
      "source": [
        "df.columns"
      ],
      "id": "UcV2Ah46JEQW"
    },
    {
      "cell_type": "code",
      "execution_count": 72,
      "metadata": {
        "id": "TPKgJuDHKC44"
      },
      "outputs": [],
      "source": [
        "diag = ['diag_1','diag_2', 'diag_3']"
      ],
      "id": "TPKgJuDHKC44"
    },
    {
      "cell_type": "code",
      "execution_count": 73,
      "metadata": {
        "id": "4KUrYLnB8k9W"
      },
      "outputs": [],
      "source": [
        "def convert_diag_dtypes(DataFrame, cols=None, col_type = 'float64'):\n",
        "    print('Before conversion:\\n', DataFrame.dtypes,'\\n')\n",
        "    DataFrame[cols] = DataFrame[cols].astype(col_type)\n",
        "    print('After conversion:\\n', DataFrame.dtypes,'\\n')\n",
        "    return DataFrame"
      ],
      "id": "4KUrYLnB8k9W"
    },
    {
      "cell_type": "code",
      "execution_count": 74,
      "metadata": {
        "colab": {
          "base_uri": "https://localhost:8080/",
          "height": 1000
        },
        "id": "QuTTo4cmJ5uu",
        "outputId": "ae19e2a5-ca70-4697-8468-50da9769c39e"
      },
      "outputs": [
        {
          "output_type": "stream",
          "name": "stdout",
          "text": [
            "Before conversion:\n",
            " race                  category\n",
            "gender                category\n",
            "age                   category\n",
            "time_in_hospital         int64\n",
            "num_lab_procedures       int64\n",
            "num_procedures           int64\n",
            "num_medications          int64\n",
            "number_outpatient        int64\n",
            "number_emergency         int64\n",
            "number_inpatient         int64\n",
            "diag_1                 float64\n",
            "diag_2                 float64\n",
            "diag_3                 float64\n",
            "diag_5                 float64\n",
            "number_diagnoses         int64\n",
            "X1                    category\n",
            "X2                    category\n",
            "X3                    category\n",
            "X4                    category\n",
            "X5                    category\n",
            "X6                    category\n",
            "X7                    category\n",
            "X9                    category\n",
            "X10                   category\n",
            "X11                   category\n",
            "X12                   category\n",
            "X13                   category\n",
            "X14                   category\n",
            "X15                   category\n",
            "X16                   category\n",
            "X17                   category\n",
            "X20                   category\n",
            "X21                   category\n",
            "X22                   category\n",
            "X23                   category\n",
            "X24                   category\n",
            "change                category\n",
            "diabetesMed           category\n",
            "readmitted               int64\n",
            "med_spec              category\n",
            "dtype: object \n",
            "\n",
            "After conversion:\n",
            " race                  category\n",
            "gender                category\n",
            "age                   category\n",
            "time_in_hospital         int64\n",
            "num_lab_procedures       int64\n",
            "num_procedures           int64\n",
            "num_medications          int64\n",
            "number_outpatient        int64\n",
            "number_emergency         int64\n",
            "number_inpatient         int64\n",
            "diag_1                 float64\n",
            "diag_2                 float64\n",
            "diag_3                 float64\n",
            "diag_5                 float64\n",
            "number_diagnoses         int64\n",
            "X1                    category\n",
            "X2                    category\n",
            "X3                    category\n",
            "X4                    category\n",
            "X5                    category\n",
            "X6                    category\n",
            "X7                    category\n",
            "X9                    category\n",
            "X10                   category\n",
            "X11                   category\n",
            "X12                   category\n",
            "X13                   category\n",
            "X14                   category\n",
            "X15                   category\n",
            "X16                   category\n",
            "X17                   category\n",
            "X20                   category\n",
            "X21                   category\n",
            "X22                   category\n",
            "X23                   category\n",
            "X24                   category\n",
            "change                category\n",
            "diabetesMed           category\n",
            "readmitted               int64\n",
            "med_spec              category\n",
            "dtype: object \n",
            "\n"
          ]
        },
        {
          "output_type": "execute_result",
          "data": {
            "text/plain": [
              "                  race  gender     age  time_in_hospital  num_lab_procedures  \\\n",
              "0             Hispanic    Male     Old                 4                  39   \n",
              "1            Caucasian    Male     Old                 3                  34   \n",
              "2            Caucasian  Female  Middle                 6                  50   \n",
              "3      AfricanAmerican  Female     Old                 5                  63   \n",
              "4            Caucasian    Male     Old                 9                  17   \n",
              "...                ...     ...     ...               ...                 ...   \n",
              "66582        Caucasian  Female     Old                11                  40   \n",
              "66583        Caucasian    Male     Old                 4                  39   \n",
              "66584        Caucasian  Female     Old                 2                  24   \n",
              "66585          Unknown  Female     Old                 4                  39   \n",
              "66586        Caucasian  Female     Old                 2                  38   \n",
              "\n",
              "       num_procedures  num_medications  number_outpatient  number_emergency  \\\n",
              "0                   1                9                  1                 1   \n",
              "1                   1               12                  0                 0   \n",
              "2                   2               24                  0                 0   \n",
              "3                   0               14                  0                 0   \n",
              "4                   1               11                  0                 0   \n",
              "...               ...              ...                ...               ...   \n",
              "66582               4               35                  0                 0   \n",
              "66583               1                7                  0                 0   \n",
              "66584               1               13                  0                 0   \n",
              "66585               1               14                  0                 0   \n",
              "66586               2               12                  0                 0   \n",
              "\n",
              "       number_inpatient  ...  X17     X20  X21  X22  X23 X24 change  \\\n",
              "0                     4  ...   No      No   No   No   No  No     No   \n",
              "1                     0  ...   No      No   No   No   No  No     No   \n",
              "2                     5  ...   No    Down   No   No   No  No     Ch   \n",
              "3                     0  ...   No    Down   No   No   No  No     Ch   \n",
              "4                     0  ...   No      No   No   No   No  No     No   \n",
              "...                 ...  ...  ...     ...  ...  ...  ...  ..    ...   \n",
              "66582                 0  ...   No  Steady   No   No   No  No     No   \n",
              "66583                 0  ...   No      No   No   No   No  No     No   \n",
              "66584                 2  ...   No      No   No   No   No  No     No   \n",
              "66585                 0  ...   No      No   No   No   No  No     No   \n",
              "66586                 0  ...   No  Steady   No   No   No  No     Ch   \n",
              "\n",
              "      diabetesMed readmitted          med_spec  \n",
              "0             Yes          1  Emergency/Trauma  \n",
              "1              No          0  Emergency/Trauma  \n",
              "2             Yes          1        Nephrology  \n",
              "3             Yes          1             Other  \n",
              "4              No          1        Psychiatry  \n",
              "...           ...        ...               ...  \n",
              "66582         Yes          0  InternalMedicine  \n",
              "66583          No          1             Other  \n",
              "66584         Yes          1             Other  \n",
              "66585          No          0  InternalMedicine  \n",
              "66586         Yes          1             Other  \n",
              "\n",
              "[48911 rows x 40 columns]"
            ],
            "text/html": [
              "\n",
              "  <div id=\"df-ed4e3104-f791-4a9c-ad27-1e5dd6a89cef\">\n",
              "    <div class=\"colab-df-container\">\n",
              "      <div>\n",
              "<style scoped>\n",
              "    .dataframe tbody tr th:only-of-type {\n",
              "        vertical-align: middle;\n",
              "    }\n",
              "\n",
              "    .dataframe tbody tr th {\n",
              "        vertical-align: top;\n",
              "    }\n",
              "\n",
              "    .dataframe thead th {\n",
              "        text-align: right;\n",
              "    }\n",
              "</style>\n",
              "<table border=\"1\" class=\"dataframe\">\n",
              "  <thead>\n",
              "    <tr style=\"text-align: right;\">\n",
              "      <th></th>\n",
              "      <th>race</th>\n",
              "      <th>gender</th>\n",
              "      <th>age</th>\n",
              "      <th>time_in_hospital</th>\n",
              "      <th>num_lab_procedures</th>\n",
              "      <th>num_procedures</th>\n",
              "      <th>num_medications</th>\n",
              "      <th>number_outpatient</th>\n",
              "      <th>number_emergency</th>\n",
              "      <th>number_inpatient</th>\n",
              "      <th>...</th>\n",
              "      <th>X17</th>\n",
              "      <th>X20</th>\n",
              "      <th>X21</th>\n",
              "      <th>X22</th>\n",
              "      <th>X23</th>\n",
              "      <th>X24</th>\n",
              "      <th>change</th>\n",
              "      <th>diabetesMed</th>\n",
              "      <th>readmitted</th>\n",
              "      <th>med_spec</th>\n",
              "    </tr>\n",
              "  </thead>\n",
              "  <tbody>\n",
              "    <tr>\n",
              "      <th>0</th>\n",
              "      <td>Hispanic</td>\n",
              "      <td>Male</td>\n",
              "      <td>Old</td>\n",
              "      <td>4</td>\n",
              "      <td>39</td>\n",
              "      <td>1</td>\n",
              "      <td>9</td>\n",
              "      <td>1</td>\n",
              "      <td>1</td>\n",
              "      <td>4</td>\n",
              "      <td>...</td>\n",
              "      <td>No</td>\n",
              "      <td>No</td>\n",
              "      <td>No</td>\n",
              "      <td>No</td>\n",
              "      <td>No</td>\n",
              "      <td>No</td>\n",
              "      <td>No</td>\n",
              "      <td>Yes</td>\n",
              "      <td>1</td>\n",
              "      <td>Emergency/Trauma</td>\n",
              "    </tr>\n",
              "    <tr>\n",
              "      <th>1</th>\n",
              "      <td>Caucasian</td>\n",
              "      <td>Male</td>\n",
              "      <td>Old</td>\n",
              "      <td>3</td>\n",
              "      <td>34</td>\n",
              "      <td>1</td>\n",
              "      <td>12</td>\n",
              "      <td>0</td>\n",
              "      <td>0</td>\n",
              "      <td>0</td>\n",
              "      <td>...</td>\n",
              "      <td>No</td>\n",
              "      <td>No</td>\n",
              "      <td>No</td>\n",
              "      <td>No</td>\n",
              "      <td>No</td>\n",
              "      <td>No</td>\n",
              "      <td>No</td>\n",
              "      <td>No</td>\n",
              "      <td>0</td>\n",
              "      <td>Emergency/Trauma</td>\n",
              "    </tr>\n",
              "    <tr>\n",
              "      <th>2</th>\n",
              "      <td>Caucasian</td>\n",
              "      <td>Female</td>\n",
              "      <td>Middle</td>\n",
              "      <td>6</td>\n",
              "      <td>50</td>\n",
              "      <td>2</td>\n",
              "      <td>24</td>\n",
              "      <td>0</td>\n",
              "      <td>0</td>\n",
              "      <td>5</td>\n",
              "      <td>...</td>\n",
              "      <td>No</td>\n",
              "      <td>Down</td>\n",
              "      <td>No</td>\n",
              "      <td>No</td>\n",
              "      <td>No</td>\n",
              "      <td>No</td>\n",
              "      <td>Ch</td>\n",
              "      <td>Yes</td>\n",
              "      <td>1</td>\n",
              "      <td>Nephrology</td>\n",
              "    </tr>\n",
              "    <tr>\n",
              "      <th>3</th>\n",
              "      <td>AfricanAmerican</td>\n",
              "      <td>Female</td>\n",
              "      <td>Old</td>\n",
              "      <td>5</td>\n",
              "      <td>63</td>\n",
              "      <td>0</td>\n",
              "      <td>14</td>\n",
              "      <td>0</td>\n",
              "      <td>0</td>\n",
              "      <td>0</td>\n",
              "      <td>...</td>\n",
              "      <td>No</td>\n",
              "      <td>Down</td>\n",
              "      <td>No</td>\n",
              "      <td>No</td>\n",
              "      <td>No</td>\n",
              "      <td>No</td>\n",
              "      <td>Ch</td>\n",
              "      <td>Yes</td>\n",
              "      <td>1</td>\n",
              "      <td>Other</td>\n",
              "    </tr>\n",
              "    <tr>\n",
              "      <th>4</th>\n",
              "      <td>Caucasian</td>\n",
              "      <td>Male</td>\n",
              "      <td>Old</td>\n",
              "      <td>9</td>\n",
              "      <td>17</td>\n",
              "      <td>1</td>\n",
              "      <td>11</td>\n",
              "      <td>0</td>\n",
              "      <td>0</td>\n",
              "      <td>0</td>\n",
              "      <td>...</td>\n",
              "      <td>No</td>\n",
              "      <td>No</td>\n",
              "      <td>No</td>\n",
              "      <td>No</td>\n",
              "      <td>No</td>\n",
              "      <td>No</td>\n",
              "      <td>No</td>\n",
              "      <td>No</td>\n",
              "      <td>1</td>\n",
              "      <td>Psychiatry</td>\n",
              "    </tr>\n",
              "    <tr>\n",
              "      <th>...</th>\n",
              "      <td>...</td>\n",
              "      <td>...</td>\n",
              "      <td>...</td>\n",
              "      <td>...</td>\n",
              "      <td>...</td>\n",
              "      <td>...</td>\n",
              "      <td>...</td>\n",
              "      <td>...</td>\n",
              "      <td>...</td>\n",
              "      <td>...</td>\n",
              "      <td>...</td>\n",
              "      <td>...</td>\n",
              "      <td>...</td>\n",
              "      <td>...</td>\n",
              "      <td>...</td>\n",
              "      <td>...</td>\n",
              "      <td>...</td>\n",
              "      <td>...</td>\n",
              "      <td>...</td>\n",
              "      <td>...</td>\n",
              "      <td>...</td>\n",
              "    </tr>\n",
              "    <tr>\n",
              "      <th>66582</th>\n",
              "      <td>Caucasian</td>\n",
              "      <td>Female</td>\n",
              "      <td>Old</td>\n",
              "      <td>11</td>\n",
              "      <td>40</td>\n",
              "      <td>4</td>\n",
              "      <td>35</td>\n",
              "      <td>0</td>\n",
              "      <td>0</td>\n",
              "      <td>0</td>\n",
              "      <td>...</td>\n",
              "      <td>No</td>\n",
              "      <td>Steady</td>\n",
              "      <td>No</td>\n",
              "      <td>No</td>\n",
              "      <td>No</td>\n",
              "      <td>No</td>\n",
              "      <td>No</td>\n",
              "      <td>Yes</td>\n",
              "      <td>0</td>\n",
              "      <td>InternalMedicine</td>\n",
              "    </tr>\n",
              "    <tr>\n",
              "      <th>66583</th>\n",
              "      <td>Caucasian</td>\n",
              "      <td>Male</td>\n",
              "      <td>Old</td>\n",
              "      <td>4</td>\n",
              "      <td>39</td>\n",
              "      <td>1</td>\n",
              "      <td>7</td>\n",
              "      <td>0</td>\n",
              "      <td>0</td>\n",
              "      <td>0</td>\n",
              "      <td>...</td>\n",
              "      <td>No</td>\n",
              "      <td>No</td>\n",
              "      <td>No</td>\n",
              "      <td>No</td>\n",
              "      <td>No</td>\n",
              "      <td>No</td>\n",
              "      <td>No</td>\n",
              "      <td>No</td>\n",
              "      <td>1</td>\n",
              "      <td>Other</td>\n",
              "    </tr>\n",
              "    <tr>\n",
              "      <th>66584</th>\n",
              "      <td>Caucasian</td>\n",
              "      <td>Female</td>\n",
              "      <td>Old</td>\n",
              "      <td>2</td>\n",
              "      <td>24</td>\n",
              "      <td>1</td>\n",
              "      <td>13</td>\n",
              "      <td>0</td>\n",
              "      <td>0</td>\n",
              "      <td>2</td>\n",
              "      <td>...</td>\n",
              "      <td>No</td>\n",
              "      <td>No</td>\n",
              "      <td>No</td>\n",
              "      <td>No</td>\n",
              "      <td>No</td>\n",
              "      <td>No</td>\n",
              "      <td>No</td>\n",
              "      <td>Yes</td>\n",
              "      <td>1</td>\n",
              "      <td>Other</td>\n",
              "    </tr>\n",
              "    <tr>\n",
              "      <th>66585</th>\n",
              "      <td>Unknown</td>\n",
              "      <td>Female</td>\n",
              "      <td>Old</td>\n",
              "      <td>4</td>\n",
              "      <td>39</td>\n",
              "      <td>1</td>\n",
              "      <td>14</td>\n",
              "      <td>0</td>\n",
              "      <td>0</td>\n",
              "      <td>0</td>\n",
              "      <td>...</td>\n",
              "      <td>No</td>\n",
              "      <td>No</td>\n",
              "      <td>No</td>\n",
              "      <td>No</td>\n",
              "      <td>No</td>\n",
              "      <td>No</td>\n",
              "      <td>No</td>\n",
              "      <td>No</td>\n",
              "      <td>0</td>\n",
              "      <td>InternalMedicine</td>\n",
              "    </tr>\n",
              "    <tr>\n",
              "      <th>66586</th>\n",
              "      <td>Caucasian</td>\n",
              "      <td>Female</td>\n",
              "      <td>Old</td>\n",
              "      <td>2</td>\n",
              "      <td>38</td>\n",
              "      <td>2</td>\n",
              "      <td>12</td>\n",
              "      <td>0</td>\n",
              "      <td>0</td>\n",
              "      <td>0</td>\n",
              "      <td>...</td>\n",
              "      <td>No</td>\n",
              "      <td>Steady</td>\n",
              "      <td>No</td>\n",
              "      <td>No</td>\n",
              "      <td>No</td>\n",
              "      <td>No</td>\n",
              "      <td>Ch</td>\n",
              "      <td>Yes</td>\n",
              "      <td>1</td>\n",
              "      <td>Other</td>\n",
              "    </tr>\n",
              "  </tbody>\n",
              "</table>\n",
              "<p>48911 rows × 40 columns</p>\n",
              "</div>\n",
              "      <button class=\"colab-df-convert\" onclick=\"convertToInteractive('df-ed4e3104-f791-4a9c-ad27-1e5dd6a89cef')\"\n",
              "              title=\"Convert this dataframe to an interactive table.\"\n",
              "              style=\"display:none;\">\n",
              "        \n",
              "  <svg xmlns=\"http://www.w3.org/2000/svg\" height=\"24px\"viewBox=\"0 0 24 24\"\n",
              "       width=\"24px\">\n",
              "    <path d=\"M0 0h24v24H0V0z\" fill=\"none\"/>\n",
              "    <path d=\"M18.56 5.44l.94 2.06.94-2.06 2.06-.94-2.06-.94-.94-2.06-.94 2.06-2.06.94zm-11 1L8.5 8.5l.94-2.06 2.06-.94-2.06-.94L8.5 2.5l-.94 2.06-2.06.94zm10 10l.94 2.06.94-2.06 2.06-.94-2.06-.94-.94-2.06-.94 2.06-2.06.94z\"/><path d=\"M17.41 7.96l-1.37-1.37c-.4-.4-.92-.59-1.43-.59-.52 0-1.04.2-1.43.59L10.3 9.45l-7.72 7.72c-.78.78-.78 2.05 0 2.83L4 21.41c.39.39.9.59 1.41.59.51 0 1.02-.2 1.41-.59l7.78-7.78 2.81-2.81c.8-.78.8-2.07 0-2.86zM5.41 20L4 18.59l7.72-7.72 1.47 1.35L5.41 20z\"/>\n",
              "  </svg>\n",
              "      </button>\n",
              "      \n",
              "  <style>\n",
              "    .colab-df-container {\n",
              "      display:flex;\n",
              "      flex-wrap:wrap;\n",
              "      gap: 12px;\n",
              "    }\n",
              "\n",
              "    .colab-df-convert {\n",
              "      background-color: #E8F0FE;\n",
              "      border: none;\n",
              "      border-radius: 50%;\n",
              "      cursor: pointer;\n",
              "      display: none;\n",
              "      fill: #1967D2;\n",
              "      height: 32px;\n",
              "      padding: 0 0 0 0;\n",
              "      width: 32px;\n",
              "    }\n",
              "\n",
              "    .colab-df-convert:hover {\n",
              "      background-color: #E2EBFA;\n",
              "      box-shadow: 0px 1px 2px rgba(60, 64, 67, 0.3), 0px 1px 3px 1px rgba(60, 64, 67, 0.15);\n",
              "      fill: #174EA6;\n",
              "    }\n",
              "\n",
              "    [theme=dark] .colab-df-convert {\n",
              "      background-color: #3B4455;\n",
              "      fill: #D2E3FC;\n",
              "    }\n",
              "\n",
              "    [theme=dark] .colab-df-convert:hover {\n",
              "      background-color: #434B5C;\n",
              "      box-shadow: 0px 1px 3px 1px rgba(0, 0, 0, 0.15);\n",
              "      filter: drop-shadow(0px 1px 2px rgba(0, 0, 0, 0.3));\n",
              "      fill: #FFFFFF;\n",
              "    }\n",
              "  </style>\n",
              "\n",
              "      <script>\n",
              "        const buttonEl =\n",
              "          document.querySelector('#df-ed4e3104-f791-4a9c-ad27-1e5dd6a89cef button.colab-df-convert');\n",
              "        buttonEl.style.display =\n",
              "          google.colab.kernel.accessAllowed ? 'block' : 'none';\n",
              "\n",
              "        async function convertToInteractive(key) {\n",
              "          const element = document.querySelector('#df-ed4e3104-f791-4a9c-ad27-1e5dd6a89cef');\n",
              "          const dataTable =\n",
              "            await google.colab.kernel.invokeFunction('convertToInteractive',\n",
              "                                                     [key], {});\n",
              "          if (!dataTable) return;\n",
              "\n",
              "          const docLinkHtml = 'Like what you see? Visit the ' +\n",
              "            '<a target=\"_blank\" href=https://colab.research.google.com/notebooks/data_table.ipynb>data table notebook</a>'\n",
              "            + ' to learn more about interactive tables.';\n",
              "          element.innerHTML = '';\n",
              "          dataTable['output_type'] = 'display_data';\n",
              "          await google.colab.output.renderOutput(dataTable, element);\n",
              "          const docLink = document.createElement('div');\n",
              "          docLink.innerHTML = docLinkHtml;\n",
              "          element.appendChild(docLink);\n",
              "        }\n",
              "      </script>\n",
              "    </div>\n",
              "  </div>\n",
              "  "
            ]
          },
          "metadata": {},
          "execution_count": 74
        }
      ],
      "source": [
        "convert_diag_dtypes(df, cols= diag)"
      ],
      "id": "QuTTo4cmJ5uu"
    },
    {
      "cell_type": "code",
      "execution_count": 75,
      "metadata": {
        "colab": {
          "base_uri": "https://localhost:8080/",
          "height": 1000
        },
        "id": "rgZe5n0bx3lL",
        "outputId": "65218510-4124-43c3-e0c8-39e37946bb15"
      },
      "outputs": [
        {
          "output_type": "stream",
          "name": "stdout",
          "text": [
            "Before conversion:\n",
            " race                  category\n",
            "gender                category\n",
            "age                   category\n",
            "time_in_hospital         int64\n",
            "num_lab_procedures       int64\n",
            "num_procedures           int64\n",
            "num_medications          int64\n",
            "number_outpatient        int64\n",
            "number_emergency         int64\n",
            "number_inpatient         int64\n",
            "diag_1                 float64\n",
            "diag_2                 float64\n",
            "diag_3                 float64\n",
            "diag_5                 float64\n",
            "number_diagnoses         int64\n",
            "X1                    category\n",
            "X2                    category\n",
            "X3                    category\n",
            "X4                    category\n",
            "X5                    category\n",
            "X6                    category\n",
            "X7                    category\n",
            "X9                    category\n",
            "X10                   category\n",
            "X11                   category\n",
            "X12                   category\n",
            "X13                   category\n",
            "X14                   category\n",
            "X15                   category\n",
            "X16                   category\n",
            "X17                   category\n",
            "X20                   category\n",
            "X21                   category\n",
            "X22                   category\n",
            "X23                   category\n",
            "X24                   category\n",
            "change                category\n",
            "diabetesMed           category\n",
            "med_spec              category\n",
            "dtype: object \n",
            "\n",
            "After conversion:\n",
            " race                  category\n",
            "gender                category\n",
            "age                   category\n",
            "time_in_hospital         int64\n",
            "num_lab_procedures       int64\n",
            "num_procedures           int64\n",
            "num_medications          int64\n",
            "number_outpatient        int64\n",
            "number_emergency         int64\n",
            "number_inpatient         int64\n",
            "diag_1                 float64\n",
            "diag_2                 float64\n",
            "diag_3                 float64\n",
            "diag_5                 float64\n",
            "number_diagnoses         int64\n",
            "X1                    category\n",
            "X2                    category\n",
            "X3                    category\n",
            "X4                    category\n",
            "X5                    category\n",
            "X6                    category\n",
            "X7                    category\n",
            "X9                    category\n",
            "X10                   category\n",
            "X11                   category\n",
            "X12                   category\n",
            "X13                   category\n",
            "X14                   category\n",
            "X15                   category\n",
            "X16                   category\n",
            "X17                   category\n",
            "X20                   category\n",
            "X21                   category\n",
            "X22                   category\n",
            "X23                   category\n",
            "X24                   category\n",
            "change                category\n",
            "diabetesMed           category\n",
            "med_spec              category\n",
            "dtype: object \n",
            "\n"
          ]
        },
        {
          "output_type": "execute_result",
          "data": {
            "text/plain": [
              "                  race  gender     age  time_in_hospital  num_lab_procedures  \\\n",
              "0            Caucasian  Female     Old                 3                  45   \n",
              "1            Caucasian    Male     Old                 2                  10   \n",
              "2      AfricanAmerican    Male     Old                11                  41   \n",
              "3            Caucasian  Female     Old                 1                  71   \n",
              "4      AfricanAmerican  Female  Middle                 7                  59   \n",
              "...                ...     ...     ...               ...                 ...   \n",
              "16640            Other  Female  Middle                 6                  39   \n",
              "16643        Caucasian    Male     Old                 2                  37   \n",
              "16644        Caucasian  Female  Middle                 2                  14   \n",
              "16645          Unknown    Male     Old                 1                  35   \n",
              "16646        Caucasian  Female     Old                 1                  13   \n",
              "\n",
              "       num_procedures  num_medications  number_outpatient  number_emergency  \\\n",
              "0                   3               10                  0                 0   \n",
              "1                   1               16                  1                 0   \n",
              "2                   1               15                  0                 0   \n",
              "3                   2               11                  0                 0   \n",
              "4                   2               18                  0                 0   \n",
              "...               ...              ...                ...               ...   \n",
              "16640               0               13                  0                 0   \n",
              "16643               0                8                  0                 0   \n",
              "16644               0                7                  0                 0   \n",
              "16645               0                4                  0                 0   \n",
              "16646               2               18                  1                 0   \n",
              "\n",
              "       number_inpatient  ...  X16  X17     X20  X21  X22 X23 X24 change  \\\n",
              "0                     1  ...   No   No      No   No   No  No  No     No   \n",
              "1                     0  ...   No   No      No   No   No  No  No     No   \n",
              "2                     1  ...   No   No  Steady   No   No  No  No     No   \n",
              "3                     0  ...   No   No      No   No   No  No  No     No   \n",
              "4                     0  ...   No   No  Steady   No   No  No  No     Ch   \n",
              "...                 ...  ...  ...  ...     ...  ...  ...  ..  ..    ...   \n",
              "16640                 0  ...   No   No      No   No   No  No  No     No   \n",
              "16643                 0  ...   No   No      No   No   No  No  No     Ch   \n",
              "16644                 2  ...   No   No      No   No   No  No  No     No   \n",
              "16645                 0  ...   No   No      No   No   No  No  No     No   \n",
              "16646                 0  ...   No   No      No   No   No  No  No     No   \n",
              "\n",
              "      diabetesMed                med_spec  \n",
              "0             Yes                   Other  \n",
              "1             Yes                   Other  \n",
              "2             Yes        InternalMedicine  \n",
              "3              No        InternalMedicine  \n",
              "4             Yes        InternalMedicine  \n",
              "...           ...                     ...  \n",
              "16640         Yes                   Other  \n",
              "16643         Yes        InternalMedicine  \n",
              "16644          No  Family/GeneralPractice  \n",
              "16645         Yes                   Other  \n",
              "16646         Yes              Cardiology  \n",
              "\n",
              "[15379 rows x 39 columns]"
            ],
            "text/html": [
              "\n",
              "  <div id=\"df-1575da27-6597-4eb4-9d2d-870da2695a28\">\n",
              "    <div class=\"colab-df-container\">\n",
              "      <div>\n",
              "<style scoped>\n",
              "    .dataframe tbody tr th:only-of-type {\n",
              "        vertical-align: middle;\n",
              "    }\n",
              "\n",
              "    .dataframe tbody tr th {\n",
              "        vertical-align: top;\n",
              "    }\n",
              "\n",
              "    .dataframe thead th {\n",
              "        text-align: right;\n",
              "    }\n",
              "</style>\n",
              "<table border=\"1\" class=\"dataframe\">\n",
              "  <thead>\n",
              "    <tr style=\"text-align: right;\">\n",
              "      <th></th>\n",
              "      <th>race</th>\n",
              "      <th>gender</th>\n",
              "      <th>age</th>\n",
              "      <th>time_in_hospital</th>\n",
              "      <th>num_lab_procedures</th>\n",
              "      <th>num_procedures</th>\n",
              "      <th>num_medications</th>\n",
              "      <th>number_outpatient</th>\n",
              "      <th>number_emergency</th>\n",
              "      <th>number_inpatient</th>\n",
              "      <th>...</th>\n",
              "      <th>X16</th>\n",
              "      <th>X17</th>\n",
              "      <th>X20</th>\n",
              "      <th>X21</th>\n",
              "      <th>X22</th>\n",
              "      <th>X23</th>\n",
              "      <th>X24</th>\n",
              "      <th>change</th>\n",
              "      <th>diabetesMed</th>\n",
              "      <th>med_spec</th>\n",
              "    </tr>\n",
              "  </thead>\n",
              "  <tbody>\n",
              "    <tr>\n",
              "      <th>0</th>\n",
              "      <td>Caucasian</td>\n",
              "      <td>Female</td>\n",
              "      <td>Old</td>\n",
              "      <td>3</td>\n",
              "      <td>45</td>\n",
              "      <td>3</td>\n",
              "      <td>10</td>\n",
              "      <td>0</td>\n",
              "      <td>0</td>\n",
              "      <td>1</td>\n",
              "      <td>...</td>\n",
              "      <td>No</td>\n",
              "      <td>No</td>\n",
              "      <td>No</td>\n",
              "      <td>No</td>\n",
              "      <td>No</td>\n",
              "      <td>No</td>\n",
              "      <td>No</td>\n",
              "      <td>No</td>\n",
              "      <td>Yes</td>\n",
              "      <td>Other</td>\n",
              "    </tr>\n",
              "    <tr>\n",
              "      <th>1</th>\n",
              "      <td>Caucasian</td>\n",
              "      <td>Male</td>\n",
              "      <td>Old</td>\n",
              "      <td>2</td>\n",
              "      <td>10</td>\n",
              "      <td>1</td>\n",
              "      <td>16</td>\n",
              "      <td>1</td>\n",
              "      <td>0</td>\n",
              "      <td>0</td>\n",
              "      <td>...</td>\n",
              "      <td>No</td>\n",
              "      <td>No</td>\n",
              "      <td>No</td>\n",
              "      <td>No</td>\n",
              "      <td>No</td>\n",
              "      <td>No</td>\n",
              "      <td>No</td>\n",
              "      <td>No</td>\n",
              "      <td>Yes</td>\n",
              "      <td>Other</td>\n",
              "    </tr>\n",
              "    <tr>\n",
              "      <th>2</th>\n",
              "      <td>AfricanAmerican</td>\n",
              "      <td>Male</td>\n",
              "      <td>Old</td>\n",
              "      <td>11</td>\n",
              "      <td>41</td>\n",
              "      <td>1</td>\n",
              "      <td>15</td>\n",
              "      <td>0</td>\n",
              "      <td>0</td>\n",
              "      <td>1</td>\n",
              "      <td>...</td>\n",
              "      <td>No</td>\n",
              "      <td>No</td>\n",
              "      <td>Steady</td>\n",
              "      <td>No</td>\n",
              "      <td>No</td>\n",
              "      <td>No</td>\n",
              "      <td>No</td>\n",
              "      <td>No</td>\n",
              "      <td>Yes</td>\n",
              "      <td>InternalMedicine</td>\n",
              "    </tr>\n",
              "    <tr>\n",
              "      <th>3</th>\n",
              "      <td>Caucasian</td>\n",
              "      <td>Female</td>\n",
              "      <td>Old</td>\n",
              "      <td>1</td>\n",
              "      <td>71</td>\n",
              "      <td>2</td>\n",
              "      <td>11</td>\n",
              "      <td>0</td>\n",
              "      <td>0</td>\n",
              "      <td>0</td>\n",
              "      <td>...</td>\n",
              "      <td>No</td>\n",
              "      <td>No</td>\n",
              "      <td>No</td>\n",
              "      <td>No</td>\n",
              "      <td>No</td>\n",
              "      <td>No</td>\n",
              "      <td>No</td>\n",
              "      <td>No</td>\n",
              "      <td>No</td>\n",
              "      <td>InternalMedicine</td>\n",
              "    </tr>\n",
              "    <tr>\n",
              "      <th>4</th>\n",
              "      <td>AfricanAmerican</td>\n",
              "      <td>Female</td>\n",
              "      <td>Middle</td>\n",
              "      <td>7</td>\n",
              "      <td>59</td>\n",
              "      <td>2</td>\n",
              "      <td>18</td>\n",
              "      <td>0</td>\n",
              "      <td>0</td>\n",
              "      <td>0</td>\n",
              "      <td>...</td>\n",
              "      <td>No</td>\n",
              "      <td>No</td>\n",
              "      <td>Steady</td>\n",
              "      <td>No</td>\n",
              "      <td>No</td>\n",
              "      <td>No</td>\n",
              "      <td>No</td>\n",
              "      <td>Ch</td>\n",
              "      <td>Yes</td>\n",
              "      <td>InternalMedicine</td>\n",
              "    </tr>\n",
              "    <tr>\n",
              "      <th>...</th>\n",
              "      <td>...</td>\n",
              "      <td>...</td>\n",
              "      <td>...</td>\n",
              "      <td>...</td>\n",
              "      <td>...</td>\n",
              "      <td>...</td>\n",
              "      <td>...</td>\n",
              "      <td>...</td>\n",
              "      <td>...</td>\n",
              "      <td>...</td>\n",
              "      <td>...</td>\n",
              "      <td>...</td>\n",
              "      <td>...</td>\n",
              "      <td>...</td>\n",
              "      <td>...</td>\n",
              "      <td>...</td>\n",
              "      <td>...</td>\n",
              "      <td>...</td>\n",
              "      <td>...</td>\n",
              "      <td>...</td>\n",
              "      <td>...</td>\n",
              "    </tr>\n",
              "    <tr>\n",
              "      <th>16640</th>\n",
              "      <td>Other</td>\n",
              "      <td>Female</td>\n",
              "      <td>Middle</td>\n",
              "      <td>6</td>\n",
              "      <td>39</td>\n",
              "      <td>0</td>\n",
              "      <td>13</td>\n",
              "      <td>0</td>\n",
              "      <td>0</td>\n",
              "      <td>0</td>\n",
              "      <td>...</td>\n",
              "      <td>No</td>\n",
              "      <td>No</td>\n",
              "      <td>No</td>\n",
              "      <td>No</td>\n",
              "      <td>No</td>\n",
              "      <td>No</td>\n",
              "      <td>No</td>\n",
              "      <td>No</td>\n",
              "      <td>Yes</td>\n",
              "      <td>Other</td>\n",
              "    </tr>\n",
              "    <tr>\n",
              "      <th>16643</th>\n",
              "      <td>Caucasian</td>\n",
              "      <td>Male</td>\n",
              "      <td>Old</td>\n",
              "      <td>2</td>\n",
              "      <td>37</td>\n",
              "      <td>0</td>\n",
              "      <td>8</td>\n",
              "      <td>0</td>\n",
              "      <td>0</td>\n",
              "      <td>0</td>\n",
              "      <td>...</td>\n",
              "      <td>No</td>\n",
              "      <td>No</td>\n",
              "      <td>No</td>\n",
              "      <td>No</td>\n",
              "      <td>No</td>\n",
              "      <td>No</td>\n",
              "      <td>No</td>\n",
              "      <td>Ch</td>\n",
              "      <td>Yes</td>\n",
              "      <td>InternalMedicine</td>\n",
              "    </tr>\n",
              "    <tr>\n",
              "      <th>16644</th>\n",
              "      <td>Caucasian</td>\n",
              "      <td>Female</td>\n",
              "      <td>Middle</td>\n",
              "      <td>2</td>\n",
              "      <td>14</td>\n",
              "      <td>0</td>\n",
              "      <td>7</td>\n",
              "      <td>0</td>\n",
              "      <td>0</td>\n",
              "      <td>2</td>\n",
              "      <td>...</td>\n",
              "      <td>No</td>\n",
              "      <td>No</td>\n",
              "      <td>No</td>\n",
              "      <td>No</td>\n",
              "      <td>No</td>\n",
              "      <td>No</td>\n",
              "      <td>No</td>\n",
              "      <td>No</td>\n",
              "      <td>No</td>\n",
              "      <td>Family/GeneralPractice</td>\n",
              "    </tr>\n",
              "    <tr>\n",
              "      <th>16645</th>\n",
              "      <td>Unknown</td>\n",
              "      <td>Male</td>\n",
              "      <td>Old</td>\n",
              "      <td>1</td>\n",
              "      <td>35</td>\n",
              "      <td>0</td>\n",
              "      <td>4</td>\n",
              "      <td>0</td>\n",
              "      <td>0</td>\n",
              "      <td>0</td>\n",
              "      <td>...</td>\n",
              "      <td>No</td>\n",
              "      <td>No</td>\n",
              "      <td>No</td>\n",
              "      <td>No</td>\n",
              "      <td>No</td>\n",
              "      <td>No</td>\n",
              "      <td>No</td>\n",
              "      <td>No</td>\n",
              "      <td>Yes</td>\n",
              "      <td>Other</td>\n",
              "    </tr>\n",
              "    <tr>\n",
              "      <th>16646</th>\n",
              "      <td>Caucasian</td>\n",
              "      <td>Female</td>\n",
              "      <td>Old</td>\n",
              "      <td>1</td>\n",
              "      <td>13</td>\n",
              "      <td>2</td>\n",
              "      <td>18</td>\n",
              "      <td>1</td>\n",
              "      <td>0</td>\n",
              "      <td>0</td>\n",
              "      <td>...</td>\n",
              "      <td>No</td>\n",
              "      <td>No</td>\n",
              "      <td>No</td>\n",
              "      <td>No</td>\n",
              "      <td>No</td>\n",
              "      <td>No</td>\n",
              "      <td>No</td>\n",
              "      <td>No</td>\n",
              "      <td>Yes</td>\n",
              "      <td>Cardiology</td>\n",
              "    </tr>\n",
              "  </tbody>\n",
              "</table>\n",
              "<p>15379 rows × 39 columns</p>\n",
              "</div>\n",
              "      <button class=\"colab-df-convert\" onclick=\"convertToInteractive('df-1575da27-6597-4eb4-9d2d-870da2695a28')\"\n",
              "              title=\"Convert this dataframe to an interactive table.\"\n",
              "              style=\"display:none;\">\n",
              "        \n",
              "  <svg xmlns=\"http://www.w3.org/2000/svg\" height=\"24px\"viewBox=\"0 0 24 24\"\n",
              "       width=\"24px\">\n",
              "    <path d=\"M0 0h24v24H0V0z\" fill=\"none\"/>\n",
              "    <path d=\"M18.56 5.44l.94 2.06.94-2.06 2.06-.94-2.06-.94-.94-2.06-.94 2.06-2.06.94zm-11 1L8.5 8.5l.94-2.06 2.06-.94-2.06-.94L8.5 2.5l-.94 2.06-2.06.94zm10 10l.94 2.06.94-2.06 2.06-.94-2.06-.94-.94-2.06-.94 2.06-2.06.94z\"/><path d=\"M17.41 7.96l-1.37-1.37c-.4-.4-.92-.59-1.43-.59-.52 0-1.04.2-1.43.59L10.3 9.45l-7.72 7.72c-.78.78-.78 2.05 0 2.83L4 21.41c.39.39.9.59 1.41.59.51 0 1.02-.2 1.41-.59l7.78-7.78 2.81-2.81c.8-.78.8-2.07 0-2.86zM5.41 20L4 18.59l7.72-7.72 1.47 1.35L5.41 20z\"/>\n",
              "  </svg>\n",
              "      </button>\n",
              "      \n",
              "  <style>\n",
              "    .colab-df-container {\n",
              "      display:flex;\n",
              "      flex-wrap:wrap;\n",
              "      gap: 12px;\n",
              "    }\n",
              "\n",
              "    .colab-df-convert {\n",
              "      background-color: #E8F0FE;\n",
              "      border: none;\n",
              "      border-radius: 50%;\n",
              "      cursor: pointer;\n",
              "      display: none;\n",
              "      fill: #1967D2;\n",
              "      height: 32px;\n",
              "      padding: 0 0 0 0;\n",
              "      width: 32px;\n",
              "    }\n",
              "\n",
              "    .colab-df-convert:hover {\n",
              "      background-color: #E2EBFA;\n",
              "      box-shadow: 0px 1px 2px rgba(60, 64, 67, 0.3), 0px 1px 3px 1px rgba(60, 64, 67, 0.15);\n",
              "      fill: #174EA6;\n",
              "    }\n",
              "\n",
              "    [theme=dark] .colab-df-convert {\n",
              "      background-color: #3B4455;\n",
              "      fill: #D2E3FC;\n",
              "    }\n",
              "\n",
              "    [theme=dark] .colab-df-convert:hover {\n",
              "      background-color: #434B5C;\n",
              "      box-shadow: 0px 1px 3px 1px rgba(0, 0, 0, 0.15);\n",
              "      filter: drop-shadow(0px 1px 2px rgba(0, 0, 0, 0.3));\n",
              "      fill: #FFFFFF;\n",
              "    }\n",
              "  </style>\n",
              "\n",
              "      <script>\n",
              "        const buttonEl =\n",
              "          document.querySelector('#df-1575da27-6597-4eb4-9d2d-870da2695a28 button.colab-df-convert');\n",
              "        buttonEl.style.display =\n",
              "          google.colab.kernel.accessAllowed ? 'block' : 'none';\n",
              "\n",
              "        async function convertToInteractive(key) {\n",
              "          const element = document.querySelector('#df-1575da27-6597-4eb4-9d2d-870da2695a28');\n",
              "          const dataTable =\n",
              "            await google.colab.kernel.invokeFunction('convertToInteractive',\n",
              "                                                     [key], {});\n",
              "          if (!dataTable) return;\n",
              "\n",
              "          const docLinkHtml = 'Like what you see? Visit the ' +\n",
              "            '<a target=\"_blank\" href=https://colab.research.google.com/notebooks/data_table.ipynb>data table notebook</a>'\n",
              "            + ' to learn more about interactive tables.';\n",
              "          element.innerHTML = '';\n",
              "          dataTable['output_type'] = 'display_data';\n",
              "          await google.colab.output.renderOutput(dataTable, element);\n",
              "          const docLink = document.createElement('div');\n",
              "          docLink.innerHTML = docLinkHtml;\n",
              "          element.appendChild(docLink);\n",
              "        }\n",
              "      </script>\n",
              "    </div>\n",
              "  </div>\n",
              "  "
            ]
          },
          "metadata": {},
          "execution_count": 75
        }
      ],
      "source": [
        "convert_diag_dtypes(test, cols= diag)"
      ],
      "id": "rgZe5n0bx3lL"
    },
    {
      "cell_type": "markdown",
      "metadata": {
        "id": "Z6mEZeL_mnQF"
      },
      "source": [
        "# Seperate predictors and target variable"
      ],
      "id": "Z6mEZeL_mnQF"
    },
    {
      "cell_type": "code",
      "execution_count": 76,
      "metadata": {
        "id": "L9la78K4pdqT"
      },
      "outputs": [],
      "source": [
        "def get_X_y_dataframes(DataFrame, target_variable):\n",
        "    X = DataFrame.drop(columns=target_variable,axis=1)\n",
        "    y = DataFrame[target_variable]\n",
        "    return X,y"
      ],
      "id": "L9la78K4pdqT"
    },
    {
      "cell_type": "code",
      "execution_count": 77,
      "metadata": {
        "id": "y89l-gexpq7O"
      },
      "outputs": [],
      "source": [
        "#seperate X and y on train data\n",
        "X,y = get_X_y_dataframes(df,\"readmitted\")"
      ],
      "id": "y89l-gexpq7O"
    },
    {
      "cell_type": "markdown",
      "metadata": {
        "id": "YDh2YisGvl4y"
      },
      "source": [
        "# Seperate categorical and numeric variables"
      ],
      "id": "YDh2YisGvl4y"
    },
    {
      "cell_type": "code",
      "execution_count": 78,
      "metadata": {
        "id": "0rtPuRlovqgC"
      },
      "outputs": [],
      "source": [
        "def get_num_cat_dataframes(DataFrame):\n",
        "    num_df = DataFrame.select_dtypes(include=['int64','float64'])\n",
        "    cat_df = DataFrame.select_dtypes(include=['category','object','bool'])\n",
        "    return num_df, cat_df"
      ],
      "id": "0rtPuRlovqgC"
    },
    {
      "cell_type": "code",
      "execution_count": 79,
      "metadata": {
        "id": "9ntAhrrCvwXC"
      },
      "outputs": [],
      "source": [
        "num_df, cat_df = get_num_cat_dataframes(X)"
      ],
      "id": "9ntAhrrCvwXC"
    },
    {
      "cell_type": "code",
      "execution_count": 80,
      "metadata": {
        "id": "6E9YRZHvyBfg"
      },
      "outputs": [],
      "source": [
        "num_test, cat_test = get_num_cat_dataframes(test)"
      ],
      "id": "6E9YRZHvyBfg"
    },
    {
      "cell_type": "code",
      "execution_count": 81,
      "metadata": {
        "colab": {
          "base_uri": "https://localhost:8080/",
          "height": 488
        },
        "id": "0tRf6YEMxUzN",
        "outputId": "5090ae7e-d6f8-4b97-f7d4-64250ffffc82"
      },
      "outputs": [
        {
          "output_type": "execute_result",
          "data": {
            "text/plain": [
              "       time_in_hospital  num_lab_procedures  num_procedures  num_medications  \\\n",
              "0                     4                  39               1                9   \n",
              "1                     3                  34               1               12   \n",
              "2                     6                  50               2               24   \n",
              "3                     5                  63               0               14   \n",
              "4                     9                  17               1               11   \n",
              "...                 ...                 ...             ...              ...   \n",
              "66582                11                  40               4               35   \n",
              "66583                 4                  39               1                7   \n",
              "66584                 2                  24               1               13   \n",
              "66585                 4                  39               1               14   \n",
              "66586                 2                  38               2               12   \n",
              "\n",
              "       number_outpatient  number_emergency  number_inpatient  diag_1  diag_2  \\\n",
              "0                      1                 1                 4   783.0  403.00   \n",
              "1                      0                 0                 0   564.0  788.00   \n",
              "2                      0                 0                 5   574.0  403.00   \n",
              "3                      0                 0                 0   401.0  783.00   \n",
              "4                      0                 0                 0   311.0  276.00   \n",
              "...                  ...               ...               ...     ...     ...   \n",
              "66582                  0                 0                 0   562.0  276.00   \n",
              "66583                  0                 0                 0   188.0  599.00   \n",
              "66584                  0                 0                 2   996.0  414.00   \n",
              "66585                  0                 0                 0   427.0  496.00   \n",
              "66586                  0                 0                 0   426.0  250.01   \n",
              "\n",
              "       diag_3     diag_5  number_diagnoses  \n",
              "0       585.0  32.970966                 9  \n",
              "1       569.0  94.116731                 6  \n",
              "2       585.0  64.138297                 9  \n",
              "3       250.0  13.832428                 7  \n",
              "4       300.0  82.898368                 9  \n",
              "...       ...        ...               ...  \n",
              "66582   458.0  64.439655                 6  \n",
              "66583   591.0  39.133605                 9  \n",
              "66584   250.0  97.187192                 6  \n",
              "66585   518.0  16.856253                 9  \n",
              "66586   426.0  24.436177                 7  \n",
              "\n",
              "[48911 rows x 12 columns]"
            ],
            "text/html": [
              "\n",
              "  <div id=\"df-d0db6641-f1d3-4232-8c3a-a63cdc8ce24f\">\n",
              "    <div class=\"colab-df-container\">\n",
              "      <div>\n",
              "<style scoped>\n",
              "    .dataframe tbody tr th:only-of-type {\n",
              "        vertical-align: middle;\n",
              "    }\n",
              "\n",
              "    .dataframe tbody tr th {\n",
              "        vertical-align: top;\n",
              "    }\n",
              "\n",
              "    .dataframe thead th {\n",
              "        text-align: right;\n",
              "    }\n",
              "</style>\n",
              "<table border=\"1\" class=\"dataframe\">\n",
              "  <thead>\n",
              "    <tr style=\"text-align: right;\">\n",
              "      <th></th>\n",
              "      <th>time_in_hospital</th>\n",
              "      <th>num_lab_procedures</th>\n",
              "      <th>num_procedures</th>\n",
              "      <th>num_medications</th>\n",
              "      <th>number_outpatient</th>\n",
              "      <th>number_emergency</th>\n",
              "      <th>number_inpatient</th>\n",
              "      <th>diag_1</th>\n",
              "      <th>diag_2</th>\n",
              "      <th>diag_3</th>\n",
              "      <th>diag_5</th>\n",
              "      <th>number_diagnoses</th>\n",
              "    </tr>\n",
              "  </thead>\n",
              "  <tbody>\n",
              "    <tr>\n",
              "      <th>0</th>\n",
              "      <td>4</td>\n",
              "      <td>39</td>\n",
              "      <td>1</td>\n",
              "      <td>9</td>\n",
              "      <td>1</td>\n",
              "      <td>1</td>\n",
              "      <td>4</td>\n",
              "      <td>783.0</td>\n",
              "      <td>403.00</td>\n",
              "      <td>585.0</td>\n",
              "      <td>32.970966</td>\n",
              "      <td>9</td>\n",
              "    </tr>\n",
              "    <tr>\n",
              "      <th>1</th>\n",
              "      <td>3</td>\n",
              "      <td>34</td>\n",
              "      <td>1</td>\n",
              "      <td>12</td>\n",
              "      <td>0</td>\n",
              "      <td>0</td>\n",
              "      <td>0</td>\n",
              "      <td>564.0</td>\n",
              "      <td>788.00</td>\n",
              "      <td>569.0</td>\n",
              "      <td>94.116731</td>\n",
              "      <td>6</td>\n",
              "    </tr>\n",
              "    <tr>\n",
              "      <th>2</th>\n",
              "      <td>6</td>\n",
              "      <td>50</td>\n",
              "      <td>2</td>\n",
              "      <td>24</td>\n",
              "      <td>0</td>\n",
              "      <td>0</td>\n",
              "      <td>5</td>\n",
              "      <td>574.0</td>\n",
              "      <td>403.00</td>\n",
              "      <td>585.0</td>\n",
              "      <td>64.138297</td>\n",
              "      <td>9</td>\n",
              "    </tr>\n",
              "    <tr>\n",
              "      <th>3</th>\n",
              "      <td>5</td>\n",
              "      <td>63</td>\n",
              "      <td>0</td>\n",
              "      <td>14</td>\n",
              "      <td>0</td>\n",
              "      <td>0</td>\n",
              "      <td>0</td>\n",
              "      <td>401.0</td>\n",
              "      <td>783.00</td>\n",
              "      <td>250.0</td>\n",
              "      <td>13.832428</td>\n",
              "      <td>7</td>\n",
              "    </tr>\n",
              "    <tr>\n",
              "      <th>4</th>\n",
              "      <td>9</td>\n",
              "      <td>17</td>\n",
              "      <td>1</td>\n",
              "      <td>11</td>\n",
              "      <td>0</td>\n",
              "      <td>0</td>\n",
              "      <td>0</td>\n",
              "      <td>311.0</td>\n",
              "      <td>276.00</td>\n",
              "      <td>300.0</td>\n",
              "      <td>82.898368</td>\n",
              "      <td>9</td>\n",
              "    </tr>\n",
              "    <tr>\n",
              "      <th>...</th>\n",
              "      <td>...</td>\n",
              "      <td>...</td>\n",
              "      <td>...</td>\n",
              "      <td>...</td>\n",
              "      <td>...</td>\n",
              "      <td>...</td>\n",
              "      <td>...</td>\n",
              "      <td>...</td>\n",
              "      <td>...</td>\n",
              "      <td>...</td>\n",
              "      <td>...</td>\n",
              "      <td>...</td>\n",
              "    </tr>\n",
              "    <tr>\n",
              "      <th>66582</th>\n",
              "      <td>11</td>\n",
              "      <td>40</td>\n",
              "      <td>4</td>\n",
              "      <td>35</td>\n",
              "      <td>0</td>\n",
              "      <td>0</td>\n",
              "      <td>0</td>\n",
              "      <td>562.0</td>\n",
              "      <td>276.00</td>\n",
              "      <td>458.0</td>\n",
              "      <td>64.439655</td>\n",
              "      <td>6</td>\n",
              "    </tr>\n",
              "    <tr>\n",
              "      <th>66583</th>\n",
              "      <td>4</td>\n",
              "      <td>39</td>\n",
              "      <td>1</td>\n",
              "      <td>7</td>\n",
              "      <td>0</td>\n",
              "      <td>0</td>\n",
              "      <td>0</td>\n",
              "      <td>188.0</td>\n",
              "      <td>599.00</td>\n",
              "      <td>591.0</td>\n",
              "      <td>39.133605</td>\n",
              "      <td>9</td>\n",
              "    </tr>\n",
              "    <tr>\n",
              "      <th>66584</th>\n",
              "      <td>2</td>\n",
              "      <td>24</td>\n",
              "      <td>1</td>\n",
              "      <td>13</td>\n",
              "      <td>0</td>\n",
              "      <td>0</td>\n",
              "      <td>2</td>\n",
              "      <td>996.0</td>\n",
              "      <td>414.00</td>\n",
              "      <td>250.0</td>\n",
              "      <td>97.187192</td>\n",
              "      <td>6</td>\n",
              "    </tr>\n",
              "    <tr>\n",
              "      <th>66585</th>\n",
              "      <td>4</td>\n",
              "      <td>39</td>\n",
              "      <td>1</td>\n",
              "      <td>14</td>\n",
              "      <td>0</td>\n",
              "      <td>0</td>\n",
              "      <td>0</td>\n",
              "      <td>427.0</td>\n",
              "      <td>496.00</td>\n",
              "      <td>518.0</td>\n",
              "      <td>16.856253</td>\n",
              "      <td>9</td>\n",
              "    </tr>\n",
              "    <tr>\n",
              "      <th>66586</th>\n",
              "      <td>2</td>\n",
              "      <td>38</td>\n",
              "      <td>2</td>\n",
              "      <td>12</td>\n",
              "      <td>0</td>\n",
              "      <td>0</td>\n",
              "      <td>0</td>\n",
              "      <td>426.0</td>\n",
              "      <td>250.01</td>\n",
              "      <td>426.0</td>\n",
              "      <td>24.436177</td>\n",
              "      <td>7</td>\n",
              "    </tr>\n",
              "  </tbody>\n",
              "</table>\n",
              "<p>48911 rows × 12 columns</p>\n",
              "</div>\n",
              "      <button class=\"colab-df-convert\" onclick=\"convertToInteractive('df-d0db6641-f1d3-4232-8c3a-a63cdc8ce24f')\"\n",
              "              title=\"Convert this dataframe to an interactive table.\"\n",
              "              style=\"display:none;\">\n",
              "        \n",
              "  <svg xmlns=\"http://www.w3.org/2000/svg\" height=\"24px\"viewBox=\"0 0 24 24\"\n",
              "       width=\"24px\">\n",
              "    <path d=\"M0 0h24v24H0V0z\" fill=\"none\"/>\n",
              "    <path d=\"M18.56 5.44l.94 2.06.94-2.06 2.06-.94-2.06-.94-.94-2.06-.94 2.06-2.06.94zm-11 1L8.5 8.5l.94-2.06 2.06-.94-2.06-.94L8.5 2.5l-.94 2.06-2.06.94zm10 10l.94 2.06.94-2.06 2.06-.94-2.06-.94-.94-2.06-.94 2.06-2.06.94z\"/><path d=\"M17.41 7.96l-1.37-1.37c-.4-.4-.92-.59-1.43-.59-.52 0-1.04.2-1.43.59L10.3 9.45l-7.72 7.72c-.78.78-.78 2.05 0 2.83L4 21.41c.39.39.9.59 1.41.59.51 0 1.02-.2 1.41-.59l7.78-7.78 2.81-2.81c.8-.78.8-2.07 0-2.86zM5.41 20L4 18.59l7.72-7.72 1.47 1.35L5.41 20z\"/>\n",
              "  </svg>\n",
              "      </button>\n",
              "      \n",
              "  <style>\n",
              "    .colab-df-container {\n",
              "      display:flex;\n",
              "      flex-wrap:wrap;\n",
              "      gap: 12px;\n",
              "    }\n",
              "\n",
              "    .colab-df-convert {\n",
              "      background-color: #E8F0FE;\n",
              "      border: none;\n",
              "      border-radius: 50%;\n",
              "      cursor: pointer;\n",
              "      display: none;\n",
              "      fill: #1967D2;\n",
              "      height: 32px;\n",
              "      padding: 0 0 0 0;\n",
              "      width: 32px;\n",
              "    }\n",
              "\n",
              "    .colab-df-convert:hover {\n",
              "      background-color: #E2EBFA;\n",
              "      box-shadow: 0px 1px 2px rgba(60, 64, 67, 0.3), 0px 1px 3px 1px rgba(60, 64, 67, 0.15);\n",
              "      fill: #174EA6;\n",
              "    }\n",
              "\n",
              "    [theme=dark] .colab-df-convert {\n",
              "      background-color: #3B4455;\n",
              "      fill: #D2E3FC;\n",
              "    }\n",
              "\n",
              "    [theme=dark] .colab-df-convert:hover {\n",
              "      background-color: #434B5C;\n",
              "      box-shadow: 0px 1px 3px 1px rgba(0, 0, 0, 0.15);\n",
              "      filter: drop-shadow(0px 1px 2px rgba(0, 0, 0, 0.3));\n",
              "      fill: #FFFFFF;\n",
              "    }\n",
              "  </style>\n",
              "\n",
              "      <script>\n",
              "        const buttonEl =\n",
              "          document.querySelector('#df-d0db6641-f1d3-4232-8c3a-a63cdc8ce24f button.colab-df-convert');\n",
              "        buttonEl.style.display =\n",
              "          google.colab.kernel.accessAllowed ? 'block' : 'none';\n",
              "\n",
              "        async function convertToInteractive(key) {\n",
              "          const element = document.querySelector('#df-d0db6641-f1d3-4232-8c3a-a63cdc8ce24f');\n",
              "          const dataTable =\n",
              "            await google.colab.kernel.invokeFunction('convertToInteractive',\n",
              "                                                     [key], {});\n",
              "          if (!dataTable) return;\n",
              "\n",
              "          const docLinkHtml = 'Like what you see? Visit the ' +\n",
              "            '<a target=\"_blank\" href=https://colab.research.google.com/notebooks/data_table.ipynb>data table notebook</a>'\n",
              "            + ' to learn more about interactive tables.';\n",
              "          element.innerHTML = '';\n",
              "          dataTable['output_type'] = 'display_data';\n",
              "          await google.colab.output.renderOutput(dataTable, element);\n",
              "          const docLink = document.createElement('div');\n",
              "          docLink.innerHTML = docLinkHtml;\n",
              "          element.appendChild(docLink);\n",
              "        }\n",
              "      </script>\n",
              "    </div>\n",
              "  </div>\n",
              "  "
            ]
          },
          "metadata": {},
          "execution_count": 81
        }
      ],
      "source": [
        "num_df"
      ],
      "id": "0tRf6YEMxUzN"
    },
    {
      "cell_type": "code",
      "execution_count": 82,
      "metadata": {
        "colab": {
          "base_uri": "https://localhost:8080/",
          "height": 488
        },
        "id": "nrTtaeFpyJlO",
        "outputId": "4b19b4a2-2a4e-4fd0-e65f-618cc93d241a"
      },
      "outputs": [
        {
          "output_type": "execute_result",
          "data": {
            "text/plain": [
              "       time_in_hospital  num_lab_procedures  num_procedures  num_medications  \\\n",
              "0                     3                  45               3               10   \n",
              "1                     2                  10               1               16   \n",
              "2                    11                  41               1               15   \n",
              "3                     1                  71               2               11   \n",
              "4                     7                  59               2               18   \n",
              "...                 ...                 ...             ...              ...   \n",
              "16640                 6                  39               0               13   \n",
              "16643                 2                  37               0                8   \n",
              "16644                 2                  14               0                7   \n",
              "16645                 1                  35               0                4   \n",
              "16646                 1                  13               2               18   \n",
              "\n",
              "       number_outpatient  number_emergency  number_inpatient  diag_1  diag_2  \\\n",
              "0                      0                 0                 1   786.0   414.0   \n",
              "1                      1                 0                 0   600.0   788.0   \n",
              "2                      0                 0                 1   584.0   996.0   \n",
              "3                      0                 0                 0    38.0   496.0   \n",
              "4                      0                 0                 0   593.0   591.0   \n",
              "...                  ...               ...               ...     ...     ...   \n",
              "16640                  0                 0                 0   682.0   278.0   \n",
              "16643                  0                 0                 0   435.0   389.0   \n",
              "16644                  0                 0                 2   276.0   425.0   \n",
              "16645                  0                 0                 0   780.0   250.0   \n",
              "16646                  1                 0                 0   414.0   250.0   \n",
              "\n",
              "       diag_3     diag_5  number_diagnoses  \n",
              "0       410.0  63.103503                 8  \n",
              "1       401.0  20.808508                 5  \n",
              "2       599.0  93.791724                 9  \n",
              "3       276.0  66.935187                 9  \n",
              "4       250.6  41.437377                 7  \n",
              "...       ...        ...               ...  \n",
              "16640   401.0  26.550262                 5  \n",
              "16643   250.0   1.559152                 3  \n",
              "16644   276.0  61.857751                 7  \n",
              "16645   600.0   8.913960                 3  \n",
              "16646   401.0  27.308868                 4  \n",
              "\n",
              "[15379 rows x 12 columns]"
            ],
            "text/html": [
              "\n",
              "  <div id=\"df-e0e52d2a-f9c8-4fde-af87-16ffbef73a9f\">\n",
              "    <div class=\"colab-df-container\">\n",
              "      <div>\n",
              "<style scoped>\n",
              "    .dataframe tbody tr th:only-of-type {\n",
              "        vertical-align: middle;\n",
              "    }\n",
              "\n",
              "    .dataframe tbody tr th {\n",
              "        vertical-align: top;\n",
              "    }\n",
              "\n",
              "    .dataframe thead th {\n",
              "        text-align: right;\n",
              "    }\n",
              "</style>\n",
              "<table border=\"1\" class=\"dataframe\">\n",
              "  <thead>\n",
              "    <tr style=\"text-align: right;\">\n",
              "      <th></th>\n",
              "      <th>time_in_hospital</th>\n",
              "      <th>num_lab_procedures</th>\n",
              "      <th>num_procedures</th>\n",
              "      <th>num_medications</th>\n",
              "      <th>number_outpatient</th>\n",
              "      <th>number_emergency</th>\n",
              "      <th>number_inpatient</th>\n",
              "      <th>diag_1</th>\n",
              "      <th>diag_2</th>\n",
              "      <th>diag_3</th>\n",
              "      <th>diag_5</th>\n",
              "      <th>number_diagnoses</th>\n",
              "    </tr>\n",
              "  </thead>\n",
              "  <tbody>\n",
              "    <tr>\n",
              "      <th>0</th>\n",
              "      <td>3</td>\n",
              "      <td>45</td>\n",
              "      <td>3</td>\n",
              "      <td>10</td>\n",
              "      <td>0</td>\n",
              "      <td>0</td>\n",
              "      <td>1</td>\n",
              "      <td>786.0</td>\n",
              "      <td>414.0</td>\n",
              "      <td>410.0</td>\n",
              "      <td>63.103503</td>\n",
              "      <td>8</td>\n",
              "    </tr>\n",
              "    <tr>\n",
              "      <th>1</th>\n",
              "      <td>2</td>\n",
              "      <td>10</td>\n",
              "      <td>1</td>\n",
              "      <td>16</td>\n",
              "      <td>1</td>\n",
              "      <td>0</td>\n",
              "      <td>0</td>\n",
              "      <td>600.0</td>\n",
              "      <td>788.0</td>\n",
              "      <td>401.0</td>\n",
              "      <td>20.808508</td>\n",
              "      <td>5</td>\n",
              "    </tr>\n",
              "    <tr>\n",
              "      <th>2</th>\n",
              "      <td>11</td>\n",
              "      <td>41</td>\n",
              "      <td>1</td>\n",
              "      <td>15</td>\n",
              "      <td>0</td>\n",
              "      <td>0</td>\n",
              "      <td>1</td>\n",
              "      <td>584.0</td>\n",
              "      <td>996.0</td>\n",
              "      <td>599.0</td>\n",
              "      <td>93.791724</td>\n",
              "      <td>9</td>\n",
              "    </tr>\n",
              "    <tr>\n",
              "      <th>3</th>\n",
              "      <td>1</td>\n",
              "      <td>71</td>\n",
              "      <td>2</td>\n",
              "      <td>11</td>\n",
              "      <td>0</td>\n",
              "      <td>0</td>\n",
              "      <td>0</td>\n",
              "      <td>38.0</td>\n",
              "      <td>496.0</td>\n",
              "      <td>276.0</td>\n",
              "      <td>66.935187</td>\n",
              "      <td>9</td>\n",
              "    </tr>\n",
              "    <tr>\n",
              "      <th>4</th>\n",
              "      <td>7</td>\n",
              "      <td>59</td>\n",
              "      <td>2</td>\n",
              "      <td>18</td>\n",
              "      <td>0</td>\n",
              "      <td>0</td>\n",
              "      <td>0</td>\n",
              "      <td>593.0</td>\n",
              "      <td>591.0</td>\n",
              "      <td>250.6</td>\n",
              "      <td>41.437377</td>\n",
              "      <td>7</td>\n",
              "    </tr>\n",
              "    <tr>\n",
              "      <th>...</th>\n",
              "      <td>...</td>\n",
              "      <td>...</td>\n",
              "      <td>...</td>\n",
              "      <td>...</td>\n",
              "      <td>...</td>\n",
              "      <td>...</td>\n",
              "      <td>...</td>\n",
              "      <td>...</td>\n",
              "      <td>...</td>\n",
              "      <td>...</td>\n",
              "      <td>...</td>\n",
              "      <td>...</td>\n",
              "    </tr>\n",
              "    <tr>\n",
              "      <th>16640</th>\n",
              "      <td>6</td>\n",
              "      <td>39</td>\n",
              "      <td>0</td>\n",
              "      <td>13</td>\n",
              "      <td>0</td>\n",
              "      <td>0</td>\n",
              "      <td>0</td>\n",
              "      <td>682.0</td>\n",
              "      <td>278.0</td>\n",
              "      <td>401.0</td>\n",
              "      <td>26.550262</td>\n",
              "      <td>5</td>\n",
              "    </tr>\n",
              "    <tr>\n",
              "      <th>16643</th>\n",
              "      <td>2</td>\n",
              "      <td>37</td>\n",
              "      <td>0</td>\n",
              "      <td>8</td>\n",
              "      <td>0</td>\n",
              "      <td>0</td>\n",
              "      <td>0</td>\n",
              "      <td>435.0</td>\n",
              "      <td>389.0</td>\n",
              "      <td>250.0</td>\n",
              "      <td>1.559152</td>\n",
              "      <td>3</td>\n",
              "    </tr>\n",
              "    <tr>\n",
              "      <th>16644</th>\n",
              "      <td>2</td>\n",
              "      <td>14</td>\n",
              "      <td>0</td>\n",
              "      <td>7</td>\n",
              "      <td>0</td>\n",
              "      <td>0</td>\n",
              "      <td>2</td>\n",
              "      <td>276.0</td>\n",
              "      <td>425.0</td>\n",
              "      <td>276.0</td>\n",
              "      <td>61.857751</td>\n",
              "      <td>7</td>\n",
              "    </tr>\n",
              "    <tr>\n",
              "      <th>16645</th>\n",
              "      <td>1</td>\n",
              "      <td>35</td>\n",
              "      <td>0</td>\n",
              "      <td>4</td>\n",
              "      <td>0</td>\n",
              "      <td>0</td>\n",
              "      <td>0</td>\n",
              "      <td>780.0</td>\n",
              "      <td>250.0</td>\n",
              "      <td>600.0</td>\n",
              "      <td>8.913960</td>\n",
              "      <td>3</td>\n",
              "    </tr>\n",
              "    <tr>\n",
              "      <th>16646</th>\n",
              "      <td>1</td>\n",
              "      <td>13</td>\n",
              "      <td>2</td>\n",
              "      <td>18</td>\n",
              "      <td>1</td>\n",
              "      <td>0</td>\n",
              "      <td>0</td>\n",
              "      <td>414.0</td>\n",
              "      <td>250.0</td>\n",
              "      <td>401.0</td>\n",
              "      <td>27.308868</td>\n",
              "      <td>4</td>\n",
              "    </tr>\n",
              "  </tbody>\n",
              "</table>\n",
              "<p>15379 rows × 12 columns</p>\n",
              "</div>\n",
              "      <button class=\"colab-df-convert\" onclick=\"convertToInteractive('df-e0e52d2a-f9c8-4fde-af87-16ffbef73a9f')\"\n",
              "              title=\"Convert this dataframe to an interactive table.\"\n",
              "              style=\"display:none;\">\n",
              "        \n",
              "  <svg xmlns=\"http://www.w3.org/2000/svg\" height=\"24px\"viewBox=\"0 0 24 24\"\n",
              "       width=\"24px\">\n",
              "    <path d=\"M0 0h24v24H0V0z\" fill=\"none\"/>\n",
              "    <path d=\"M18.56 5.44l.94 2.06.94-2.06 2.06-.94-2.06-.94-.94-2.06-.94 2.06-2.06.94zm-11 1L8.5 8.5l.94-2.06 2.06-.94-2.06-.94L8.5 2.5l-.94 2.06-2.06.94zm10 10l.94 2.06.94-2.06 2.06-.94-2.06-.94-.94-2.06-.94 2.06-2.06.94z\"/><path d=\"M17.41 7.96l-1.37-1.37c-.4-.4-.92-.59-1.43-.59-.52 0-1.04.2-1.43.59L10.3 9.45l-7.72 7.72c-.78.78-.78 2.05 0 2.83L4 21.41c.39.39.9.59 1.41.59.51 0 1.02-.2 1.41-.59l7.78-7.78 2.81-2.81c.8-.78.8-2.07 0-2.86zM5.41 20L4 18.59l7.72-7.72 1.47 1.35L5.41 20z\"/>\n",
              "  </svg>\n",
              "      </button>\n",
              "      \n",
              "  <style>\n",
              "    .colab-df-container {\n",
              "      display:flex;\n",
              "      flex-wrap:wrap;\n",
              "      gap: 12px;\n",
              "    }\n",
              "\n",
              "    .colab-df-convert {\n",
              "      background-color: #E8F0FE;\n",
              "      border: none;\n",
              "      border-radius: 50%;\n",
              "      cursor: pointer;\n",
              "      display: none;\n",
              "      fill: #1967D2;\n",
              "      height: 32px;\n",
              "      padding: 0 0 0 0;\n",
              "      width: 32px;\n",
              "    }\n",
              "\n",
              "    .colab-df-convert:hover {\n",
              "      background-color: #E2EBFA;\n",
              "      box-shadow: 0px 1px 2px rgba(60, 64, 67, 0.3), 0px 1px 3px 1px rgba(60, 64, 67, 0.15);\n",
              "      fill: #174EA6;\n",
              "    }\n",
              "\n",
              "    [theme=dark] .colab-df-convert {\n",
              "      background-color: #3B4455;\n",
              "      fill: #D2E3FC;\n",
              "    }\n",
              "\n",
              "    [theme=dark] .colab-df-convert:hover {\n",
              "      background-color: #434B5C;\n",
              "      box-shadow: 0px 1px 3px 1px rgba(0, 0, 0, 0.15);\n",
              "      filter: drop-shadow(0px 1px 2px rgba(0, 0, 0, 0.3));\n",
              "      fill: #FFFFFF;\n",
              "    }\n",
              "  </style>\n",
              "\n",
              "      <script>\n",
              "        const buttonEl =\n",
              "          document.querySelector('#df-e0e52d2a-f9c8-4fde-af87-16ffbef73a9f button.colab-df-convert');\n",
              "        buttonEl.style.display =\n",
              "          google.colab.kernel.accessAllowed ? 'block' : 'none';\n",
              "\n",
              "        async function convertToInteractive(key) {\n",
              "          const element = document.querySelector('#df-e0e52d2a-f9c8-4fde-af87-16ffbef73a9f');\n",
              "          const dataTable =\n",
              "            await google.colab.kernel.invokeFunction('convertToInteractive',\n",
              "                                                     [key], {});\n",
              "          if (!dataTable) return;\n",
              "\n",
              "          const docLinkHtml = 'Like what you see? Visit the ' +\n",
              "            '<a target=\"_blank\" href=https://colab.research.google.com/notebooks/data_table.ipynb>data table notebook</a>'\n",
              "            + ' to learn more about interactive tables.';\n",
              "          element.innerHTML = '';\n",
              "          dataTable['output_type'] = 'display_data';\n",
              "          await google.colab.output.renderOutput(dataTable, element);\n",
              "          const docLink = document.createElement('div');\n",
              "          docLink.innerHTML = docLinkHtml;\n",
              "          element.appendChild(docLink);\n",
              "        }\n",
              "      </script>\n",
              "    </div>\n",
              "  </div>\n",
              "  "
            ]
          },
          "metadata": {},
          "execution_count": 82
        }
      ],
      "source": [
        "num_test"
      ],
      "id": "nrTtaeFpyJlO"
    },
    {
      "cell_type": "code",
      "execution_count": 83,
      "metadata": {
        "colab": {
          "base_uri": "https://localhost:8080/",
          "height": 424
        },
        "id": "y1cRHYOayK9d",
        "outputId": "45acb4c0-a55c-46c8-8ab5-ee0fc15355b5"
      },
      "outputs": [
        {
          "output_type": "execute_result",
          "data": {
            "text/plain": [
              "                  race  gender     age    X1    X2      X3  X4  X5  X6  X7  \\\n",
              "0            Caucasian  Female     Old  None  None      No  No  No  No  No   \n",
              "1            Caucasian    Male     Old  None  None  Steady  No  No  No  No   \n",
              "2      AfricanAmerican    Male     Old  None  Norm      No  No  No  No  No   \n",
              "3            Caucasian  Female     Old  None  None      No  No  No  No  No   \n",
              "4      AfricanAmerican  Female  Middle  None    >7  Steady  No  No  No  No   \n",
              "...                ...     ...     ...   ...   ...     ...  ..  ..  ..  ..   \n",
              "16640            Other  Female  Middle  None  Norm  Steady  No  No  No  No   \n",
              "16643        Caucasian    Male     Old  None  None  Steady  No  No  No  No   \n",
              "16644        Caucasian  Female  Middle  None  None      No  No  No  No  No   \n",
              "16645          Unknown    Male     Old  None  None  Steady  No  No  No  No   \n",
              "16646        Caucasian  Female     Old  None  None      No  No  No  No  No   \n",
              "\n",
              "       ... X16 X17     X20 X21 X22 X23 X24 change diabetesMed  \\\n",
              "0      ...  No  No      No  No  No  No  No     No         Yes   \n",
              "1      ...  No  No      No  No  No  No  No     No         Yes   \n",
              "2      ...  No  No  Steady  No  No  No  No     No         Yes   \n",
              "3      ...  No  No      No  No  No  No  No     No          No   \n",
              "4      ...  No  No  Steady  No  No  No  No     Ch         Yes   \n",
              "...    ...  ..  ..     ...  ..  ..  ..  ..    ...         ...   \n",
              "16640  ...  No  No      No  No  No  No  No     No         Yes   \n",
              "16643  ...  No  No      No  No  No  No  No     Ch         Yes   \n",
              "16644  ...  No  No      No  No  No  No  No     No          No   \n",
              "16645  ...  No  No      No  No  No  No  No     No         Yes   \n",
              "16646  ...  No  No      No  No  No  No  No     No         Yes   \n",
              "\n",
              "                     med_spec  \n",
              "0                       Other  \n",
              "1                       Other  \n",
              "2            InternalMedicine  \n",
              "3            InternalMedicine  \n",
              "4            InternalMedicine  \n",
              "...                       ...  \n",
              "16640                   Other  \n",
              "16643        InternalMedicine  \n",
              "16644  Family/GeneralPractice  \n",
              "16645                   Other  \n",
              "16646              Cardiology  \n",
              "\n",
              "[15379 rows x 27 columns]"
            ],
            "text/html": [
              "\n",
              "  <div id=\"df-edc29941-a32f-4130-bcc1-139827a4458a\">\n",
              "    <div class=\"colab-df-container\">\n",
              "      <div>\n",
              "<style scoped>\n",
              "    .dataframe tbody tr th:only-of-type {\n",
              "        vertical-align: middle;\n",
              "    }\n",
              "\n",
              "    .dataframe tbody tr th {\n",
              "        vertical-align: top;\n",
              "    }\n",
              "\n",
              "    .dataframe thead th {\n",
              "        text-align: right;\n",
              "    }\n",
              "</style>\n",
              "<table border=\"1\" class=\"dataframe\">\n",
              "  <thead>\n",
              "    <tr style=\"text-align: right;\">\n",
              "      <th></th>\n",
              "      <th>race</th>\n",
              "      <th>gender</th>\n",
              "      <th>age</th>\n",
              "      <th>X1</th>\n",
              "      <th>X2</th>\n",
              "      <th>X3</th>\n",
              "      <th>X4</th>\n",
              "      <th>X5</th>\n",
              "      <th>X6</th>\n",
              "      <th>X7</th>\n",
              "      <th>...</th>\n",
              "      <th>X16</th>\n",
              "      <th>X17</th>\n",
              "      <th>X20</th>\n",
              "      <th>X21</th>\n",
              "      <th>X22</th>\n",
              "      <th>X23</th>\n",
              "      <th>X24</th>\n",
              "      <th>change</th>\n",
              "      <th>diabetesMed</th>\n",
              "      <th>med_spec</th>\n",
              "    </tr>\n",
              "  </thead>\n",
              "  <tbody>\n",
              "    <tr>\n",
              "      <th>0</th>\n",
              "      <td>Caucasian</td>\n",
              "      <td>Female</td>\n",
              "      <td>Old</td>\n",
              "      <td>None</td>\n",
              "      <td>None</td>\n",
              "      <td>No</td>\n",
              "      <td>No</td>\n",
              "      <td>No</td>\n",
              "      <td>No</td>\n",
              "      <td>No</td>\n",
              "      <td>...</td>\n",
              "      <td>No</td>\n",
              "      <td>No</td>\n",
              "      <td>No</td>\n",
              "      <td>No</td>\n",
              "      <td>No</td>\n",
              "      <td>No</td>\n",
              "      <td>No</td>\n",
              "      <td>No</td>\n",
              "      <td>Yes</td>\n",
              "      <td>Other</td>\n",
              "    </tr>\n",
              "    <tr>\n",
              "      <th>1</th>\n",
              "      <td>Caucasian</td>\n",
              "      <td>Male</td>\n",
              "      <td>Old</td>\n",
              "      <td>None</td>\n",
              "      <td>None</td>\n",
              "      <td>Steady</td>\n",
              "      <td>No</td>\n",
              "      <td>No</td>\n",
              "      <td>No</td>\n",
              "      <td>No</td>\n",
              "      <td>...</td>\n",
              "      <td>No</td>\n",
              "      <td>No</td>\n",
              "      <td>No</td>\n",
              "      <td>No</td>\n",
              "      <td>No</td>\n",
              "      <td>No</td>\n",
              "      <td>No</td>\n",
              "      <td>No</td>\n",
              "      <td>Yes</td>\n",
              "      <td>Other</td>\n",
              "    </tr>\n",
              "    <tr>\n",
              "      <th>2</th>\n",
              "      <td>AfricanAmerican</td>\n",
              "      <td>Male</td>\n",
              "      <td>Old</td>\n",
              "      <td>None</td>\n",
              "      <td>Norm</td>\n",
              "      <td>No</td>\n",
              "      <td>No</td>\n",
              "      <td>No</td>\n",
              "      <td>No</td>\n",
              "      <td>No</td>\n",
              "      <td>...</td>\n",
              "      <td>No</td>\n",
              "      <td>No</td>\n",
              "      <td>Steady</td>\n",
              "      <td>No</td>\n",
              "      <td>No</td>\n",
              "      <td>No</td>\n",
              "      <td>No</td>\n",
              "      <td>No</td>\n",
              "      <td>Yes</td>\n",
              "      <td>InternalMedicine</td>\n",
              "    </tr>\n",
              "    <tr>\n",
              "      <th>3</th>\n",
              "      <td>Caucasian</td>\n",
              "      <td>Female</td>\n",
              "      <td>Old</td>\n",
              "      <td>None</td>\n",
              "      <td>None</td>\n",
              "      <td>No</td>\n",
              "      <td>No</td>\n",
              "      <td>No</td>\n",
              "      <td>No</td>\n",
              "      <td>No</td>\n",
              "      <td>...</td>\n",
              "      <td>No</td>\n",
              "      <td>No</td>\n",
              "      <td>No</td>\n",
              "      <td>No</td>\n",
              "      <td>No</td>\n",
              "      <td>No</td>\n",
              "      <td>No</td>\n",
              "      <td>No</td>\n",
              "      <td>No</td>\n",
              "      <td>InternalMedicine</td>\n",
              "    </tr>\n",
              "    <tr>\n",
              "      <th>4</th>\n",
              "      <td>AfricanAmerican</td>\n",
              "      <td>Female</td>\n",
              "      <td>Middle</td>\n",
              "      <td>None</td>\n",
              "      <td>&gt;7</td>\n",
              "      <td>Steady</td>\n",
              "      <td>No</td>\n",
              "      <td>No</td>\n",
              "      <td>No</td>\n",
              "      <td>No</td>\n",
              "      <td>...</td>\n",
              "      <td>No</td>\n",
              "      <td>No</td>\n",
              "      <td>Steady</td>\n",
              "      <td>No</td>\n",
              "      <td>No</td>\n",
              "      <td>No</td>\n",
              "      <td>No</td>\n",
              "      <td>Ch</td>\n",
              "      <td>Yes</td>\n",
              "      <td>InternalMedicine</td>\n",
              "    </tr>\n",
              "    <tr>\n",
              "      <th>...</th>\n",
              "      <td>...</td>\n",
              "      <td>...</td>\n",
              "      <td>...</td>\n",
              "      <td>...</td>\n",
              "      <td>...</td>\n",
              "      <td>...</td>\n",
              "      <td>...</td>\n",
              "      <td>...</td>\n",
              "      <td>...</td>\n",
              "      <td>...</td>\n",
              "      <td>...</td>\n",
              "      <td>...</td>\n",
              "      <td>...</td>\n",
              "      <td>...</td>\n",
              "      <td>...</td>\n",
              "      <td>...</td>\n",
              "      <td>...</td>\n",
              "      <td>...</td>\n",
              "      <td>...</td>\n",
              "      <td>...</td>\n",
              "      <td>...</td>\n",
              "    </tr>\n",
              "    <tr>\n",
              "      <th>16640</th>\n",
              "      <td>Other</td>\n",
              "      <td>Female</td>\n",
              "      <td>Middle</td>\n",
              "      <td>None</td>\n",
              "      <td>Norm</td>\n",
              "      <td>Steady</td>\n",
              "      <td>No</td>\n",
              "      <td>No</td>\n",
              "      <td>No</td>\n",
              "      <td>No</td>\n",
              "      <td>...</td>\n",
              "      <td>No</td>\n",
              "      <td>No</td>\n",
              "      <td>No</td>\n",
              "      <td>No</td>\n",
              "      <td>No</td>\n",
              "      <td>No</td>\n",
              "      <td>No</td>\n",
              "      <td>No</td>\n",
              "      <td>Yes</td>\n",
              "      <td>Other</td>\n",
              "    </tr>\n",
              "    <tr>\n",
              "      <th>16643</th>\n",
              "      <td>Caucasian</td>\n",
              "      <td>Male</td>\n",
              "      <td>Old</td>\n",
              "      <td>None</td>\n",
              "      <td>None</td>\n",
              "      <td>Steady</td>\n",
              "      <td>No</td>\n",
              "      <td>No</td>\n",
              "      <td>No</td>\n",
              "      <td>No</td>\n",
              "      <td>...</td>\n",
              "      <td>No</td>\n",
              "      <td>No</td>\n",
              "      <td>No</td>\n",
              "      <td>No</td>\n",
              "      <td>No</td>\n",
              "      <td>No</td>\n",
              "      <td>No</td>\n",
              "      <td>Ch</td>\n",
              "      <td>Yes</td>\n",
              "      <td>InternalMedicine</td>\n",
              "    </tr>\n",
              "    <tr>\n",
              "      <th>16644</th>\n",
              "      <td>Caucasian</td>\n",
              "      <td>Female</td>\n",
              "      <td>Middle</td>\n",
              "      <td>None</td>\n",
              "      <td>None</td>\n",
              "      <td>No</td>\n",
              "      <td>No</td>\n",
              "      <td>No</td>\n",
              "      <td>No</td>\n",
              "      <td>No</td>\n",
              "      <td>...</td>\n",
              "      <td>No</td>\n",
              "      <td>No</td>\n",
              "      <td>No</td>\n",
              "      <td>No</td>\n",
              "      <td>No</td>\n",
              "      <td>No</td>\n",
              "      <td>No</td>\n",
              "      <td>No</td>\n",
              "      <td>No</td>\n",
              "      <td>Family/GeneralPractice</td>\n",
              "    </tr>\n",
              "    <tr>\n",
              "      <th>16645</th>\n",
              "      <td>Unknown</td>\n",
              "      <td>Male</td>\n",
              "      <td>Old</td>\n",
              "      <td>None</td>\n",
              "      <td>None</td>\n",
              "      <td>Steady</td>\n",
              "      <td>No</td>\n",
              "      <td>No</td>\n",
              "      <td>No</td>\n",
              "      <td>No</td>\n",
              "      <td>...</td>\n",
              "      <td>No</td>\n",
              "      <td>No</td>\n",
              "      <td>No</td>\n",
              "      <td>No</td>\n",
              "      <td>No</td>\n",
              "      <td>No</td>\n",
              "      <td>No</td>\n",
              "      <td>No</td>\n",
              "      <td>Yes</td>\n",
              "      <td>Other</td>\n",
              "    </tr>\n",
              "    <tr>\n",
              "      <th>16646</th>\n",
              "      <td>Caucasian</td>\n",
              "      <td>Female</td>\n",
              "      <td>Old</td>\n",
              "      <td>None</td>\n",
              "      <td>None</td>\n",
              "      <td>No</td>\n",
              "      <td>No</td>\n",
              "      <td>No</td>\n",
              "      <td>No</td>\n",
              "      <td>No</td>\n",
              "      <td>...</td>\n",
              "      <td>No</td>\n",
              "      <td>No</td>\n",
              "      <td>No</td>\n",
              "      <td>No</td>\n",
              "      <td>No</td>\n",
              "      <td>No</td>\n",
              "      <td>No</td>\n",
              "      <td>No</td>\n",
              "      <td>Yes</td>\n",
              "      <td>Cardiology</td>\n",
              "    </tr>\n",
              "  </tbody>\n",
              "</table>\n",
              "<p>15379 rows × 27 columns</p>\n",
              "</div>\n",
              "      <button class=\"colab-df-convert\" onclick=\"convertToInteractive('df-edc29941-a32f-4130-bcc1-139827a4458a')\"\n",
              "              title=\"Convert this dataframe to an interactive table.\"\n",
              "              style=\"display:none;\">\n",
              "        \n",
              "  <svg xmlns=\"http://www.w3.org/2000/svg\" height=\"24px\"viewBox=\"0 0 24 24\"\n",
              "       width=\"24px\">\n",
              "    <path d=\"M0 0h24v24H0V0z\" fill=\"none\"/>\n",
              "    <path d=\"M18.56 5.44l.94 2.06.94-2.06 2.06-.94-2.06-.94-.94-2.06-.94 2.06-2.06.94zm-11 1L8.5 8.5l.94-2.06 2.06-.94-2.06-.94L8.5 2.5l-.94 2.06-2.06.94zm10 10l.94 2.06.94-2.06 2.06-.94-2.06-.94-.94-2.06-.94 2.06-2.06.94z\"/><path d=\"M17.41 7.96l-1.37-1.37c-.4-.4-.92-.59-1.43-.59-.52 0-1.04.2-1.43.59L10.3 9.45l-7.72 7.72c-.78.78-.78 2.05 0 2.83L4 21.41c.39.39.9.59 1.41.59.51 0 1.02-.2 1.41-.59l7.78-7.78 2.81-2.81c.8-.78.8-2.07 0-2.86zM5.41 20L4 18.59l7.72-7.72 1.47 1.35L5.41 20z\"/>\n",
              "  </svg>\n",
              "      </button>\n",
              "      \n",
              "  <style>\n",
              "    .colab-df-container {\n",
              "      display:flex;\n",
              "      flex-wrap:wrap;\n",
              "      gap: 12px;\n",
              "    }\n",
              "\n",
              "    .colab-df-convert {\n",
              "      background-color: #E8F0FE;\n",
              "      border: none;\n",
              "      border-radius: 50%;\n",
              "      cursor: pointer;\n",
              "      display: none;\n",
              "      fill: #1967D2;\n",
              "      height: 32px;\n",
              "      padding: 0 0 0 0;\n",
              "      width: 32px;\n",
              "    }\n",
              "\n",
              "    .colab-df-convert:hover {\n",
              "      background-color: #E2EBFA;\n",
              "      box-shadow: 0px 1px 2px rgba(60, 64, 67, 0.3), 0px 1px 3px 1px rgba(60, 64, 67, 0.15);\n",
              "      fill: #174EA6;\n",
              "    }\n",
              "\n",
              "    [theme=dark] .colab-df-convert {\n",
              "      background-color: #3B4455;\n",
              "      fill: #D2E3FC;\n",
              "    }\n",
              "\n",
              "    [theme=dark] .colab-df-convert:hover {\n",
              "      background-color: #434B5C;\n",
              "      box-shadow: 0px 1px 3px 1px rgba(0, 0, 0, 0.15);\n",
              "      filter: drop-shadow(0px 1px 2px rgba(0, 0, 0, 0.3));\n",
              "      fill: #FFFFFF;\n",
              "    }\n",
              "  </style>\n",
              "\n",
              "      <script>\n",
              "        const buttonEl =\n",
              "          document.querySelector('#df-edc29941-a32f-4130-bcc1-139827a4458a button.colab-df-convert');\n",
              "        buttonEl.style.display =\n",
              "          google.colab.kernel.accessAllowed ? 'block' : 'none';\n",
              "\n",
              "        async function convertToInteractive(key) {\n",
              "          const element = document.querySelector('#df-edc29941-a32f-4130-bcc1-139827a4458a');\n",
              "          const dataTable =\n",
              "            await google.colab.kernel.invokeFunction('convertToInteractive',\n",
              "                                                     [key], {});\n",
              "          if (!dataTable) return;\n",
              "\n",
              "          const docLinkHtml = 'Like what you see? Visit the ' +\n",
              "            '<a target=\"_blank\" href=https://colab.research.google.com/notebooks/data_table.ipynb>data table notebook</a>'\n",
              "            + ' to learn more about interactive tables.';\n",
              "          element.innerHTML = '';\n",
              "          dataTable['output_type'] = 'display_data';\n",
              "          await google.colab.output.renderOutput(dataTable, element);\n",
              "          const docLink = document.createElement('div');\n",
              "          docLink.innerHTML = docLinkHtml;\n",
              "          element.appendChild(docLink);\n",
              "        }\n",
              "      </script>\n",
              "    </div>\n",
              "  </div>\n",
              "  "
            ]
          },
          "metadata": {},
          "execution_count": 83
        }
      ],
      "source": [
        "cat_test"
      ],
      "id": "y1cRHYOayK9d"
    },
    {
      "cell_type": "code",
      "execution_count": 83,
      "metadata": {
        "id": "dLP74Nn71qMQ"
      },
      "outputs": [],
      "source": [],
      "id": "dLP74Nn71qMQ"
    },
    {
      "cell_type": "code",
      "execution_count": 84,
      "metadata": {
        "colab": {
          "base_uri": "https://localhost:8080/"
        },
        "id": "f8dELT4oEm4C",
        "outputId": "a7afdd49-5215-4c36-a3b3-0e85abf754f9"
      },
      "outputs": [
        {
          "output_type": "execute_result",
          "data": {
            "text/plain": [
              "Index(['race', 'gender', 'age', 'time_in_hospital', 'num_lab_procedures',\n",
              "       'num_procedures', 'num_medications', 'number_outpatient',\n",
              "       'number_emergency', 'number_inpatient', 'diag_1', 'diag_2', 'diag_3',\n",
              "       'diag_5', 'number_diagnoses', 'X1', 'X2', 'X3', 'X4', 'X5', 'X6', 'X7',\n",
              "       'X9', 'X10', 'X11', 'X12', 'X13', 'X14', 'X15', 'X16', 'X17', 'X20',\n",
              "       'X21', 'X22', 'X23', 'X24', 'change', 'diabetesMed', 'readmitted',\n",
              "       'med_spec'],\n",
              "      dtype='object')"
            ]
          },
          "metadata": {},
          "execution_count": 84
        }
      ],
      "source": [
        "df.columns"
      ],
      "id": "f8dELT4oEm4C"
    },
    {
      "cell_type": "code",
      "execution_count": 84,
      "metadata": {
        "id": "PJyu5nTCizad"
      },
      "outputs": [],
      "source": [],
      "id": "PJyu5nTCizad"
    },
    {
      "cell_type": "markdown",
      "metadata": {
        "id": "NIXoqyt3qZjb"
      },
      "source": [
        "# Train-validation splitting"
      ],
      "id": "NIXoqyt3qZjb"
    },
    {
      "cell_type": "code",
      "execution_count": 85,
      "metadata": {
        "colab": {
          "base_uri": "https://localhost:8080/"
        },
        "id": "Q5DcBrZtt0T8",
        "outputId": "87da55c4-d643-4ded-ab97-d0fa84a99eb8"
      },
      "outputs": [
        {
          "output_type": "execute_result",
          "data": {
            "text/plain": [
              "0    26302\n",
              "1    22609\n",
              "Name: readmitted, dtype: int64"
            ]
          },
          "metadata": {},
          "execution_count": 85
        }
      ],
      "source": [
        "#check for class imbalance \n",
        "df['readmitted'].value_counts()"
      ],
      "id": "Q5DcBrZtt0T8"
    },
    {
      "cell_type": "code",
      "execution_count": 86,
      "metadata": {
        "id": "SE3f5nwNnSI6"
      },
      "outputs": [],
      "source": [
        "#splitting\n",
        "from sklearn.model_selection import train_test_split\n",
        "X_train,X_val,y_train,y_val= train_test_split(X,y,stratify = y,test_size=0.3,random_state=123)\n",
        "  \n",
        "\n"
      ],
      "id": "SE3f5nwNnSI6"
    },
    {
      "cell_type": "code",
      "execution_count": 87,
      "metadata": {
        "colab": {
          "base_uri": "https://localhost:8080/"
        },
        "id": "pKvKj-RAvmNP",
        "outputId": "08fd6601-812b-4f95-92b0-2ded8ca645b7"
      },
      "outputs": [
        {
          "output_type": "execute_result",
          "data": {
            "text/plain": [
              "(34237, 39)"
            ]
          },
          "metadata": {},
          "execution_count": 87
        }
      ],
      "source": [
        "X_train.shape"
      ],
      "id": "pKvKj-RAvmNP"
    },
    {
      "cell_type": "code",
      "execution_count": 88,
      "metadata": {
        "colab": {
          "base_uri": "https://localhost:8080/"
        },
        "id": "Ax7MKIdMvtgZ",
        "outputId": "66c65c83-fbdc-4929-d3bc-3e8906c616ad"
      },
      "outputs": [
        {
          "output_type": "execute_result",
          "data": {
            "text/plain": [
              "(14674, 39)"
            ]
          },
          "metadata": {},
          "execution_count": 88
        }
      ],
      "source": [
        "X_val.shape"
      ],
      "id": "Ax7MKIdMvtgZ"
    },
    {
      "cell_type": "code",
      "execution_count": 89,
      "metadata": {
        "colab": {
          "base_uri": "https://localhost:8080/"
        },
        "id": "MtWKHovGvvqh",
        "outputId": "9bb04658-4b9c-4130-fce3-3b4971581d18"
      },
      "outputs": [
        {
          "output_type": "execute_result",
          "data": {
            "text/plain": [
              "(15379, 39)"
            ]
          },
          "metadata": {},
          "execution_count": 89
        }
      ],
      "source": [
        "test.shape"
      ],
      "id": "MtWKHovGvvqh"
    },
    {
      "cell_type": "code",
      "execution_count": 90,
      "metadata": {
        "colab": {
          "base_uri": "https://localhost:8080/"
        },
        "id": "pHuQ0-5Fx0BF",
        "outputId": "fb563f9e-c099-41a8-ebca-45ba4df4d811"
      },
      "outputs": [
        {
          "output_type": "execute_result",
          "data": {
            "text/plain": [
              "Index(['time_in_hospital', 'num_lab_procedures', 'num_procedures',\n",
              "       'num_medications', 'number_outpatient', 'number_emergency',\n",
              "       'number_inpatient', 'diag_1', 'diag_2', 'diag_3', 'diag_5',\n",
              "       'number_diagnoses'],\n",
              "      dtype='object')"
            ]
          },
          "metadata": {},
          "execution_count": 90
        }
      ],
      "source": [
        "num_df.columns"
      ],
      "id": "pHuQ0-5Fx0BF"
    },
    {
      "cell_type": "code",
      "execution_count": 91,
      "metadata": {
        "colab": {
          "base_uri": "https://localhost:8080/"
        },
        "id": "lkzIVEpmyOzh",
        "outputId": "f2044986-73e9-4536-bdc0-d0936e1faf98"
      },
      "outputs": [
        {
          "output_type": "execute_result",
          "data": {
            "text/plain": [
              "Index(['race', 'gender', 'age', 'X1', 'X2', 'X3', 'X4', 'X5', 'X6', 'X7', 'X9',\n",
              "       'X10', 'X11', 'X12', 'X13', 'X14', 'X15', 'X16', 'X17', 'X20', 'X21',\n",
              "       'X22', 'X23', 'X24', 'change', 'diabetesMed', 'med_spec'],\n",
              "      dtype='object')"
            ]
          },
          "metadata": {},
          "execution_count": 91
        }
      ],
      "source": [
        "cat_df.columns"
      ],
      "id": "lkzIVEpmyOzh"
    },
    {
      "cell_type": "code",
      "execution_count": 92,
      "metadata": {
        "id": "bkeTeSuKxiIG"
      },
      "outputs": [],
      "source": [
        "#list of num cols\n",
        "X_train_num = X_train[['time_in_hospital', 'num_lab_procedures', 'num_procedures',\n",
        "       'num_medications', 'number_outpatient', 'number_emergency',\n",
        "       'number_inpatient', 'diag_1', 'diag_2', 'diag_3', 'diag_5',\n",
        "       'number_diagnoses']]"
      ],
      "id": "bkeTeSuKxiIG"
    },
    {
      "cell_type": "code",
      "execution_count": 93,
      "metadata": {
        "colab": {
          "base_uri": "https://localhost:8080/"
        },
        "id": "eSCkxtkfyd27",
        "outputId": "1784e586-4822-4e84-9a7c-dd1cb3afac58"
      },
      "outputs": [
        {
          "output_type": "execute_result",
          "data": {
            "text/plain": [
              "(34237, 12)"
            ]
          },
          "metadata": {},
          "execution_count": 93
        }
      ],
      "source": [
        "X_train_num.shape"
      ],
      "id": "eSCkxtkfyd27"
    },
    {
      "cell_type": "code",
      "execution_count": 94,
      "metadata": {
        "id": "cVNDL6lPxiXt"
      },
      "outputs": [],
      "source": [
        "X_val_num = X_val[['time_in_hospital', 'num_lab_procedures', 'num_procedures',\n",
        "       'num_medications', 'number_outpatient', 'number_emergency',\n",
        "       'number_inpatient', 'diag_1', 'diag_2', 'diag_3', 'diag_5',\n",
        "       'number_diagnoses']]"
      ],
      "id": "cVNDL6lPxiXt"
    },
    {
      "cell_type": "code",
      "execution_count": 95,
      "metadata": {
        "colab": {
          "base_uri": "https://localhost:8080/"
        },
        "id": "khFoKXM3yllo",
        "outputId": "423554bb-b1d9-4b58-e52f-05aba670e0d6"
      },
      "outputs": [
        {
          "output_type": "execute_result",
          "data": {
            "text/plain": [
              "(14674, 12)"
            ]
          },
          "metadata": {},
          "execution_count": 95
        }
      ],
      "source": [
        "X_val_num.shape"
      ],
      "id": "khFoKXM3yllo"
    },
    {
      "cell_type": "code",
      "execution_count": 96,
      "metadata": {
        "id": "OtO9Iqtgxilv"
      },
      "outputs": [],
      "source": [
        "X_test_num = test[['time_in_hospital', 'num_lab_procedures', 'num_procedures',\n",
        "       'num_medications', 'number_outpatient', 'number_emergency',\n",
        "       'number_inpatient', 'diag_1', 'diag_2', 'diag_3', 'diag_5',\n",
        "       'number_diagnoses']]"
      ],
      "id": "OtO9Iqtgxilv"
    },
    {
      "cell_type": "code",
      "execution_count": 97,
      "metadata": {
        "colab": {
          "base_uri": "https://localhost:8080/"
        },
        "id": "UJNOTfsRxi02",
        "outputId": "b367e563-0c19-4493-dd9f-cf9d301198ce"
      },
      "outputs": [
        {
          "output_type": "execute_result",
          "data": {
            "text/plain": [
              "(15379, 12)"
            ]
          },
          "metadata": {},
          "execution_count": 97
        }
      ],
      "source": [
        "X_test_num.shape"
      ],
      "id": "UJNOTfsRxi02"
    },
    {
      "cell_type": "code",
      "execution_count": 98,
      "metadata": {
        "id": "JqeMuX3UxjDL"
      },
      "outputs": [],
      "source": [
        "X_train_cat = X_train[['race', 'gender', 'age', 'X1', 'X2', 'X3', 'X4', 'X5', 'X6', 'X7', 'X9',\n",
        "       'X10', 'X11', 'X12', 'X13', 'X14', 'X15', 'X16', 'X17', 'X20', 'X21',\n",
        "       'X22', 'X23', 'X24', 'change', 'diabetesMed', 'med_spec']]"
      ],
      "id": "JqeMuX3UxjDL"
    },
    {
      "cell_type": "code",
      "execution_count": 99,
      "metadata": {
        "colab": {
          "base_uri": "https://localhost:8080/"
        },
        "id": "TEXTdz-FxjRw",
        "outputId": "f92869c5-6ccc-4021-becf-d777acc3abbe"
      },
      "outputs": [
        {
          "output_type": "execute_result",
          "data": {
            "text/plain": [
              "(34237, 27)"
            ]
          },
          "metadata": {},
          "execution_count": 99
        }
      ],
      "source": [
        "X_train_cat.shape"
      ],
      "id": "TEXTdz-FxjRw"
    },
    {
      "cell_type": "code",
      "execution_count": 100,
      "metadata": {
        "id": "Fz2pjssjy4ib"
      },
      "outputs": [],
      "source": [
        "X_val_cat = X_val[['race', 'gender', 'age', 'X1', 'X2', 'X3', 'X4', 'X5', 'X6', 'X7', 'X9',\n",
        "       'X10', 'X11', 'X12', 'X13', 'X14', 'X15', 'X16', 'X17', 'X20', 'X21',\n",
        "       'X22', 'X23', 'X24', 'change', 'diabetesMed', 'med_spec']]"
      ],
      "id": "Fz2pjssjy4ib"
    },
    {
      "cell_type": "code",
      "execution_count": 101,
      "metadata": {
        "colab": {
          "base_uri": "https://localhost:8080/"
        },
        "id": "Ep2MAlRsy_Xh",
        "outputId": "d4a8f1cc-b568-4822-8fe9-917bc8e3f871"
      },
      "outputs": [
        {
          "output_type": "execute_result",
          "data": {
            "text/plain": [
              "(14674, 27)"
            ]
          },
          "metadata": {},
          "execution_count": 101
        }
      ],
      "source": [
        "X_val_cat.shape"
      ],
      "id": "Ep2MAlRsy_Xh"
    },
    {
      "cell_type": "code",
      "execution_count": 102,
      "metadata": {
        "id": "LfJ8J3P9zC6K"
      },
      "outputs": [],
      "source": [
        "X_test_cat = test[['race', 'gender', 'age', 'X1', 'X2', 'X3', 'X4', 'X5', 'X6', 'X7', 'X9',\n",
        "       'X10', 'X11', 'X12', 'X13', 'X14', 'X15', 'X16', 'X17', 'X20', 'X21',\n",
        "       'X22', 'X23', 'X24', 'change', 'diabetesMed', 'med_spec']]"
      ],
      "id": "LfJ8J3P9zC6K"
    },
    {
      "cell_type": "code",
      "execution_count": 103,
      "metadata": {
        "colab": {
          "base_uri": "https://localhost:8080/"
        },
        "id": "GJ0NOI6cw3xe",
        "outputId": "fdfb0fd5-c298-4b28-d9af-0e2bbaac8fa0"
      },
      "outputs": [
        {
          "output_type": "execute_result",
          "data": {
            "text/plain": [
              "(15379, 27)"
            ]
          },
          "metadata": {},
          "execution_count": 103
        }
      ],
      "source": [
        "X_test_cat.shape"
      ],
      "id": "GJ0NOI6cw3xe"
    },
    {
      "cell_type": "markdown",
      "source": [
        "# Standardisation "
      ],
      "metadata": {
        "id": "KItc4ukEFBFI"
      },
      "id": "KItc4ukEFBFI"
    },
    {
      "cell_type": "code",
      "execution_count": 104,
      "metadata": {
        "id": "Ud4q8vMjvhUg"
      },
      "outputs": [],
      "source": [
        "from sklearn.preprocessing import StandardScaler\n",
        "\n",
        "scaler = StandardScaler()\n",
        "scaler.fit(X_train_num)\n",
        "X_train_num=scaler.transform(X_train_num)\n",
        "X_val_num=scaler.transform(X_val_num)\n",
        "X_test_num =scaler.transform(X_test_num)"
      ],
      "id": "Ud4q8vMjvhUg"
    },
    {
      "cell_type": "code",
      "execution_count": 105,
      "metadata": {
        "id": "JYmFlBTOGSOX"
      },
      "outputs": [],
      "source": [
        "X_train_num = pd.DataFrame(X_train_num)\n",
        "X_val_num = pd.DataFrame(X_val_num)\n",
        "X_test_num = pd.DataFrame(X_test_num)"
      ],
      "id": "JYmFlBTOGSOX"
    },
    {
      "cell_type": "code",
      "source": [
        "scaler.get_feature_names_out\n",
        "X_train_num.columns = scaler.get_feature_names_out()\n",
        "X_val_num.columns = scaler.get_feature_names_out()\n",
        "X_test_num.columns = scaler.get_feature_names_out()"
      ],
      "metadata": {
        "id": "jecK9AC8kSmE"
      },
      "id": "jecK9AC8kSmE",
      "execution_count": 172,
      "outputs": []
    },
    {
      "cell_type": "code",
      "execution_count": 106,
      "metadata": {
        "colab": {
          "base_uri": "https://localhost:8080/"
        },
        "id": "d20xTVUrvERd",
        "outputId": "14be3d2c-6cd5-4caf-c8f4-7c95e5ec0217"
      },
      "outputs": [
        {
          "output_type": "execute_result",
          "data": {
            "text/plain": [
              "(34237, 12)"
            ]
          },
          "metadata": {},
          "execution_count": 106
        }
      ],
      "source": [
        "X_train_num.shape"
      ],
      "id": "d20xTVUrvERd"
    },
    {
      "cell_type": "code",
      "source": [
        "X_train_num"
      ],
      "metadata": {
        "colab": {
          "base_uri": "https://localhost:8080/",
          "height": 488
        },
        "id": "rilfvcb2kJqy",
        "outputId": "a420f797-6771-44ba-caa1-dbdde67ad40c"
      },
      "id": "rilfvcb2kJqy",
      "execution_count": 173,
      "outputs": [
        {
          "output_type": "execute_result",
          "data": {
            "text/plain": [
              "       time_in_hospital  num_lab_procedures  num_procedures  num_medications  \\\n",
              "0              0.537667            1.270824       -0.785318        -0.620750   \n",
              "1             -1.141783           -2.154010        0.383984        -1.112765   \n",
              "2             -0.805893           -0.109333       -0.785318        -1.112765   \n",
              "3              0.201777           -0.773853       -0.200667         0.609289   \n",
              "4              0.201777            0.861888       -0.200667        -0.005730   \n",
              "...                 ...                 ...             ...              ...   \n",
              "34232          0.537667           -0.007099        0.968635        -0.374742   \n",
              "34233         -0.470003           -0.722736       -0.785318        -1.481777   \n",
              "34234         -0.470003            0.146251       -0.785318        -0.005730   \n",
              "34235         -1.141783           -1.540607        2.722589         0.240277   \n",
              "34236         -0.805893            0.657421       -0.785318        -0.005730   \n",
              "\n",
              "       number_outpatient  number_emergency  number_inpatient    diag_1  \\\n",
              "0              -0.300523         -0.213295         -0.504954 -0.268140   \n",
              "1              -0.300523         -0.213295         -0.504954 -0.235490   \n",
              "2              -0.300523         -0.213295         -0.504954 -0.268140   \n",
              "3              -0.300523         -0.213295          2.690040  1.070501   \n",
              "4              -0.300523         -0.213295         -0.504954 -0.328775   \n",
              "...                  ...               ...               ...       ...   \n",
              "34232          -0.300523         -0.213295         -0.504954  0.226271   \n",
              "34233          -0.300523         -0.213295         -0.504954 -2.227126   \n",
              "34234          -0.300523         -0.213295         -0.504954 -0.333439   \n",
              "34235          -0.300523         -0.213295          0.293794 -0.333439   \n",
              "34236          -0.300523         -0.213295         -0.504954 -0.650608   \n",
              "\n",
              "         diag_2    diag_3    diag_5  number_diagnoses  \n",
              "0     -0.000028 -0.579499 -0.891375          0.811977  \n",
              "1      1.875301  0.046515  0.627942         -0.739429  \n",
              "2     -0.005296  0.973015  0.694666          0.294841  \n",
              "3      0.879691  0.111620  1.180264          0.294841  \n",
              "4      0.142202  0.306937 -0.925019          0.811977  \n",
              "...         ...       ...       ...               ...  \n",
              "34232 -0.927157  0.692561  1.555340          0.811977  \n",
              "34233  1.901640 -0.709710 -1.280839         -2.290835  \n",
              "34234 -0.079045 -0.709610  0.675460         -0.739429  \n",
              "34235 -0.063242  0.111620 -1.700218          0.811977  \n",
              "34236 -0.131723 -0.709710 -0.081298         -1.256565  \n",
              "\n",
              "[34237 rows x 12 columns]"
            ],
            "text/html": [
              "\n",
              "  <div id=\"df-938cb96c-fe28-4285-9377-ccc2d83734e9\">\n",
              "    <div class=\"colab-df-container\">\n",
              "      <div>\n",
              "<style scoped>\n",
              "    .dataframe tbody tr th:only-of-type {\n",
              "        vertical-align: middle;\n",
              "    }\n",
              "\n",
              "    .dataframe tbody tr th {\n",
              "        vertical-align: top;\n",
              "    }\n",
              "\n",
              "    .dataframe thead th {\n",
              "        text-align: right;\n",
              "    }\n",
              "</style>\n",
              "<table border=\"1\" class=\"dataframe\">\n",
              "  <thead>\n",
              "    <tr style=\"text-align: right;\">\n",
              "      <th></th>\n",
              "      <th>time_in_hospital</th>\n",
              "      <th>num_lab_procedures</th>\n",
              "      <th>num_procedures</th>\n",
              "      <th>num_medications</th>\n",
              "      <th>number_outpatient</th>\n",
              "      <th>number_emergency</th>\n",
              "      <th>number_inpatient</th>\n",
              "      <th>diag_1</th>\n",
              "      <th>diag_2</th>\n",
              "      <th>diag_3</th>\n",
              "      <th>diag_5</th>\n",
              "      <th>number_diagnoses</th>\n",
              "    </tr>\n",
              "  </thead>\n",
              "  <tbody>\n",
              "    <tr>\n",
              "      <th>0</th>\n",
              "      <td>0.537667</td>\n",
              "      <td>1.270824</td>\n",
              "      <td>-0.785318</td>\n",
              "      <td>-0.620750</td>\n",
              "      <td>-0.300523</td>\n",
              "      <td>-0.213295</td>\n",
              "      <td>-0.504954</td>\n",
              "      <td>-0.268140</td>\n",
              "      <td>-0.000028</td>\n",
              "      <td>-0.579499</td>\n",
              "      <td>-0.891375</td>\n",
              "      <td>0.811977</td>\n",
              "    </tr>\n",
              "    <tr>\n",
              "      <th>1</th>\n",
              "      <td>-1.141783</td>\n",
              "      <td>-2.154010</td>\n",
              "      <td>0.383984</td>\n",
              "      <td>-1.112765</td>\n",
              "      <td>-0.300523</td>\n",
              "      <td>-0.213295</td>\n",
              "      <td>-0.504954</td>\n",
              "      <td>-0.235490</td>\n",
              "      <td>1.875301</td>\n",
              "      <td>0.046515</td>\n",
              "      <td>0.627942</td>\n",
              "      <td>-0.739429</td>\n",
              "    </tr>\n",
              "    <tr>\n",
              "      <th>2</th>\n",
              "      <td>-0.805893</td>\n",
              "      <td>-0.109333</td>\n",
              "      <td>-0.785318</td>\n",
              "      <td>-1.112765</td>\n",
              "      <td>-0.300523</td>\n",
              "      <td>-0.213295</td>\n",
              "      <td>-0.504954</td>\n",
              "      <td>-0.268140</td>\n",
              "      <td>-0.005296</td>\n",
              "      <td>0.973015</td>\n",
              "      <td>0.694666</td>\n",
              "      <td>0.294841</td>\n",
              "    </tr>\n",
              "    <tr>\n",
              "      <th>3</th>\n",
              "      <td>0.201777</td>\n",
              "      <td>-0.773853</td>\n",
              "      <td>-0.200667</td>\n",
              "      <td>0.609289</td>\n",
              "      <td>-0.300523</td>\n",
              "      <td>-0.213295</td>\n",
              "      <td>2.690040</td>\n",
              "      <td>1.070501</td>\n",
              "      <td>0.879691</td>\n",
              "      <td>0.111620</td>\n",
              "      <td>1.180264</td>\n",
              "      <td>0.294841</td>\n",
              "    </tr>\n",
              "    <tr>\n",
              "      <th>4</th>\n",
              "      <td>0.201777</td>\n",
              "      <td>0.861888</td>\n",
              "      <td>-0.200667</td>\n",
              "      <td>-0.005730</td>\n",
              "      <td>-0.300523</td>\n",
              "      <td>-0.213295</td>\n",
              "      <td>-0.504954</td>\n",
              "      <td>-0.328775</td>\n",
              "      <td>0.142202</td>\n",
              "      <td>0.306937</td>\n",
              "      <td>-0.925019</td>\n",
              "      <td>0.811977</td>\n",
              "    </tr>\n",
              "    <tr>\n",
              "      <th>...</th>\n",
              "      <td>...</td>\n",
              "      <td>...</td>\n",
              "      <td>...</td>\n",
              "      <td>...</td>\n",
              "      <td>...</td>\n",
              "      <td>...</td>\n",
              "      <td>...</td>\n",
              "      <td>...</td>\n",
              "      <td>...</td>\n",
              "      <td>...</td>\n",
              "      <td>...</td>\n",
              "      <td>...</td>\n",
              "    </tr>\n",
              "    <tr>\n",
              "      <th>34232</th>\n",
              "      <td>0.537667</td>\n",
              "      <td>-0.007099</td>\n",
              "      <td>0.968635</td>\n",
              "      <td>-0.374742</td>\n",
              "      <td>-0.300523</td>\n",
              "      <td>-0.213295</td>\n",
              "      <td>-0.504954</td>\n",
              "      <td>0.226271</td>\n",
              "      <td>-0.927157</td>\n",
              "      <td>0.692561</td>\n",
              "      <td>1.555340</td>\n",
              "      <td>0.811977</td>\n",
              "    </tr>\n",
              "    <tr>\n",
              "      <th>34233</th>\n",
              "      <td>-0.470003</td>\n",
              "      <td>-0.722736</td>\n",
              "      <td>-0.785318</td>\n",
              "      <td>-1.481777</td>\n",
              "      <td>-0.300523</td>\n",
              "      <td>-0.213295</td>\n",
              "      <td>-0.504954</td>\n",
              "      <td>-2.227126</td>\n",
              "      <td>1.901640</td>\n",
              "      <td>-0.709710</td>\n",
              "      <td>-1.280839</td>\n",
              "      <td>-2.290835</td>\n",
              "    </tr>\n",
              "    <tr>\n",
              "      <th>34234</th>\n",
              "      <td>-0.470003</td>\n",
              "      <td>0.146251</td>\n",
              "      <td>-0.785318</td>\n",
              "      <td>-0.005730</td>\n",
              "      <td>-0.300523</td>\n",
              "      <td>-0.213295</td>\n",
              "      <td>-0.504954</td>\n",
              "      <td>-0.333439</td>\n",
              "      <td>-0.079045</td>\n",
              "      <td>-0.709610</td>\n",
              "      <td>0.675460</td>\n",
              "      <td>-0.739429</td>\n",
              "    </tr>\n",
              "    <tr>\n",
              "      <th>34235</th>\n",
              "      <td>-1.141783</td>\n",
              "      <td>-1.540607</td>\n",
              "      <td>2.722589</td>\n",
              "      <td>0.240277</td>\n",
              "      <td>-0.300523</td>\n",
              "      <td>-0.213295</td>\n",
              "      <td>0.293794</td>\n",
              "      <td>-0.333439</td>\n",
              "      <td>-0.063242</td>\n",
              "      <td>0.111620</td>\n",
              "      <td>-1.700218</td>\n",
              "      <td>0.811977</td>\n",
              "    </tr>\n",
              "    <tr>\n",
              "      <th>34236</th>\n",
              "      <td>-0.805893</td>\n",
              "      <td>0.657421</td>\n",
              "      <td>-0.785318</td>\n",
              "      <td>-0.005730</td>\n",
              "      <td>-0.300523</td>\n",
              "      <td>-0.213295</td>\n",
              "      <td>-0.504954</td>\n",
              "      <td>-0.650608</td>\n",
              "      <td>-0.131723</td>\n",
              "      <td>-0.709710</td>\n",
              "      <td>-0.081298</td>\n",
              "      <td>-1.256565</td>\n",
              "    </tr>\n",
              "  </tbody>\n",
              "</table>\n",
              "<p>34237 rows × 12 columns</p>\n",
              "</div>\n",
              "      <button class=\"colab-df-convert\" onclick=\"convertToInteractive('df-938cb96c-fe28-4285-9377-ccc2d83734e9')\"\n",
              "              title=\"Convert this dataframe to an interactive table.\"\n",
              "              style=\"display:none;\">\n",
              "        \n",
              "  <svg xmlns=\"http://www.w3.org/2000/svg\" height=\"24px\"viewBox=\"0 0 24 24\"\n",
              "       width=\"24px\">\n",
              "    <path d=\"M0 0h24v24H0V0z\" fill=\"none\"/>\n",
              "    <path d=\"M18.56 5.44l.94 2.06.94-2.06 2.06-.94-2.06-.94-.94-2.06-.94 2.06-2.06.94zm-11 1L8.5 8.5l.94-2.06 2.06-.94-2.06-.94L8.5 2.5l-.94 2.06-2.06.94zm10 10l.94 2.06.94-2.06 2.06-.94-2.06-.94-.94-2.06-.94 2.06-2.06.94z\"/><path d=\"M17.41 7.96l-1.37-1.37c-.4-.4-.92-.59-1.43-.59-.52 0-1.04.2-1.43.59L10.3 9.45l-7.72 7.72c-.78.78-.78 2.05 0 2.83L4 21.41c.39.39.9.59 1.41.59.51 0 1.02-.2 1.41-.59l7.78-7.78 2.81-2.81c.8-.78.8-2.07 0-2.86zM5.41 20L4 18.59l7.72-7.72 1.47 1.35L5.41 20z\"/>\n",
              "  </svg>\n",
              "      </button>\n",
              "      \n",
              "  <style>\n",
              "    .colab-df-container {\n",
              "      display:flex;\n",
              "      flex-wrap:wrap;\n",
              "      gap: 12px;\n",
              "    }\n",
              "\n",
              "    .colab-df-convert {\n",
              "      background-color: #E8F0FE;\n",
              "      border: none;\n",
              "      border-radius: 50%;\n",
              "      cursor: pointer;\n",
              "      display: none;\n",
              "      fill: #1967D2;\n",
              "      height: 32px;\n",
              "      padding: 0 0 0 0;\n",
              "      width: 32px;\n",
              "    }\n",
              "\n",
              "    .colab-df-convert:hover {\n",
              "      background-color: #E2EBFA;\n",
              "      box-shadow: 0px 1px 2px rgba(60, 64, 67, 0.3), 0px 1px 3px 1px rgba(60, 64, 67, 0.15);\n",
              "      fill: #174EA6;\n",
              "    }\n",
              "\n",
              "    [theme=dark] .colab-df-convert {\n",
              "      background-color: #3B4455;\n",
              "      fill: #D2E3FC;\n",
              "    }\n",
              "\n",
              "    [theme=dark] .colab-df-convert:hover {\n",
              "      background-color: #434B5C;\n",
              "      box-shadow: 0px 1px 3px 1px rgba(0, 0, 0, 0.15);\n",
              "      filter: drop-shadow(0px 1px 2px rgba(0, 0, 0, 0.3));\n",
              "      fill: #FFFFFF;\n",
              "    }\n",
              "  </style>\n",
              "\n",
              "      <script>\n",
              "        const buttonEl =\n",
              "          document.querySelector('#df-938cb96c-fe28-4285-9377-ccc2d83734e9 button.colab-df-convert');\n",
              "        buttonEl.style.display =\n",
              "          google.colab.kernel.accessAllowed ? 'block' : 'none';\n",
              "\n",
              "        async function convertToInteractive(key) {\n",
              "          const element = document.querySelector('#df-938cb96c-fe28-4285-9377-ccc2d83734e9');\n",
              "          const dataTable =\n",
              "            await google.colab.kernel.invokeFunction('convertToInteractive',\n",
              "                                                     [key], {});\n",
              "          if (!dataTable) return;\n",
              "\n",
              "          const docLinkHtml = 'Like what you see? Visit the ' +\n",
              "            '<a target=\"_blank\" href=https://colab.research.google.com/notebooks/data_table.ipynb>data table notebook</a>'\n",
              "            + ' to learn more about interactive tables.';\n",
              "          element.innerHTML = '';\n",
              "          dataTable['output_type'] = 'display_data';\n",
              "          await google.colab.output.renderOutput(dataTable, element);\n",
              "          const docLink = document.createElement('div');\n",
              "          docLink.innerHTML = docLinkHtml;\n",
              "          element.appendChild(docLink);\n",
              "        }\n",
              "      </script>\n",
              "    </div>\n",
              "  </div>\n",
              "  "
            ]
          },
          "metadata": {},
          "execution_count": 173
        }
      ]
    },
    {
      "cell_type": "code",
      "execution_count": 107,
      "metadata": {
        "colab": {
          "base_uri": "https://localhost:8080/"
        },
        "id": "EGLjYNaBG0Gx",
        "outputId": "0f7b3abe-667b-4b03-813c-6120fbb40a2b"
      },
      "outputs": [
        {
          "output_type": "execute_result",
          "data": {
            "text/plain": [
              "(15379, 12)"
            ]
          },
          "metadata": {},
          "execution_count": 107
        }
      ],
      "source": [
        "X_test_num.shape"
      ],
      "id": "EGLjYNaBG0Gx"
    },
    {
      "cell_type": "code",
      "execution_count": 108,
      "metadata": {
        "colab": {
          "base_uri": "https://localhost:8080/"
        },
        "id": "cApUkqaHF79N",
        "outputId": "8296eabd-993d-4d41-dcf7-56822f3d9d1f"
      },
      "outputs": [
        {
          "output_type": "execute_result",
          "data": {
            "text/plain": [
              "(14674, 12)"
            ]
          },
          "metadata": {},
          "execution_count": 108
        }
      ],
      "source": [
        "X_val_num.shape"
      ],
      "id": "cApUkqaHF79N"
    },
    {
      "cell_type": "code",
      "execution_count": 109,
      "metadata": {
        "colab": {
          "base_uri": "https://localhost:8080/"
        },
        "id": "pVVQv6hdyhx4",
        "outputId": "8fd956ab-5208-4607-db31-03f949c61fb8"
      },
      "outputs": [
        {
          "output_type": "execute_result",
          "data": {
            "text/plain": [
              "(14674, 27)"
            ]
          },
          "metadata": {},
          "execution_count": 109
        }
      ],
      "source": [
        "X_val_cat.shape"
      ],
      "id": "pVVQv6hdyhx4"
    },
    {
      "cell_type": "code",
      "execution_count": 110,
      "metadata": {
        "colab": {
          "base_uri": "https://localhost:8080/"
        },
        "id": "9QF2Rg1G-CfJ",
        "outputId": "a7902f6f-f505-43b4-be16-dd945026cf73"
      },
      "outputs": [
        {
          "output_type": "execute_result",
          "data": {
            "text/plain": [
              "(34237, 27)"
            ]
          },
          "metadata": {},
          "execution_count": 110
        }
      ],
      "source": [
        "X_train_cat.shape"
      ],
      "id": "9QF2Rg1G-CfJ"
    },
    {
      "cell_type": "code",
      "execution_count": 111,
      "metadata": {
        "colab": {
          "base_uri": "https://localhost:8080/"
        },
        "id": "4Y3EoAY--Gn1",
        "outputId": "f19ce78f-0b78-4258-c19d-f75547cae1b9"
      },
      "outputs": [
        {
          "output_type": "execute_result",
          "data": {
            "text/plain": [
              "(15379, 27)"
            ]
          },
          "metadata": {},
          "execution_count": 111
        }
      ],
      "source": [
        "X_test_cat.shape"
      ],
      "id": "4Y3EoAY--Gn1"
    },
    {
      "cell_type": "code",
      "execution_count": 112,
      "metadata": {
        "colab": {
          "base_uri": "https://localhost:8080/",
          "height": 424
        },
        "id": "TLRYRNDJH1kg",
        "outputId": "cd55ebd9-e8ae-4464-8f11-fc2ece805181"
      },
      "outputs": [
        {
          "output_type": "execute_result",
          "data": {
            "text/plain": [
              "                  race  gender     age    X1    X2      X3  X4  X5  X6  X7  \\\n",
              "10412        Caucasian    Male     Old  None  None      No  No  No  No  No   \n",
              "26055        Caucasian  Female  Middle  None    >7      No  No  No  No  No   \n",
              "7734         Caucasian    Male     Old  None  None      No  No  No  No  No   \n",
              "26607        Caucasian    Male     Old  None  None      No  No  No  No  No   \n",
              "34983        Caucasian    Male     Old  None  None      No  No  No  No  No   \n",
              "...                ...     ...     ...   ...   ...     ...  ..  ..  ..  ..   \n",
              "31564        Caucasian  Female     Old  None  None      No  No  No  No  No   \n",
              "51545        Caucasian    Male     Old  None  None      No  No  No  No  No   \n",
              "57017            Asian    Male  Middle  >300    >8      No  No  No  No  No   \n",
              "12116        Caucasian  Female  Middle  None  None      No  No  No  No  No   \n",
              "12108  AfricanAmerican  Female  Middle  None  None  Steady  No  No  No  No   \n",
              "\n",
              "       ... X16 X17     X20 X21 X22 X23 X24 change diabetesMed  \\\n",
              "10412  ...  No  No      No  No  No  No  No     No         Yes   \n",
              "26055  ...  No  No      No  No  No  No  No     No          No   \n",
              "7734   ...  No  No  Steady  No  No  No  No     No         Yes   \n",
              "26607  ...  No  No      No  No  No  No  No     No         Yes   \n",
              "34983  ...  No  No  Steady  No  No  No  No     No         Yes   \n",
              "...    ...  ..  ..     ...  ..  ..  ..  ..    ...         ...   \n",
              "31564  ...  No  No      No  No  No  No  No     No         Yes   \n",
              "51545  ...  No  No      No  No  No  No  No     No          No   \n",
              "57017  ...  No  No    Down  No  No  No  No     Ch         Yes   \n",
              "12116  ...  No  No      Up  No  No  No  No     Ch         Yes   \n",
              "12108  ...  No  No      No  No  No  No  No     No         Yes   \n",
              "\n",
              "               med_spec  \n",
              "10412             Other  \n",
              "26055  Emergency/Trauma  \n",
              "7734              Other  \n",
              "26607       Orthopedics  \n",
              "34983  InternalMedicine  \n",
              "...                 ...  \n",
              "31564             Other  \n",
              "51545   Surgery-General  \n",
              "57017             Other  \n",
              "12116       Radiologist  \n",
              "12108  InternalMedicine  \n",
              "\n",
              "[34237 rows x 27 columns]"
            ],
            "text/html": [
              "\n",
              "  <div id=\"df-ad0ae0e8-57e8-411d-be3e-36c6894960da\">\n",
              "    <div class=\"colab-df-container\">\n",
              "      <div>\n",
              "<style scoped>\n",
              "    .dataframe tbody tr th:only-of-type {\n",
              "        vertical-align: middle;\n",
              "    }\n",
              "\n",
              "    .dataframe tbody tr th {\n",
              "        vertical-align: top;\n",
              "    }\n",
              "\n",
              "    .dataframe thead th {\n",
              "        text-align: right;\n",
              "    }\n",
              "</style>\n",
              "<table border=\"1\" class=\"dataframe\">\n",
              "  <thead>\n",
              "    <tr style=\"text-align: right;\">\n",
              "      <th></th>\n",
              "      <th>race</th>\n",
              "      <th>gender</th>\n",
              "      <th>age</th>\n",
              "      <th>X1</th>\n",
              "      <th>X2</th>\n",
              "      <th>X3</th>\n",
              "      <th>X4</th>\n",
              "      <th>X5</th>\n",
              "      <th>X6</th>\n",
              "      <th>X7</th>\n",
              "      <th>...</th>\n",
              "      <th>X16</th>\n",
              "      <th>X17</th>\n",
              "      <th>X20</th>\n",
              "      <th>X21</th>\n",
              "      <th>X22</th>\n",
              "      <th>X23</th>\n",
              "      <th>X24</th>\n",
              "      <th>change</th>\n",
              "      <th>diabetesMed</th>\n",
              "      <th>med_spec</th>\n",
              "    </tr>\n",
              "  </thead>\n",
              "  <tbody>\n",
              "    <tr>\n",
              "      <th>10412</th>\n",
              "      <td>Caucasian</td>\n",
              "      <td>Male</td>\n",
              "      <td>Old</td>\n",
              "      <td>None</td>\n",
              "      <td>None</td>\n",
              "      <td>No</td>\n",
              "      <td>No</td>\n",
              "      <td>No</td>\n",
              "      <td>No</td>\n",
              "      <td>No</td>\n",
              "      <td>...</td>\n",
              "      <td>No</td>\n",
              "      <td>No</td>\n",
              "      <td>No</td>\n",
              "      <td>No</td>\n",
              "      <td>No</td>\n",
              "      <td>No</td>\n",
              "      <td>No</td>\n",
              "      <td>No</td>\n",
              "      <td>Yes</td>\n",
              "      <td>Other</td>\n",
              "    </tr>\n",
              "    <tr>\n",
              "      <th>26055</th>\n",
              "      <td>Caucasian</td>\n",
              "      <td>Female</td>\n",
              "      <td>Middle</td>\n",
              "      <td>None</td>\n",
              "      <td>&gt;7</td>\n",
              "      <td>No</td>\n",
              "      <td>No</td>\n",
              "      <td>No</td>\n",
              "      <td>No</td>\n",
              "      <td>No</td>\n",
              "      <td>...</td>\n",
              "      <td>No</td>\n",
              "      <td>No</td>\n",
              "      <td>No</td>\n",
              "      <td>No</td>\n",
              "      <td>No</td>\n",
              "      <td>No</td>\n",
              "      <td>No</td>\n",
              "      <td>No</td>\n",
              "      <td>No</td>\n",
              "      <td>Emergency/Trauma</td>\n",
              "    </tr>\n",
              "    <tr>\n",
              "      <th>7734</th>\n",
              "      <td>Caucasian</td>\n",
              "      <td>Male</td>\n",
              "      <td>Old</td>\n",
              "      <td>None</td>\n",
              "      <td>None</td>\n",
              "      <td>No</td>\n",
              "      <td>No</td>\n",
              "      <td>No</td>\n",
              "      <td>No</td>\n",
              "      <td>No</td>\n",
              "      <td>...</td>\n",
              "      <td>No</td>\n",
              "      <td>No</td>\n",
              "      <td>Steady</td>\n",
              "      <td>No</td>\n",
              "      <td>No</td>\n",
              "      <td>No</td>\n",
              "      <td>No</td>\n",
              "      <td>No</td>\n",
              "      <td>Yes</td>\n",
              "      <td>Other</td>\n",
              "    </tr>\n",
              "    <tr>\n",
              "      <th>26607</th>\n",
              "      <td>Caucasian</td>\n",
              "      <td>Male</td>\n",
              "      <td>Old</td>\n",
              "      <td>None</td>\n",
              "      <td>None</td>\n",
              "      <td>No</td>\n",
              "      <td>No</td>\n",
              "      <td>No</td>\n",
              "      <td>No</td>\n",
              "      <td>No</td>\n",
              "      <td>...</td>\n",
              "      <td>No</td>\n",
              "      <td>No</td>\n",
              "      <td>No</td>\n",
              "      <td>No</td>\n",
              "      <td>No</td>\n",
              "      <td>No</td>\n",
              "      <td>No</td>\n",
              "      <td>No</td>\n",
              "      <td>Yes</td>\n",
              "      <td>Orthopedics</td>\n",
              "    </tr>\n",
              "    <tr>\n",
              "      <th>34983</th>\n",
              "      <td>Caucasian</td>\n",
              "      <td>Male</td>\n",
              "      <td>Old</td>\n",
              "      <td>None</td>\n",
              "      <td>None</td>\n",
              "      <td>No</td>\n",
              "      <td>No</td>\n",
              "      <td>No</td>\n",
              "      <td>No</td>\n",
              "      <td>No</td>\n",
              "      <td>...</td>\n",
              "      <td>No</td>\n",
              "      <td>No</td>\n",
              "      <td>Steady</td>\n",
              "      <td>No</td>\n",
              "      <td>No</td>\n",
              "      <td>No</td>\n",
              "      <td>No</td>\n",
              "      <td>No</td>\n",
              "      <td>Yes</td>\n",
              "      <td>InternalMedicine</td>\n",
              "    </tr>\n",
              "    <tr>\n",
              "      <th>...</th>\n",
              "      <td>...</td>\n",
              "      <td>...</td>\n",
              "      <td>...</td>\n",
              "      <td>...</td>\n",
              "      <td>...</td>\n",
              "      <td>...</td>\n",
              "      <td>...</td>\n",
              "      <td>...</td>\n",
              "      <td>...</td>\n",
              "      <td>...</td>\n",
              "      <td>...</td>\n",
              "      <td>...</td>\n",
              "      <td>...</td>\n",
              "      <td>...</td>\n",
              "      <td>...</td>\n",
              "      <td>...</td>\n",
              "      <td>...</td>\n",
              "      <td>...</td>\n",
              "      <td>...</td>\n",
              "      <td>...</td>\n",
              "      <td>...</td>\n",
              "    </tr>\n",
              "    <tr>\n",
              "      <th>31564</th>\n",
              "      <td>Caucasian</td>\n",
              "      <td>Female</td>\n",
              "      <td>Old</td>\n",
              "      <td>None</td>\n",
              "      <td>None</td>\n",
              "      <td>No</td>\n",
              "      <td>No</td>\n",
              "      <td>No</td>\n",
              "      <td>No</td>\n",
              "      <td>No</td>\n",
              "      <td>...</td>\n",
              "      <td>No</td>\n",
              "      <td>No</td>\n",
              "      <td>No</td>\n",
              "      <td>No</td>\n",
              "      <td>No</td>\n",
              "      <td>No</td>\n",
              "      <td>No</td>\n",
              "      <td>No</td>\n",
              "      <td>Yes</td>\n",
              "      <td>Other</td>\n",
              "    </tr>\n",
              "    <tr>\n",
              "      <th>51545</th>\n",
              "      <td>Caucasian</td>\n",
              "      <td>Male</td>\n",
              "      <td>Old</td>\n",
              "      <td>None</td>\n",
              "      <td>None</td>\n",
              "      <td>No</td>\n",
              "      <td>No</td>\n",
              "      <td>No</td>\n",
              "      <td>No</td>\n",
              "      <td>No</td>\n",
              "      <td>...</td>\n",
              "      <td>No</td>\n",
              "      <td>No</td>\n",
              "      <td>No</td>\n",
              "      <td>No</td>\n",
              "      <td>No</td>\n",
              "      <td>No</td>\n",
              "      <td>No</td>\n",
              "      <td>No</td>\n",
              "      <td>No</td>\n",
              "      <td>Surgery-General</td>\n",
              "    </tr>\n",
              "    <tr>\n",
              "      <th>57017</th>\n",
              "      <td>Asian</td>\n",
              "      <td>Male</td>\n",
              "      <td>Middle</td>\n",
              "      <td>&gt;300</td>\n",
              "      <td>&gt;8</td>\n",
              "      <td>No</td>\n",
              "      <td>No</td>\n",
              "      <td>No</td>\n",
              "      <td>No</td>\n",
              "      <td>No</td>\n",
              "      <td>...</td>\n",
              "      <td>No</td>\n",
              "      <td>No</td>\n",
              "      <td>Down</td>\n",
              "      <td>No</td>\n",
              "      <td>No</td>\n",
              "      <td>No</td>\n",
              "      <td>No</td>\n",
              "      <td>Ch</td>\n",
              "      <td>Yes</td>\n",
              "      <td>Other</td>\n",
              "    </tr>\n",
              "    <tr>\n",
              "      <th>12116</th>\n",
              "      <td>Caucasian</td>\n",
              "      <td>Female</td>\n",
              "      <td>Middle</td>\n",
              "      <td>None</td>\n",
              "      <td>None</td>\n",
              "      <td>No</td>\n",
              "      <td>No</td>\n",
              "      <td>No</td>\n",
              "      <td>No</td>\n",
              "      <td>No</td>\n",
              "      <td>...</td>\n",
              "      <td>No</td>\n",
              "      <td>No</td>\n",
              "      <td>Up</td>\n",
              "      <td>No</td>\n",
              "      <td>No</td>\n",
              "      <td>No</td>\n",
              "      <td>No</td>\n",
              "      <td>Ch</td>\n",
              "      <td>Yes</td>\n",
              "      <td>Radiologist</td>\n",
              "    </tr>\n",
              "    <tr>\n",
              "      <th>12108</th>\n",
              "      <td>AfricanAmerican</td>\n",
              "      <td>Female</td>\n",
              "      <td>Middle</td>\n",
              "      <td>None</td>\n",
              "      <td>None</td>\n",
              "      <td>Steady</td>\n",
              "      <td>No</td>\n",
              "      <td>No</td>\n",
              "      <td>No</td>\n",
              "      <td>No</td>\n",
              "      <td>...</td>\n",
              "      <td>No</td>\n",
              "      <td>No</td>\n",
              "      <td>No</td>\n",
              "      <td>No</td>\n",
              "      <td>No</td>\n",
              "      <td>No</td>\n",
              "      <td>No</td>\n",
              "      <td>No</td>\n",
              "      <td>Yes</td>\n",
              "      <td>InternalMedicine</td>\n",
              "    </tr>\n",
              "  </tbody>\n",
              "</table>\n",
              "<p>34237 rows × 27 columns</p>\n",
              "</div>\n",
              "      <button class=\"colab-df-convert\" onclick=\"convertToInteractive('df-ad0ae0e8-57e8-411d-be3e-36c6894960da')\"\n",
              "              title=\"Convert this dataframe to an interactive table.\"\n",
              "              style=\"display:none;\">\n",
              "        \n",
              "  <svg xmlns=\"http://www.w3.org/2000/svg\" height=\"24px\"viewBox=\"0 0 24 24\"\n",
              "       width=\"24px\">\n",
              "    <path d=\"M0 0h24v24H0V0z\" fill=\"none\"/>\n",
              "    <path d=\"M18.56 5.44l.94 2.06.94-2.06 2.06-.94-2.06-.94-.94-2.06-.94 2.06-2.06.94zm-11 1L8.5 8.5l.94-2.06 2.06-.94-2.06-.94L8.5 2.5l-.94 2.06-2.06.94zm10 10l.94 2.06.94-2.06 2.06-.94-2.06-.94-.94-2.06-.94 2.06-2.06.94z\"/><path d=\"M17.41 7.96l-1.37-1.37c-.4-.4-.92-.59-1.43-.59-.52 0-1.04.2-1.43.59L10.3 9.45l-7.72 7.72c-.78.78-.78 2.05 0 2.83L4 21.41c.39.39.9.59 1.41.59.51 0 1.02-.2 1.41-.59l7.78-7.78 2.81-2.81c.8-.78.8-2.07 0-2.86zM5.41 20L4 18.59l7.72-7.72 1.47 1.35L5.41 20z\"/>\n",
              "  </svg>\n",
              "      </button>\n",
              "      \n",
              "  <style>\n",
              "    .colab-df-container {\n",
              "      display:flex;\n",
              "      flex-wrap:wrap;\n",
              "      gap: 12px;\n",
              "    }\n",
              "\n",
              "    .colab-df-convert {\n",
              "      background-color: #E8F0FE;\n",
              "      border: none;\n",
              "      border-radius: 50%;\n",
              "      cursor: pointer;\n",
              "      display: none;\n",
              "      fill: #1967D2;\n",
              "      height: 32px;\n",
              "      padding: 0 0 0 0;\n",
              "      width: 32px;\n",
              "    }\n",
              "\n",
              "    .colab-df-convert:hover {\n",
              "      background-color: #E2EBFA;\n",
              "      box-shadow: 0px 1px 2px rgba(60, 64, 67, 0.3), 0px 1px 3px 1px rgba(60, 64, 67, 0.15);\n",
              "      fill: #174EA6;\n",
              "    }\n",
              "\n",
              "    [theme=dark] .colab-df-convert {\n",
              "      background-color: #3B4455;\n",
              "      fill: #D2E3FC;\n",
              "    }\n",
              "\n",
              "    [theme=dark] .colab-df-convert:hover {\n",
              "      background-color: #434B5C;\n",
              "      box-shadow: 0px 1px 3px 1px rgba(0, 0, 0, 0.15);\n",
              "      filter: drop-shadow(0px 1px 2px rgba(0, 0, 0, 0.3));\n",
              "      fill: #FFFFFF;\n",
              "    }\n",
              "  </style>\n",
              "\n",
              "      <script>\n",
              "        const buttonEl =\n",
              "          document.querySelector('#df-ad0ae0e8-57e8-411d-be3e-36c6894960da button.colab-df-convert');\n",
              "        buttonEl.style.display =\n",
              "          google.colab.kernel.accessAllowed ? 'block' : 'none';\n",
              "\n",
              "        async function convertToInteractive(key) {\n",
              "          const element = document.querySelector('#df-ad0ae0e8-57e8-411d-be3e-36c6894960da');\n",
              "          const dataTable =\n",
              "            await google.colab.kernel.invokeFunction('convertToInteractive',\n",
              "                                                     [key], {});\n",
              "          if (!dataTable) return;\n",
              "\n",
              "          const docLinkHtml = 'Like what you see? Visit the ' +\n",
              "            '<a target=\"_blank\" href=https://colab.research.google.com/notebooks/data_table.ipynb>data table notebook</a>'\n",
              "            + ' to learn more about interactive tables.';\n",
              "          element.innerHTML = '';\n",
              "          dataTable['output_type'] = 'display_data';\n",
              "          await google.colab.output.renderOutput(dataTable, element);\n",
              "          const docLink = document.createElement('div');\n",
              "          docLink.innerHTML = docLinkHtml;\n",
              "          element.appendChild(docLink);\n",
              "        }\n",
              "      </script>\n",
              "    </div>\n",
              "  </div>\n",
              "  "
            ]
          },
          "metadata": {},
          "execution_count": 112
        }
      ],
      "source": [
        "X_train_cat"
      ],
      "id": "TLRYRNDJH1kg"
    },
    {
      "cell_type": "markdown",
      "metadata": {
        "id": "r0dQ69bLQwqp"
      },
      "source": [
        "# One hot encoding "
      ],
      "id": "r0dQ69bLQwqp"
    },
    {
      "cell_type": "code",
      "execution_count": 113,
      "metadata": {
        "id": "6y2xBbk-vgJ7"
      },
      "outputs": [],
      "source": [
        "from sklearn.preprocessing import OneHotEncoder\n",
        "ohe = OneHotEncoder(handle_unknown='ignore',drop='first')\n",
        "ohe.fit(X_train_cat)\n",
        "X_train_cat = ohe.transform(X_train_cat).toarray()\n",
        "X_val_cat = ohe.transform(X_val_cat).toarray()\n",
        "X_test_cat = ohe.transform(X_test_cat).toarray()\n",
        "\n",
        "\n"
      ],
      "id": "6y2xBbk-vgJ7"
    },
    {
      "cell_type": "code",
      "execution_count": 114,
      "metadata": {
        "id": "P33CsXfp1utd"
      },
      "outputs": [],
      "source": [
        "#convert one hot encoded arrays into dataframe\n",
        "X_train_cat = pd.DataFrame(X_train_cat)\n",
        "X_val_cat = pd.DataFrame(X_val_cat)\n",
        "X_test_cat = pd.DataFrame(X_test_cat)"
      ],
      "id": "P33CsXfp1utd"
    },
    {
      "cell_type": "code",
      "execution_count": 115,
      "metadata": {
        "colab": {
          "base_uri": "https://localhost:8080/"
        },
        "id": "11SgfUsgOAr0",
        "outputId": "d9af9d5d-4d83-4321-d2af-c1f154c1be44"
      },
      "outputs": [
        {
          "output_type": "execute_result",
          "data": {
            "text/plain": [
              "(34237, 74)"
            ]
          },
          "metadata": {},
          "execution_count": 115
        }
      ],
      "source": [
        "X_train_cat.shape"
      ],
      "id": "11SgfUsgOAr0"
    },
    {
      "cell_type": "code",
      "execution_count": 116,
      "metadata": {
        "colab": {
          "base_uri": "https://localhost:8080/"
        },
        "id": "5zOAeR5dWgGa",
        "outputId": "d730cb23-f9df-4df6-d07e-d3f8e5a1ba9d"
      },
      "outputs": [
        {
          "output_type": "execute_result",
          "data": {
            "text/plain": [
              "(34237, 12)"
            ]
          },
          "metadata": {},
          "execution_count": 116
        }
      ],
      "source": [
        "X_train_num.shape"
      ],
      "id": "5zOAeR5dWgGa"
    },
    {
      "cell_type": "code",
      "execution_count": 117,
      "metadata": {
        "colab": {
          "base_uri": "https://localhost:8080/"
        },
        "id": "LaxgtZ96VGdT",
        "outputId": "b73c59d8-09a5-44a2-f29c-bb7c6c2c96a8"
      },
      "outputs": [
        {
          "output_type": "execute_result",
          "data": {
            "text/plain": [
              "(14674, 74)"
            ]
          },
          "metadata": {},
          "execution_count": 117
        }
      ],
      "source": [
        "X_val_cat.shape"
      ],
      "id": "LaxgtZ96VGdT"
    },
    {
      "cell_type": "code",
      "execution_count": 118,
      "metadata": {
        "colab": {
          "base_uri": "https://localhost:8080/"
        },
        "id": "9aWnzRXLWros",
        "outputId": "0c3a1791-43fe-446e-c290-b3e62182363c"
      },
      "outputs": [
        {
          "output_type": "execute_result",
          "data": {
            "text/plain": [
              "(14674, 12)"
            ]
          },
          "metadata": {},
          "execution_count": 118
        }
      ],
      "source": [
        "X_val_num.shape"
      ],
      "id": "9aWnzRXLWros"
    },
    {
      "cell_type": "code",
      "execution_count": 119,
      "metadata": {
        "colab": {
          "base_uri": "https://localhost:8080/"
        },
        "id": "BpP8Z7iTWv68",
        "outputId": "24083916-cee9-4a05-adb6-bf03c673adc5"
      },
      "outputs": [
        {
          "output_type": "execute_result",
          "data": {
            "text/plain": [
              "(15379, 74)"
            ]
          },
          "metadata": {},
          "execution_count": 119
        }
      ],
      "source": [
        "X_test_cat.shape"
      ],
      "id": "BpP8Z7iTWv68"
    },
    {
      "cell_type": "code",
      "execution_count": 120,
      "metadata": {
        "colab": {
          "base_uri": "https://localhost:8080/"
        },
        "id": "Q2RvplOLW871",
        "outputId": "3bdec48d-6172-407c-c5b7-b6e87d3ea315"
      },
      "outputs": [
        {
          "output_type": "execute_result",
          "data": {
            "text/plain": [
              "(15379, 12)"
            ]
          },
          "metadata": {},
          "execution_count": 120
        }
      ],
      "source": [
        "X_test_num.shape"
      ],
      "id": "Q2RvplOLW871"
    },
    {
      "cell_type": "code",
      "execution_count": 121,
      "metadata": {
        "colab": {
          "base_uri": "https://localhost:8080/"
        },
        "id": "hJceUcJ_Yr_v",
        "outputId": "9935fbee-1d24-49b4-ac2d-e05e9fb25604"
      },
      "outputs": [
        {
          "output_type": "execute_result",
          "data": {
            "text/plain": [
              "(14674, 74)"
            ]
          },
          "metadata": {},
          "execution_count": 121
        }
      ],
      "source": [
        "X_val_cat.shape"
      ],
      "id": "hJceUcJ_Yr_v"
    },
    {
      "cell_type": "code",
      "execution_count": 122,
      "metadata": {
        "colab": {
          "base_uri": "https://localhost:8080/"
        },
        "id": "5ReA2iqN2PYZ",
        "outputId": "c1a3abbc-553a-4e8d-9670-46cff7ce7416"
      },
      "outputs": [
        {
          "output_type": "execute_result",
          "data": {
            "text/plain": [
              "(34237, 74)"
            ]
          },
          "metadata": {},
          "execution_count": 122
        }
      ],
      "source": [
        "X_train_cat.shape"
      ],
      "id": "5ReA2iqN2PYZ"
    },
    {
      "cell_type": "code",
      "execution_count": 123,
      "metadata": {
        "colab": {
          "base_uri": "https://localhost:8080/"
        },
        "id": "KZ0qHnP52WBp",
        "outputId": "f3a3d82a-89f1-474a-b3c4-0f6e7e9d5f93"
      },
      "outputs": [
        {
          "output_type": "execute_result",
          "data": {
            "text/plain": [
              "(15379, 74)"
            ]
          },
          "metadata": {},
          "execution_count": 123
        }
      ],
      "source": [
        "X_test_cat.shape"
      ],
      "id": "KZ0qHnP52WBp"
    },
    {
      "cell_type": "code",
      "execution_count": 124,
      "metadata": {
        "id": "MtldWJVCTWeL"
      },
      "outputs": [],
      "source": [
        "#get column_names\n",
        "ohe.get_feature_names_out()\n",
        "X_train_cat.columns = ohe.get_feature_names_out()\n",
        "X_val_cat.columns = ohe.get_feature_names_out()\n",
        "X_test_cat.columns = ohe.get_feature_names_out()"
      ],
      "id": "MtldWJVCTWeL"
    },
    {
      "cell_type": "code",
      "execution_count": 125,
      "metadata": {
        "colab": {
          "base_uri": "https://localhost:8080/",
          "height": 505
        },
        "id": "K3rfAXvQdlUx",
        "outputId": "3a6c7663-f7fe-4332-a861-770d62a612e0"
      },
      "outputs": [
        {
          "output_type": "execute_result",
          "data": {
            "text/plain": [
              "       race_Asian  race_Caucasian  race_Hispanic  race_Other  race_Unknown  \\\n",
              "0             0.0             1.0            0.0         0.0           0.0   \n",
              "1             0.0             1.0            0.0         0.0           0.0   \n",
              "2             0.0             0.0            0.0         0.0           0.0   \n",
              "3             0.0             1.0            0.0         0.0           0.0   \n",
              "4             0.0             0.0            0.0         0.0           0.0   \n",
              "...           ...             ...            ...         ...           ...   \n",
              "15374         0.0             0.0            0.0         1.0           0.0   \n",
              "15375         0.0             1.0            0.0         0.0           0.0   \n",
              "15376         0.0             1.0            0.0         0.0           0.0   \n",
              "15377         0.0             0.0            0.0         0.0           1.0   \n",
              "15378         0.0             1.0            0.0         0.0           0.0   \n",
              "\n",
              "       gender_Male  gender_Unknown/Invalid  age_Old  age_Young  X1_>300  ...  \\\n",
              "0              0.0                     0.0      1.0        0.0      0.0  ...   \n",
              "1              1.0                     0.0      1.0        0.0      0.0  ...   \n",
              "2              1.0                     0.0      1.0        0.0      0.0  ...   \n",
              "3              0.0                     0.0      1.0        0.0      0.0  ...   \n",
              "4              0.0                     0.0      0.0        0.0      0.0  ...   \n",
              "...            ...                     ...      ...        ...      ...  ...   \n",
              "15374          0.0                     0.0      0.0        0.0      0.0  ...   \n",
              "15375          1.0                     0.0      1.0        0.0      0.0  ...   \n",
              "15376          0.0                     0.0      0.0        0.0      0.0  ...   \n",
              "15377          1.0                     0.0      1.0        0.0      0.0  ...   \n",
              "15378          0.0                     0.0      1.0        0.0      0.0  ...   \n",
              "\n",
              "       med_spec_Orthopedics  med_spec_Orthopedics-Reconstructive  \\\n",
              "0                       0.0                                  0.0   \n",
              "1                       0.0                                  0.0   \n",
              "2                       0.0                                  0.0   \n",
              "3                       0.0                                  0.0   \n",
              "4                       0.0                                  0.0   \n",
              "...                     ...                                  ...   \n",
              "15374                   0.0                                  0.0   \n",
              "15375                   0.0                                  0.0   \n",
              "15376                   0.0                                  0.0   \n",
              "15377                   0.0                                  0.0   \n",
              "15378                   0.0                                  0.0   \n",
              "\n",
              "       med_spec_Other  med_spec_Psychiatry  med_spec_Pulmonology  \\\n",
              "0                 1.0                  0.0                   0.0   \n",
              "1                 1.0                  0.0                   0.0   \n",
              "2                 0.0                  0.0                   0.0   \n",
              "3                 0.0                  0.0                   0.0   \n",
              "4                 0.0                  0.0                   0.0   \n",
              "...               ...                  ...                   ...   \n",
              "15374             1.0                  0.0                   0.0   \n",
              "15375             0.0                  0.0                   0.0   \n",
              "15376             0.0                  0.0                   0.0   \n",
              "15377             1.0                  0.0                   0.0   \n",
              "15378             0.0                  0.0                   0.0   \n",
              "\n",
              "       med_spec_Radiologist  med_spec_Surgery-Cardiovascular/Thoracic  \\\n",
              "0                       0.0                                       0.0   \n",
              "1                       0.0                                       0.0   \n",
              "2                       0.0                                       0.0   \n",
              "3                       0.0                                       0.0   \n",
              "4                       0.0                                       0.0   \n",
              "...                     ...                                       ...   \n",
              "15374                   0.0                                       0.0   \n",
              "15375                   0.0                                       0.0   \n",
              "15376                   0.0                                       0.0   \n",
              "15377                   0.0                                       0.0   \n",
              "15378                   0.0                                       0.0   \n",
              "\n",
              "       med_spec_Surgery-General  med_spec_Surgery-Vascular  med_spec_Urology  \n",
              "0                           0.0                        0.0               0.0  \n",
              "1                           0.0                        0.0               0.0  \n",
              "2                           0.0                        0.0               0.0  \n",
              "3                           0.0                        0.0               0.0  \n",
              "4                           0.0                        0.0               0.0  \n",
              "...                         ...                        ...               ...  \n",
              "15374                       0.0                        0.0               0.0  \n",
              "15375                       0.0                        0.0               0.0  \n",
              "15376                       0.0                        0.0               0.0  \n",
              "15377                       0.0                        0.0               0.0  \n",
              "15378                       0.0                        0.0               0.0  \n",
              "\n",
              "[15379 rows x 74 columns]"
            ],
            "text/html": [
              "\n",
              "  <div id=\"df-7314824b-dc23-45cb-99ca-7d898f2b70b5\">\n",
              "    <div class=\"colab-df-container\">\n",
              "      <div>\n",
              "<style scoped>\n",
              "    .dataframe tbody tr th:only-of-type {\n",
              "        vertical-align: middle;\n",
              "    }\n",
              "\n",
              "    .dataframe tbody tr th {\n",
              "        vertical-align: top;\n",
              "    }\n",
              "\n",
              "    .dataframe thead th {\n",
              "        text-align: right;\n",
              "    }\n",
              "</style>\n",
              "<table border=\"1\" class=\"dataframe\">\n",
              "  <thead>\n",
              "    <tr style=\"text-align: right;\">\n",
              "      <th></th>\n",
              "      <th>race_Asian</th>\n",
              "      <th>race_Caucasian</th>\n",
              "      <th>race_Hispanic</th>\n",
              "      <th>race_Other</th>\n",
              "      <th>race_Unknown</th>\n",
              "      <th>gender_Male</th>\n",
              "      <th>gender_Unknown/Invalid</th>\n",
              "      <th>age_Old</th>\n",
              "      <th>age_Young</th>\n",
              "      <th>X1_&gt;300</th>\n",
              "      <th>...</th>\n",
              "      <th>med_spec_Orthopedics</th>\n",
              "      <th>med_spec_Orthopedics-Reconstructive</th>\n",
              "      <th>med_spec_Other</th>\n",
              "      <th>med_spec_Psychiatry</th>\n",
              "      <th>med_spec_Pulmonology</th>\n",
              "      <th>med_spec_Radiologist</th>\n",
              "      <th>med_spec_Surgery-Cardiovascular/Thoracic</th>\n",
              "      <th>med_spec_Surgery-General</th>\n",
              "      <th>med_spec_Surgery-Vascular</th>\n",
              "      <th>med_spec_Urology</th>\n",
              "    </tr>\n",
              "  </thead>\n",
              "  <tbody>\n",
              "    <tr>\n",
              "      <th>0</th>\n",
              "      <td>0.0</td>\n",
              "      <td>1.0</td>\n",
              "      <td>0.0</td>\n",
              "      <td>0.0</td>\n",
              "      <td>0.0</td>\n",
              "      <td>0.0</td>\n",
              "      <td>0.0</td>\n",
              "      <td>1.0</td>\n",
              "      <td>0.0</td>\n",
              "      <td>0.0</td>\n",
              "      <td>...</td>\n",
              "      <td>0.0</td>\n",
              "      <td>0.0</td>\n",
              "      <td>1.0</td>\n",
              "      <td>0.0</td>\n",
              "      <td>0.0</td>\n",
              "      <td>0.0</td>\n",
              "      <td>0.0</td>\n",
              "      <td>0.0</td>\n",
              "      <td>0.0</td>\n",
              "      <td>0.0</td>\n",
              "    </tr>\n",
              "    <tr>\n",
              "      <th>1</th>\n",
              "      <td>0.0</td>\n",
              "      <td>1.0</td>\n",
              "      <td>0.0</td>\n",
              "      <td>0.0</td>\n",
              "      <td>0.0</td>\n",
              "      <td>1.0</td>\n",
              "      <td>0.0</td>\n",
              "      <td>1.0</td>\n",
              "      <td>0.0</td>\n",
              "      <td>0.0</td>\n",
              "      <td>...</td>\n",
              "      <td>0.0</td>\n",
              "      <td>0.0</td>\n",
              "      <td>1.0</td>\n",
              "      <td>0.0</td>\n",
              "      <td>0.0</td>\n",
              "      <td>0.0</td>\n",
              "      <td>0.0</td>\n",
              "      <td>0.0</td>\n",
              "      <td>0.0</td>\n",
              "      <td>0.0</td>\n",
              "    </tr>\n",
              "    <tr>\n",
              "      <th>2</th>\n",
              "      <td>0.0</td>\n",
              "      <td>0.0</td>\n",
              "      <td>0.0</td>\n",
              "      <td>0.0</td>\n",
              "      <td>0.0</td>\n",
              "      <td>1.0</td>\n",
              "      <td>0.0</td>\n",
              "      <td>1.0</td>\n",
              "      <td>0.0</td>\n",
              "      <td>0.0</td>\n",
              "      <td>...</td>\n",
              "      <td>0.0</td>\n",
              "      <td>0.0</td>\n",
              "      <td>0.0</td>\n",
              "      <td>0.0</td>\n",
              "      <td>0.0</td>\n",
              "      <td>0.0</td>\n",
              "      <td>0.0</td>\n",
              "      <td>0.0</td>\n",
              "      <td>0.0</td>\n",
              "      <td>0.0</td>\n",
              "    </tr>\n",
              "    <tr>\n",
              "      <th>3</th>\n",
              "      <td>0.0</td>\n",
              "      <td>1.0</td>\n",
              "      <td>0.0</td>\n",
              "      <td>0.0</td>\n",
              "      <td>0.0</td>\n",
              "      <td>0.0</td>\n",
              "      <td>0.0</td>\n",
              "      <td>1.0</td>\n",
              "      <td>0.0</td>\n",
              "      <td>0.0</td>\n",
              "      <td>...</td>\n",
              "      <td>0.0</td>\n",
              "      <td>0.0</td>\n",
              "      <td>0.0</td>\n",
              "      <td>0.0</td>\n",
              "      <td>0.0</td>\n",
              "      <td>0.0</td>\n",
              "      <td>0.0</td>\n",
              "      <td>0.0</td>\n",
              "      <td>0.0</td>\n",
              "      <td>0.0</td>\n",
              "    </tr>\n",
              "    <tr>\n",
              "      <th>4</th>\n",
              "      <td>0.0</td>\n",
              "      <td>0.0</td>\n",
              "      <td>0.0</td>\n",
              "      <td>0.0</td>\n",
              "      <td>0.0</td>\n",
              "      <td>0.0</td>\n",
              "      <td>0.0</td>\n",
              "      <td>0.0</td>\n",
              "      <td>0.0</td>\n",
              "      <td>0.0</td>\n",
              "      <td>...</td>\n",
              "      <td>0.0</td>\n",
              "      <td>0.0</td>\n",
              "      <td>0.0</td>\n",
              "      <td>0.0</td>\n",
              "      <td>0.0</td>\n",
              "      <td>0.0</td>\n",
              "      <td>0.0</td>\n",
              "      <td>0.0</td>\n",
              "      <td>0.0</td>\n",
              "      <td>0.0</td>\n",
              "    </tr>\n",
              "    <tr>\n",
              "      <th>...</th>\n",
              "      <td>...</td>\n",
              "      <td>...</td>\n",
              "      <td>...</td>\n",
              "      <td>...</td>\n",
              "      <td>...</td>\n",
              "      <td>...</td>\n",
              "      <td>...</td>\n",
              "      <td>...</td>\n",
              "      <td>...</td>\n",
              "      <td>...</td>\n",
              "      <td>...</td>\n",
              "      <td>...</td>\n",
              "      <td>...</td>\n",
              "      <td>...</td>\n",
              "      <td>...</td>\n",
              "      <td>...</td>\n",
              "      <td>...</td>\n",
              "      <td>...</td>\n",
              "      <td>...</td>\n",
              "      <td>...</td>\n",
              "      <td>...</td>\n",
              "    </tr>\n",
              "    <tr>\n",
              "      <th>15374</th>\n",
              "      <td>0.0</td>\n",
              "      <td>0.0</td>\n",
              "      <td>0.0</td>\n",
              "      <td>1.0</td>\n",
              "      <td>0.0</td>\n",
              "      <td>0.0</td>\n",
              "      <td>0.0</td>\n",
              "      <td>0.0</td>\n",
              "      <td>0.0</td>\n",
              "      <td>0.0</td>\n",
              "      <td>...</td>\n",
              "      <td>0.0</td>\n",
              "      <td>0.0</td>\n",
              "      <td>1.0</td>\n",
              "      <td>0.0</td>\n",
              "      <td>0.0</td>\n",
              "      <td>0.0</td>\n",
              "      <td>0.0</td>\n",
              "      <td>0.0</td>\n",
              "      <td>0.0</td>\n",
              "      <td>0.0</td>\n",
              "    </tr>\n",
              "    <tr>\n",
              "      <th>15375</th>\n",
              "      <td>0.0</td>\n",
              "      <td>1.0</td>\n",
              "      <td>0.0</td>\n",
              "      <td>0.0</td>\n",
              "      <td>0.0</td>\n",
              "      <td>1.0</td>\n",
              "      <td>0.0</td>\n",
              "      <td>1.0</td>\n",
              "      <td>0.0</td>\n",
              "      <td>0.0</td>\n",
              "      <td>...</td>\n",
              "      <td>0.0</td>\n",
              "      <td>0.0</td>\n",
              "      <td>0.0</td>\n",
              "      <td>0.0</td>\n",
              "      <td>0.0</td>\n",
              "      <td>0.0</td>\n",
              "      <td>0.0</td>\n",
              "      <td>0.0</td>\n",
              "      <td>0.0</td>\n",
              "      <td>0.0</td>\n",
              "    </tr>\n",
              "    <tr>\n",
              "      <th>15376</th>\n",
              "      <td>0.0</td>\n",
              "      <td>1.0</td>\n",
              "      <td>0.0</td>\n",
              "      <td>0.0</td>\n",
              "      <td>0.0</td>\n",
              "      <td>0.0</td>\n",
              "      <td>0.0</td>\n",
              "      <td>0.0</td>\n",
              "      <td>0.0</td>\n",
              "      <td>0.0</td>\n",
              "      <td>...</td>\n",
              "      <td>0.0</td>\n",
              "      <td>0.0</td>\n",
              "      <td>0.0</td>\n",
              "      <td>0.0</td>\n",
              "      <td>0.0</td>\n",
              "      <td>0.0</td>\n",
              "      <td>0.0</td>\n",
              "      <td>0.0</td>\n",
              "      <td>0.0</td>\n",
              "      <td>0.0</td>\n",
              "    </tr>\n",
              "    <tr>\n",
              "      <th>15377</th>\n",
              "      <td>0.0</td>\n",
              "      <td>0.0</td>\n",
              "      <td>0.0</td>\n",
              "      <td>0.0</td>\n",
              "      <td>1.0</td>\n",
              "      <td>1.0</td>\n",
              "      <td>0.0</td>\n",
              "      <td>1.0</td>\n",
              "      <td>0.0</td>\n",
              "      <td>0.0</td>\n",
              "      <td>...</td>\n",
              "      <td>0.0</td>\n",
              "      <td>0.0</td>\n",
              "      <td>1.0</td>\n",
              "      <td>0.0</td>\n",
              "      <td>0.0</td>\n",
              "      <td>0.0</td>\n",
              "      <td>0.0</td>\n",
              "      <td>0.0</td>\n",
              "      <td>0.0</td>\n",
              "      <td>0.0</td>\n",
              "    </tr>\n",
              "    <tr>\n",
              "      <th>15378</th>\n",
              "      <td>0.0</td>\n",
              "      <td>1.0</td>\n",
              "      <td>0.0</td>\n",
              "      <td>0.0</td>\n",
              "      <td>0.0</td>\n",
              "      <td>0.0</td>\n",
              "      <td>0.0</td>\n",
              "      <td>1.0</td>\n",
              "      <td>0.0</td>\n",
              "      <td>0.0</td>\n",
              "      <td>...</td>\n",
              "      <td>0.0</td>\n",
              "      <td>0.0</td>\n",
              "      <td>0.0</td>\n",
              "      <td>0.0</td>\n",
              "      <td>0.0</td>\n",
              "      <td>0.0</td>\n",
              "      <td>0.0</td>\n",
              "      <td>0.0</td>\n",
              "      <td>0.0</td>\n",
              "      <td>0.0</td>\n",
              "    </tr>\n",
              "  </tbody>\n",
              "</table>\n",
              "<p>15379 rows × 74 columns</p>\n",
              "</div>\n",
              "      <button class=\"colab-df-convert\" onclick=\"convertToInteractive('df-7314824b-dc23-45cb-99ca-7d898f2b70b5')\"\n",
              "              title=\"Convert this dataframe to an interactive table.\"\n",
              "              style=\"display:none;\">\n",
              "        \n",
              "  <svg xmlns=\"http://www.w3.org/2000/svg\" height=\"24px\"viewBox=\"0 0 24 24\"\n",
              "       width=\"24px\">\n",
              "    <path d=\"M0 0h24v24H0V0z\" fill=\"none\"/>\n",
              "    <path d=\"M18.56 5.44l.94 2.06.94-2.06 2.06-.94-2.06-.94-.94-2.06-.94 2.06-2.06.94zm-11 1L8.5 8.5l.94-2.06 2.06-.94-2.06-.94L8.5 2.5l-.94 2.06-2.06.94zm10 10l.94 2.06.94-2.06 2.06-.94-2.06-.94-.94-2.06-.94 2.06-2.06.94z\"/><path d=\"M17.41 7.96l-1.37-1.37c-.4-.4-.92-.59-1.43-.59-.52 0-1.04.2-1.43.59L10.3 9.45l-7.72 7.72c-.78.78-.78 2.05 0 2.83L4 21.41c.39.39.9.59 1.41.59.51 0 1.02-.2 1.41-.59l7.78-7.78 2.81-2.81c.8-.78.8-2.07 0-2.86zM5.41 20L4 18.59l7.72-7.72 1.47 1.35L5.41 20z\"/>\n",
              "  </svg>\n",
              "      </button>\n",
              "      \n",
              "  <style>\n",
              "    .colab-df-container {\n",
              "      display:flex;\n",
              "      flex-wrap:wrap;\n",
              "      gap: 12px;\n",
              "    }\n",
              "\n",
              "    .colab-df-convert {\n",
              "      background-color: #E8F0FE;\n",
              "      border: none;\n",
              "      border-radius: 50%;\n",
              "      cursor: pointer;\n",
              "      display: none;\n",
              "      fill: #1967D2;\n",
              "      height: 32px;\n",
              "      padding: 0 0 0 0;\n",
              "      width: 32px;\n",
              "    }\n",
              "\n",
              "    .colab-df-convert:hover {\n",
              "      background-color: #E2EBFA;\n",
              "      box-shadow: 0px 1px 2px rgba(60, 64, 67, 0.3), 0px 1px 3px 1px rgba(60, 64, 67, 0.15);\n",
              "      fill: #174EA6;\n",
              "    }\n",
              "\n",
              "    [theme=dark] .colab-df-convert {\n",
              "      background-color: #3B4455;\n",
              "      fill: #D2E3FC;\n",
              "    }\n",
              "\n",
              "    [theme=dark] .colab-df-convert:hover {\n",
              "      background-color: #434B5C;\n",
              "      box-shadow: 0px 1px 3px 1px rgba(0, 0, 0, 0.15);\n",
              "      filter: drop-shadow(0px 1px 2px rgba(0, 0, 0, 0.3));\n",
              "      fill: #FFFFFF;\n",
              "    }\n",
              "  </style>\n",
              "\n",
              "      <script>\n",
              "        const buttonEl =\n",
              "          document.querySelector('#df-7314824b-dc23-45cb-99ca-7d898f2b70b5 button.colab-df-convert');\n",
              "        buttonEl.style.display =\n",
              "          google.colab.kernel.accessAllowed ? 'block' : 'none';\n",
              "\n",
              "        async function convertToInteractive(key) {\n",
              "          const element = document.querySelector('#df-7314824b-dc23-45cb-99ca-7d898f2b70b5');\n",
              "          const dataTable =\n",
              "            await google.colab.kernel.invokeFunction('convertToInteractive',\n",
              "                                                     [key], {});\n",
              "          if (!dataTable) return;\n",
              "\n",
              "          const docLinkHtml = 'Like what you see? Visit the ' +\n",
              "            '<a target=\"_blank\" href=https://colab.research.google.com/notebooks/data_table.ipynb>data table notebook</a>'\n",
              "            + ' to learn more about interactive tables.';\n",
              "          element.innerHTML = '';\n",
              "          dataTable['output_type'] = 'display_data';\n",
              "          await google.colab.output.renderOutput(dataTable, element);\n",
              "          const docLink = document.createElement('div');\n",
              "          docLink.innerHTML = docLinkHtml;\n",
              "          element.appendChild(docLink);\n",
              "        }\n",
              "      </script>\n",
              "    </div>\n",
              "  </div>\n",
              "  "
            ]
          },
          "metadata": {},
          "execution_count": 125
        }
      ],
      "source": [
        "X_test_cat"
      ],
      "id": "K3rfAXvQdlUx"
    },
    {
      "cell_type": "code",
      "execution_count": 126,
      "metadata": {
        "id": "V5sEb69wWqoI"
      },
      "outputs": [],
      "source": [
        "#Test has 15379 records\n",
        "#Train has 34237 records\n",
        "#Val has 14674 rows "
      ],
      "id": "V5sEb69wWqoI"
    },
    {
      "cell_type": "code",
      "execution_count": 127,
      "metadata": {
        "colab": {
          "base_uri": "https://localhost:8080/"
        },
        "id": "T09Nl7eLTm_o",
        "outputId": "24f747d1-ee55-4e08-9b4b-396d82451dc1"
      },
      "outputs": [
        {
          "output_type": "execute_result",
          "data": {
            "text/plain": [
              "(15379, 74)"
            ]
          },
          "metadata": {},
          "execution_count": 127
        }
      ],
      "source": [
        "X_test_cat.shape"
      ],
      "id": "T09Nl7eLTm_o"
    },
    {
      "cell_type": "code",
      "execution_count": 128,
      "metadata": {
        "colab": {
          "base_uri": "https://localhost:8080/"
        },
        "id": "19BZ_IQJqcxz",
        "outputId": "135f4c82-a7b8-4371-e6a5-662a8966b02a"
      },
      "outputs": [
        {
          "output_type": "execute_result",
          "data": {
            "text/plain": [
              "(34237, 74)"
            ]
          },
          "metadata": {},
          "execution_count": 128
        }
      ],
      "source": [
        "X_train_cat.shape"
      ],
      "id": "19BZ_IQJqcxz"
    },
    {
      "cell_type": "code",
      "execution_count": 129,
      "metadata": {
        "colab": {
          "base_uri": "https://localhost:8080/"
        },
        "id": "FDUofwwbVlVQ",
        "outputId": "bb07462f-6e36-45ec-cbba-f2735a880f7a"
      },
      "outputs": [
        {
          "output_type": "execute_result",
          "data": {
            "text/plain": [
              "(14674, 74)"
            ]
          },
          "metadata": {},
          "execution_count": 129
        }
      ],
      "source": [
        "X_val_cat.shape\n"
      ],
      "id": "FDUofwwbVlVQ"
    },
    {
      "cell_type": "markdown",
      "metadata": {
        "id": "e86m2LoZMlb8"
      },
      "source": [
        "# Combine standardised and one hot encoded dataframes"
      ],
      "id": "e86m2LoZMlb8"
    },
    {
      "cell_type": "code",
      "execution_count": 130,
      "metadata": {
        "id": "mjzo1vYEQ2Ta"
      },
      "outputs": [],
      "source": [
        "def combine_num_df_cat_df(num_df, cat_df):\n",
        "    result = pd.concat([num_df,cat_df],axis=1)\n",
        "    display(result.head())\n",
        "    return result"
      ],
      "id": "mjzo1vYEQ2Ta"
    },
    {
      "cell_type": "code",
      "execution_count": 131,
      "metadata": {
        "colab": {
          "base_uri": "https://localhost:8080/"
        },
        "id": "iJFbGHA8oWMr",
        "outputId": "d481ae4a-1a08-49d8-f64a-7183471abc79"
      },
      "outputs": [
        {
          "output_type": "execute_result",
          "data": {
            "text/plain": [
              "pandas.core.frame.DataFrame"
            ]
          },
          "metadata": {},
          "execution_count": 131
        }
      ],
      "source": [
        "type(X_train_num)"
      ],
      "id": "iJFbGHA8oWMr"
    },
    {
      "cell_type": "code",
      "execution_count": 132,
      "metadata": {
        "colab": {
          "base_uri": "https://localhost:8080/",
          "height": 790
        },
        "id": "3eSaLEbjSGxE",
        "outputId": "73a11100-e5c4-409e-c688-535622b54391"
      },
      "outputs": [
        {
          "output_type": "display_data",
          "data": {
            "text/plain": [
              "          0         1         2         3         4         5         6  \\\n",
              "0  0.537667  1.270824 -0.785318 -0.620750 -0.300523 -0.213295 -0.504954   \n",
              "1 -1.141783 -2.154010  0.383984 -1.112765 -0.300523 -0.213295 -0.504954   \n",
              "2 -0.805893 -0.109333 -0.785318 -1.112765 -0.300523 -0.213295 -0.504954   \n",
              "3  0.201777 -0.773853 -0.200667  0.609289 -0.300523 -0.213295  2.690040   \n",
              "4  0.201777  0.861888 -0.200667 -0.005730 -0.300523 -0.213295 -0.504954   \n",
              "\n",
              "          7         8         9  ...  med_spec_Orthopedics  \\\n",
              "0 -0.268140 -0.000028 -0.579499  ...                   0.0   \n",
              "1 -0.235490  1.875301  0.046515  ...                   0.0   \n",
              "2 -0.268140 -0.005296  0.973015  ...                   0.0   \n",
              "3  1.070501  0.879691  0.111620  ...                   1.0   \n",
              "4 -0.328775  0.142202  0.306937  ...                   0.0   \n",
              "\n",
              "   med_spec_Orthopedics-Reconstructive  med_spec_Other  med_spec_Psychiatry  \\\n",
              "0                                  0.0             1.0                  0.0   \n",
              "1                                  0.0             0.0                  0.0   \n",
              "2                                  0.0             1.0                  0.0   \n",
              "3                                  0.0             0.0                  0.0   \n",
              "4                                  0.0             0.0                  0.0   \n",
              "\n",
              "   med_spec_Pulmonology  med_spec_Radiologist  \\\n",
              "0                   0.0                   0.0   \n",
              "1                   0.0                   0.0   \n",
              "2                   0.0                   0.0   \n",
              "3                   0.0                   0.0   \n",
              "4                   0.0                   0.0   \n",
              "\n",
              "   med_spec_Surgery-Cardiovascular/Thoracic  med_spec_Surgery-General  \\\n",
              "0                                       0.0                       0.0   \n",
              "1                                       0.0                       0.0   \n",
              "2                                       0.0                       0.0   \n",
              "3                                       0.0                       0.0   \n",
              "4                                       0.0                       0.0   \n",
              "\n",
              "   med_spec_Surgery-Vascular  med_spec_Urology  \n",
              "0                        0.0               0.0  \n",
              "1                        0.0               0.0  \n",
              "2                        0.0               0.0  \n",
              "3                        0.0               0.0  \n",
              "4                        0.0               0.0  \n",
              "\n",
              "[5 rows x 86 columns]"
            ],
            "text/html": [
              "\n",
              "  <div id=\"df-c6cc9b0c-0c21-4f8c-b0ba-963af3dc4a8b\">\n",
              "    <div class=\"colab-df-container\">\n",
              "      <div>\n",
              "<style scoped>\n",
              "    .dataframe tbody tr th:only-of-type {\n",
              "        vertical-align: middle;\n",
              "    }\n",
              "\n",
              "    .dataframe tbody tr th {\n",
              "        vertical-align: top;\n",
              "    }\n",
              "\n",
              "    .dataframe thead th {\n",
              "        text-align: right;\n",
              "    }\n",
              "</style>\n",
              "<table border=\"1\" class=\"dataframe\">\n",
              "  <thead>\n",
              "    <tr style=\"text-align: right;\">\n",
              "      <th></th>\n",
              "      <th>0</th>\n",
              "      <th>1</th>\n",
              "      <th>2</th>\n",
              "      <th>3</th>\n",
              "      <th>4</th>\n",
              "      <th>5</th>\n",
              "      <th>6</th>\n",
              "      <th>7</th>\n",
              "      <th>8</th>\n",
              "      <th>9</th>\n",
              "      <th>...</th>\n",
              "      <th>med_spec_Orthopedics</th>\n",
              "      <th>med_spec_Orthopedics-Reconstructive</th>\n",
              "      <th>med_spec_Other</th>\n",
              "      <th>med_spec_Psychiatry</th>\n",
              "      <th>med_spec_Pulmonology</th>\n",
              "      <th>med_spec_Radiologist</th>\n",
              "      <th>med_spec_Surgery-Cardiovascular/Thoracic</th>\n",
              "      <th>med_spec_Surgery-General</th>\n",
              "      <th>med_spec_Surgery-Vascular</th>\n",
              "      <th>med_spec_Urology</th>\n",
              "    </tr>\n",
              "  </thead>\n",
              "  <tbody>\n",
              "    <tr>\n",
              "      <th>0</th>\n",
              "      <td>0.537667</td>\n",
              "      <td>1.270824</td>\n",
              "      <td>-0.785318</td>\n",
              "      <td>-0.620750</td>\n",
              "      <td>-0.300523</td>\n",
              "      <td>-0.213295</td>\n",
              "      <td>-0.504954</td>\n",
              "      <td>-0.268140</td>\n",
              "      <td>-0.000028</td>\n",
              "      <td>-0.579499</td>\n",
              "      <td>...</td>\n",
              "      <td>0.0</td>\n",
              "      <td>0.0</td>\n",
              "      <td>1.0</td>\n",
              "      <td>0.0</td>\n",
              "      <td>0.0</td>\n",
              "      <td>0.0</td>\n",
              "      <td>0.0</td>\n",
              "      <td>0.0</td>\n",
              "      <td>0.0</td>\n",
              "      <td>0.0</td>\n",
              "    </tr>\n",
              "    <tr>\n",
              "      <th>1</th>\n",
              "      <td>-1.141783</td>\n",
              "      <td>-2.154010</td>\n",
              "      <td>0.383984</td>\n",
              "      <td>-1.112765</td>\n",
              "      <td>-0.300523</td>\n",
              "      <td>-0.213295</td>\n",
              "      <td>-0.504954</td>\n",
              "      <td>-0.235490</td>\n",
              "      <td>1.875301</td>\n",
              "      <td>0.046515</td>\n",
              "      <td>...</td>\n",
              "      <td>0.0</td>\n",
              "      <td>0.0</td>\n",
              "      <td>0.0</td>\n",
              "      <td>0.0</td>\n",
              "      <td>0.0</td>\n",
              "      <td>0.0</td>\n",
              "      <td>0.0</td>\n",
              "      <td>0.0</td>\n",
              "      <td>0.0</td>\n",
              "      <td>0.0</td>\n",
              "    </tr>\n",
              "    <tr>\n",
              "      <th>2</th>\n",
              "      <td>-0.805893</td>\n",
              "      <td>-0.109333</td>\n",
              "      <td>-0.785318</td>\n",
              "      <td>-1.112765</td>\n",
              "      <td>-0.300523</td>\n",
              "      <td>-0.213295</td>\n",
              "      <td>-0.504954</td>\n",
              "      <td>-0.268140</td>\n",
              "      <td>-0.005296</td>\n",
              "      <td>0.973015</td>\n",
              "      <td>...</td>\n",
              "      <td>0.0</td>\n",
              "      <td>0.0</td>\n",
              "      <td>1.0</td>\n",
              "      <td>0.0</td>\n",
              "      <td>0.0</td>\n",
              "      <td>0.0</td>\n",
              "      <td>0.0</td>\n",
              "      <td>0.0</td>\n",
              "      <td>0.0</td>\n",
              "      <td>0.0</td>\n",
              "    </tr>\n",
              "    <tr>\n",
              "      <th>3</th>\n",
              "      <td>0.201777</td>\n",
              "      <td>-0.773853</td>\n",
              "      <td>-0.200667</td>\n",
              "      <td>0.609289</td>\n",
              "      <td>-0.300523</td>\n",
              "      <td>-0.213295</td>\n",
              "      <td>2.690040</td>\n",
              "      <td>1.070501</td>\n",
              "      <td>0.879691</td>\n",
              "      <td>0.111620</td>\n",
              "      <td>...</td>\n",
              "      <td>1.0</td>\n",
              "      <td>0.0</td>\n",
              "      <td>0.0</td>\n",
              "      <td>0.0</td>\n",
              "      <td>0.0</td>\n",
              "      <td>0.0</td>\n",
              "      <td>0.0</td>\n",
              "      <td>0.0</td>\n",
              "      <td>0.0</td>\n",
              "      <td>0.0</td>\n",
              "    </tr>\n",
              "    <tr>\n",
              "      <th>4</th>\n",
              "      <td>0.201777</td>\n",
              "      <td>0.861888</td>\n",
              "      <td>-0.200667</td>\n",
              "      <td>-0.005730</td>\n",
              "      <td>-0.300523</td>\n",
              "      <td>-0.213295</td>\n",
              "      <td>-0.504954</td>\n",
              "      <td>-0.328775</td>\n",
              "      <td>0.142202</td>\n",
              "      <td>0.306937</td>\n",
              "      <td>...</td>\n",
              "      <td>0.0</td>\n",
              "      <td>0.0</td>\n",
              "      <td>0.0</td>\n",
              "      <td>0.0</td>\n",
              "      <td>0.0</td>\n",
              "      <td>0.0</td>\n",
              "      <td>0.0</td>\n",
              "      <td>0.0</td>\n",
              "      <td>0.0</td>\n",
              "      <td>0.0</td>\n",
              "    </tr>\n",
              "  </tbody>\n",
              "</table>\n",
              "<p>5 rows × 86 columns</p>\n",
              "</div>\n",
              "      <button class=\"colab-df-convert\" onclick=\"convertToInteractive('df-c6cc9b0c-0c21-4f8c-b0ba-963af3dc4a8b')\"\n",
              "              title=\"Convert this dataframe to an interactive table.\"\n",
              "              style=\"display:none;\">\n",
              "        \n",
              "  <svg xmlns=\"http://www.w3.org/2000/svg\" height=\"24px\"viewBox=\"0 0 24 24\"\n",
              "       width=\"24px\">\n",
              "    <path d=\"M0 0h24v24H0V0z\" fill=\"none\"/>\n",
              "    <path d=\"M18.56 5.44l.94 2.06.94-2.06 2.06-.94-2.06-.94-.94-2.06-.94 2.06-2.06.94zm-11 1L8.5 8.5l.94-2.06 2.06-.94-2.06-.94L8.5 2.5l-.94 2.06-2.06.94zm10 10l.94 2.06.94-2.06 2.06-.94-2.06-.94-.94-2.06-.94 2.06-2.06.94z\"/><path d=\"M17.41 7.96l-1.37-1.37c-.4-.4-.92-.59-1.43-.59-.52 0-1.04.2-1.43.59L10.3 9.45l-7.72 7.72c-.78.78-.78 2.05 0 2.83L4 21.41c.39.39.9.59 1.41.59.51 0 1.02-.2 1.41-.59l7.78-7.78 2.81-2.81c.8-.78.8-2.07 0-2.86zM5.41 20L4 18.59l7.72-7.72 1.47 1.35L5.41 20z\"/>\n",
              "  </svg>\n",
              "      </button>\n",
              "      \n",
              "  <style>\n",
              "    .colab-df-container {\n",
              "      display:flex;\n",
              "      flex-wrap:wrap;\n",
              "      gap: 12px;\n",
              "    }\n",
              "\n",
              "    .colab-df-convert {\n",
              "      background-color: #E8F0FE;\n",
              "      border: none;\n",
              "      border-radius: 50%;\n",
              "      cursor: pointer;\n",
              "      display: none;\n",
              "      fill: #1967D2;\n",
              "      height: 32px;\n",
              "      padding: 0 0 0 0;\n",
              "      width: 32px;\n",
              "    }\n",
              "\n",
              "    .colab-df-convert:hover {\n",
              "      background-color: #E2EBFA;\n",
              "      box-shadow: 0px 1px 2px rgba(60, 64, 67, 0.3), 0px 1px 3px 1px rgba(60, 64, 67, 0.15);\n",
              "      fill: #174EA6;\n",
              "    }\n",
              "\n",
              "    [theme=dark] .colab-df-convert {\n",
              "      background-color: #3B4455;\n",
              "      fill: #D2E3FC;\n",
              "    }\n",
              "\n",
              "    [theme=dark] .colab-df-convert:hover {\n",
              "      background-color: #434B5C;\n",
              "      box-shadow: 0px 1px 3px 1px rgba(0, 0, 0, 0.15);\n",
              "      filter: drop-shadow(0px 1px 2px rgba(0, 0, 0, 0.3));\n",
              "      fill: #FFFFFF;\n",
              "    }\n",
              "  </style>\n",
              "\n",
              "      <script>\n",
              "        const buttonEl =\n",
              "          document.querySelector('#df-c6cc9b0c-0c21-4f8c-b0ba-963af3dc4a8b button.colab-df-convert');\n",
              "        buttonEl.style.display =\n",
              "          google.colab.kernel.accessAllowed ? 'block' : 'none';\n",
              "\n",
              "        async function convertToInteractive(key) {\n",
              "          const element = document.querySelector('#df-c6cc9b0c-0c21-4f8c-b0ba-963af3dc4a8b');\n",
              "          const dataTable =\n",
              "            await google.colab.kernel.invokeFunction('convertToInteractive',\n",
              "                                                     [key], {});\n",
              "          if (!dataTable) return;\n",
              "\n",
              "          const docLinkHtml = 'Like what you see? Visit the ' +\n",
              "            '<a target=\"_blank\" href=https://colab.research.google.com/notebooks/data_table.ipynb>data table notebook</a>'\n",
              "            + ' to learn more about interactive tables.';\n",
              "          element.innerHTML = '';\n",
              "          dataTable['output_type'] = 'display_data';\n",
              "          await google.colab.output.renderOutput(dataTable, element);\n",
              "          const docLink = document.createElement('div');\n",
              "          docLink.innerHTML = docLinkHtml;\n",
              "          element.appendChild(docLink);\n",
              "        }\n",
              "      </script>\n",
              "    </div>\n",
              "  </div>\n",
              "  "
            ]
          },
          "metadata": {}
        },
        {
          "output_type": "display_data",
          "data": {
            "text/plain": [
              "          0         1         2         3         4         5         6  \\\n",
              "0  1.209448  0.401836  1.553287  0.240277 -0.300523 -0.213295 -0.504954   \n",
              "1 -0.470003 -0.007099 -0.785318 -0.497746 -0.300523 -0.213295  1.092543   \n",
              "2 -0.470003  0.401836 -0.785318 -0.005730 -0.300523 -0.213295 -0.504954   \n",
              "3  0.201777  1.475291  2.137938  1.347312 -0.300523 -0.213295 -0.504954   \n",
              "4  0.537667  0.248485 -0.785318 -0.866757 -0.300523 -0.213295 -0.504954   \n",
              "\n",
              "          7         8         9  ...  med_spec_Orthopedics  \\\n",
              "0 -0.944456 -1.532952  0.627456  ...                   0.0   \n",
              "1 -0.333439 -0.079045  0.181734  ...                   0.0   \n",
              "2  2.381157 -2.043926 -0.709710  ...                   0.0   \n",
              "3 -0.389410  0.484608  0.181734  ...                   0.0   \n",
              "4  0.916581 -0.790195 -0.579499  ...                   0.0   \n",
              "\n",
              "   med_spec_Orthopedics-Reconstructive  med_spec_Other  med_spec_Psychiatry  \\\n",
              "0                                  0.0             1.0                  0.0   \n",
              "1                                  0.0             1.0                  0.0   \n",
              "2                                  0.0             1.0                  0.0   \n",
              "3                                  0.0             1.0                  0.0   \n",
              "4                                  0.0             0.0                  0.0   \n",
              "\n",
              "   med_spec_Pulmonology  med_spec_Radiologist  \\\n",
              "0                   0.0                   0.0   \n",
              "1                   0.0                   0.0   \n",
              "2                   0.0                   0.0   \n",
              "3                   0.0                   0.0   \n",
              "4                   0.0                   0.0   \n",
              "\n",
              "   med_spec_Surgery-Cardiovascular/Thoracic  med_spec_Surgery-General  \\\n",
              "0                                       0.0                       0.0   \n",
              "1                                       0.0                       0.0   \n",
              "2                                       0.0                       0.0   \n",
              "3                                       0.0                       0.0   \n",
              "4                                       0.0                       0.0   \n",
              "\n",
              "   med_spec_Surgery-Vascular  med_spec_Urology  \n",
              "0                        0.0               0.0  \n",
              "1                        0.0               0.0  \n",
              "2                        0.0               0.0  \n",
              "3                        0.0               0.0  \n",
              "4                        0.0               0.0  \n",
              "\n",
              "[5 rows x 86 columns]"
            ],
            "text/html": [
              "\n",
              "  <div id=\"df-16b56998-7eb1-4b6c-be6c-521e3d4f985e\">\n",
              "    <div class=\"colab-df-container\">\n",
              "      <div>\n",
              "<style scoped>\n",
              "    .dataframe tbody tr th:only-of-type {\n",
              "        vertical-align: middle;\n",
              "    }\n",
              "\n",
              "    .dataframe tbody tr th {\n",
              "        vertical-align: top;\n",
              "    }\n",
              "\n",
              "    .dataframe thead th {\n",
              "        text-align: right;\n",
              "    }\n",
              "</style>\n",
              "<table border=\"1\" class=\"dataframe\">\n",
              "  <thead>\n",
              "    <tr style=\"text-align: right;\">\n",
              "      <th></th>\n",
              "      <th>0</th>\n",
              "      <th>1</th>\n",
              "      <th>2</th>\n",
              "      <th>3</th>\n",
              "      <th>4</th>\n",
              "      <th>5</th>\n",
              "      <th>6</th>\n",
              "      <th>7</th>\n",
              "      <th>8</th>\n",
              "      <th>9</th>\n",
              "      <th>...</th>\n",
              "      <th>med_spec_Orthopedics</th>\n",
              "      <th>med_spec_Orthopedics-Reconstructive</th>\n",
              "      <th>med_spec_Other</th>\n",
              "      <th>med_spec_Psychiatry</th>\n",
              "      <th>med_spec_Pulmonology</th>\n",
              "      <th>med_spec_Radiologist</th>\n",
              "      <th>med_spec_Surgery-Cardiovascular/Thoracic</th>\n",
              "      <th>med_spec_Surgery-General</th>\n",
              "      <th>med_spec_Surgery-Vascular</th>\n",
              "      <th>med_spec_Urology</th>\n",
              "    </tr>\n",
              "  </thead>\n",
              "  <tbody>\n",
              "    <tr>\n",
              "      <th>0</th>\n",
              "      <td>1.209448</td>\n",
              "      <td>0.401836</td>\n",
              "      <td>1.553287</td>\n",
              "      <td>0.240277</td>\n",
              "      <td>-0.300523</td>\n",
              "      <td>-0.213295</td>\n",
              "      <td>-0.504954</td>\n",
              "      <td>-0.944456</td>\n",
              "      <td>-1.532952</td>\n",
              "      <td>0.627456</td>\n",
              "      <td>...</td>\n",
              "      <td>0.0</td>\n",
              "      <td>0.0</td>\n",
              "      <td>1.0</td>\n",
              "      <td>0.0</td>\n",
              "      <td>0.0</td>\n",
              "      <td>0.0</td>\n",
              "      <td>0.0</td>\n",
              "      <td>0.0</td>\n",
              "      <td>0.0</td>\n",
              "      <td>0.0</td>\n",
              "    </tr>\n",
              "    <tr>\n",
              "      <th>1</th>\n",
              "      <td>-0.470003</td>\n",
              "      <td>-0.007099</td>\n",
              "      <td>-0.785318</td>\n",
              "      <td>-0.497746</td>\n",
              "      <td>-0.300523</td>\n",
              "      <td>-0.213295</td>\n",
              "      <td>1.092543</td>\n",
              "      <td>-0.333439</td>\n",
              "      <td>-0.079045</td>\n",
              "      <td>0.181734</td>\n",
              "      <td>...</td>\n",
              "      <td>0.0</td>\n",
              "      <td>0.0</td>\n",
              "      <td>1.0</td>\n",
              "      <td>0.0</td>\n",
              "      <td>0.0</td>\n",
              "      <td>0.0</td>\n",
              "      <td>0.0</td>\n",
              "      <td>0.0</td>\n",
              "      <td>0.0</td>\n",
              "      <td>0.0</td>\n",
              "    </tr>\n",
              "    <tr>\n",
              "      <th>2</th>\n",
              "      <td>-0.470003</td>\n",
              "      <td>0.401836</td>\n",
              "      <td>-0.785318</td>\n",
              "      <td>-0.005730</td>\n",
              "      <td>-0.300523</td>\n",
              "      <td>-0.213295</td>\n",
              "      <td>-0.504954</td>\n",
              "      <td>2.381157</td>\n",
              "      <td>-2.043926</td>\n",
              "      <td>-0.709710</td>\n",
              "      <td>...</td>\n",
              "      <td>0.0</td>\n",
              "      <td>0.0</td>\n",
              "      <td>1.0</td>\n",
              "      <td>0.0</td>\n",
              "      <td>0.0</td>\n",
              "      <td>0.0</td>\n",
              "      <td>0.0</td>\n",
              "      <td>0.0</td>\n",
              "      <td>0.0</td>\n",
              "      <td>0.0</td>\n",
              "    </tr>\n",
              "    <tr>\n",
              "      <th>3</th>\n",
              "      <td>0.201777</td>\n",
              "      <td>1.475291</td>\n",
              "      <td>2.137938</td>\n",
              "      <td>1.347312</td>\n",
              "      <td>-0.300523</td>\n",
              "      <td>-0.213295</td>\n",
              "      <td>-0.504954</td>\n",
              "      <td>-0.389410</td>\n",
              "      <td>0.484608</td>\n",
              "      <td>0.181734</td>\n",
              "      <td>...</td>\n",
              "      <td>0.0</td>\n",
              "      <td>0.0</td>\n",
              "      <td>1.0</td>\n",
              "      <td>0.0</td>\n",
              "      <td>0.0</td>\n",
              "      <td>0.0</td>\n",
              "      <td>0.0</td>\n",
              "      <td>0.0</td>\n",
              "      <td>0.0</td>\n",
              "      <td>0.0</td>\n",
              "    </tr>\n",
              "    <tr>\n",
              "      <th>4</th>\n",
              "      <td>0.537667</td>\n",
              "      <td>0.248485</td>\n",
              "      <td>-0.785318</td>\n",
              "      <td>-0.866757</td>\n",
              "      <td>-0.300523</td>\n",
              "      <td>-0.213295</td>\n",
              "      <td>-0.504954</td>\n",
              "      <td>0.916581</td>\n",
              "      <td>-0.790195</td>\n",
              "      <td>-0.579499</td>\n",
              "      <td>...</td>\n",
              "      <td>0.0</td>\n",
              "      <td>0.0</td>\n",
              "      <td>0.0</td>\n",
              "      <td>0.0</td>\n",
              "      <td>0.0</td>\n",
              "      <td>0.0</td>\n",
              "      <td>0.0</td>\n",
              "      <td>0.0</td>\n",
              "      <td>0.0</td>\n",
              "      <td>0.0</td>\n",
              "    </tr>\n",
              "  </tbody>\n",
              "</table>\n",
              "<p>5 rows × 86 columns</p>\n",
              "</div>\n",
              "      <button class=\"colab-df-convert\" onclick=\"convertToInteractive('df-16b56998-7eb1-4b6c-be6c-521e3d4f985e')\"\n",
              "              title=\"Convert this dataframe to an interactive table.\"\n",
              "              style=\"display:none;\">\n",
              "        \n",
              "  <svg xmlns=\"http://www.w3.org/2000/svg\" height=\"24px\"viewBox=\"0 0 24 24\"\n",
              "       width=\"24px\">\n",
              "    <path d=\"M0 0h24v24H0V0z\" fill=\"none\"/>\n",
              "    <path d=\"M18.56 5.44l.94 2.06.94-2.06 2.06-.94-2.06-.94-.94-2.06-.94 2.06-2.06.94zm-11 1L8.5 8.5l.94-2.06 2.06-.94-2.06-.94L8.5 2.5l-.94 2.06-2.06.94zm10 10l.94 2.06.94-2.06 2.06-.94-2.06-.94-.94-2.06-.94 2.06-2.06.94z\"/><path d=\"M17.41 7.96l-1.37-1.37c-.4-.4-.92-.59-1.43-.59-.52 0-1.04.2-1.43.59L10.3 9.45l-7.72 7.72c-.78.78-.78 2.05 0 2.83L4 21.41c.39.39.9.59 1.41.59.51 0 1.02-.2 1.41-.59l7.78-7.78 2.81-2.81c.8-.78.8-2.07 0-2.86zM5.41 20L4 18.59l7.72-7.72 1.47 1.35L5.41 20z\"/>\n",
              "  </svg>\n",
              "      </button>\n",
              "      \n",
              "  <style>\n",
              "    .colab-df-container {\n",
              "      display:flex;\n",
              "      flex-wrap:wrap;\n",
              "      gap: 12px;\n",
              "    }\n",
              "\n",
              "    .colab-df-convert {\n",
              "      background-color: #E8F0FE;\n",
              "      border: none;\n",
              "      border-radius: 50%;\n",
              "      cursor: pointer;\n",
              "      display: none;\n",
              "      fill: #1967D2;\n",
              "      height: 32px;\n",
              "      padding: 0 0 0 0;\n",
              "      width: 32px;\n",
              "    }\n",
              "\n",
              "    .colab-df-convert:hover {\n",
              "      background-color: #E2EBFA;\n",
              "      box-shadow: 0px 1px 2px rgba(60, 64, 67, 0.3), 0px 1px 3px 1px rgba(60, 64, 67, 0.15);\n",
              "      fill: #174EA6;\n",
              "    }\n",
              "\n",
              "    [theme=dark] .colab-df-convert {\n",
              "      background-color: #3B4455;\n",
              "      fill: #D2E3FC;\n",
              "    }\n",
              "\n",
              "    [theme=dark] .colab-df-convert:hover {\n",
              "      background-color: #434B5C;\n",
              "      box-shadow: 0px 1px 3px 1px rgba(0, 0, 0, 0.15);\n",
              "      filter: drop-shadow(0px 1px 2px rgba(0, 0, 0, 0.3));\n",
              "      fill: #FFFFFF;\n",
              "    }\n",
              "  </style>\n",
              "\n",
              "      <script>\n",
              "        const buttonEl =\n",
              "          document.querySelector('#df-16b56998-7eb1-4b6c-be6c-521e3d4f985e button.colab-df-convert');\n",
              "        buttonEl.style.display =\n",
              "          google.colab.kernel.accessAllowed ? 'block' : 'none';\n",
              "\n",
              "        async function convertToInteractive(key) {\n",
              "          const element = document.querySelector('#df-16b56998-7eb1-4b6c-be6c-521e3d4f985e');\n",
              "          const dataTable =\n",
              "            await google.colab.kernel.invokeFunction('convertToInteractive',\n",
              "                                                     [key], {});\n",
              "          if (!dataTable) return;\n",
              "\n",
              "          const docLinkHtml = 'Like what you see? Visit the ' +\n",
              "            '<a target=\"_blank\" href=https://colab.research.google.com/notebooks/data_table.ipynb>data table notebook</a>'\n",
              "            + ' to learn more about interactive tables.';\n",
              "          element.innerHTML = '';\n",
              "          dataTable['output_type'] = 'display_data';\n",
              "          await google.colab.output.renderOutput(dataTable, element);\n",
              "          const docLink = document.createElement('div');\n",
              "          docLink.innerHTML = docLinkHtml;\n",
              "          element.appendChild(docLink);\n",
              "        }\n",
              "      </script>\n",
              "    </div>\n",
              "  </div>\n",
              "  "
            ]
          },
          "metadata": {}
        },
        {
          "output_type": "display_data",
          "data": {
            "text/plain": [
              "          0         1         2         3         4         5         6  \\\n",
              "0 -0.470003  0.095134  0.968635 -0.743754 -0.300523 -0.213295  0.293794   \n",
              "1 -0.805893 -1.693958 -0.200667 -0.005730  0.529772 -0.213295 -0.504954   \n",
              "2  2.217118 -0.109333 -0.200667 -0.128734 -0.300523 -0.213295  0.293794   \n",
              "3 -1.141783  1.424174  0.383984 -0.620750 -0.300523 -0.213295 -0.504954   \n",
              "4  0.873558  0.810771  0.383984  0.240277 -0.300523 -0.213295 -0.504954   \n",
              "\n",
              "          7         8         9  ...  med_spec_Orthopedics  \\\n",
              "0  1.401663 -0.063242  0.091588  ...                   0.0   \n",
              "1  0.534112  1.906908  0.046515  ...                   0.0   \n",
              "2  0.459484  3.002606  1.038121  ...                   0.0   \n",
              "3 -2.087199  0.368716 -0.579499  ...                   0.0   \n",
              "4  0.501462  0.869155 -0.706705  ...                   0.0   \n",
              "\n",
              "   med_spec_Orthopedics-Reconstructive  med_spec_Other  med_spec_Psychiatry  \\\n",
              "0                                  0.0             1.0                  0.0   \n",
              "1                                  0.0             1.0                  0.0   \n",
              "2                                  0.0             0.0                  0.0   \n",
              "3                                  0.0             0.0                  0.0   \n",
              "4                                  0.0             0.0                  0.0   \n",
              "\n",
              "   med_spec_Pulmonology  med_spec_Radiologist  \\\n",
              "0                   0.0                   0.0   \n",
              "1                   0.0                   0.0   \n",
              "2                   0.0                   0.0   \n",
              "3                   0.0                   0.0   \n",
              "4                   0.0                   0.0   \n",
              "\n",
              "   med_spec_Surgery-Cardiovascular/Thoracic  med_spec_Surgery-General  \\\n",
              "0                                       0.0                       0.0   \n",
              "1                                       0.0                       0.0   \n",
              "2                                       0.0                       0.0   \n",
              "3                                       0.0                       0.0   \n",
              "4                                       0.0                       0.0   \n",
              "\n",
              "   med_spec_Surgery-Vascular  med_spec_Urology  \n",
              "0                        0.0               0.0  \n",
              "1                        0.0               0.0  \n",
              "2                        0.0               0.0  \n",
              "3                        0.0               0.0  \n",
              "4                        0.0               0.0  \n",
              "\n",
              "[5 rows x 86 columns]"
            ],
            "text/html": [
              "\n",
              "  <div id=\"df-3de5ed8b-a1b0-40b9-a300-28e95f032731\">\n",
              "    <div class=\"colab-df-container\">\n",
              "      <div>\n",
              "<style scoped>\n",
              "    .dataframe tbody tr th:only-of-type {\n",
              "        vertical-align: middle;\n",
              "    }\n",
              "\n",
              "    .dataframe tbody tr th {\n",
              "        vertical-align: top;\n",
              "    }\n",
              "\n",
              "    .dataframe thead th {\n",
              "        text-align: right;\n",
              "    }\n",
              "</style>\n",
              "<table border=\"1\" class=\"dataframe\">\n",
              "  <thead>\n",
              "    <tr style=\"text-align: right;\">\n",
              "      <th></th>\n",
              "      <th>0</th>\n",
              "      <th>1</th>\n",
              "      <th>2</th>\n",
              "      <th>3</th>\n",
              "      <th>4</th>\n",
              "      <th>5</th>\n",
              "      <th>6</th>\n",
              "      <th>7</th>\n",
              "      <th>8</th>\n",
              "      <th>9</th>\n",
              "      <th>...</th>\n",
              "      <th>med_spec_Orthopedics</th>\n",
              "      <th>med_spec_Orthopedics-Reconstructive</th>\n",
              "      <th>med_spec_Other</th>\n",
              "      <th>med_spec_Psychiatry</th>\n",
              "      <th>med_spec_Pulmonology</th>\n",
              "      <th>med_spec_Radiologist</th>\n",
              "      <th>med_spec_Surgery-Cardiovascular/Thoracic</th>\n",
              "      <th>med_spec_Surgery-General</th>\n",
              "      <th>med_spec_Surgery-Vascular</th>\n",
              "      <th>med_spec_Urology</th>\n",
              "    </tr>\n",
              "  </thead>\n",
              "  <tbody>\n",
              "    <tr>\n",
              "      <th>0</th>\n",
              "      <td>-0.470003</td>\n",
              "      <td>0.095134</td>\n",
              "      <td>0.968635</td>\n",
              "      <td>-0.743754</td>\n",
              "      <td>-0.300523</td>\n",
              "      <td>-0.213295</td>\n",
              "      <td>0.293794</td>\n",
              "      <td>1.401663</td>\n",
              "      <td>-0.063242</td>\n",
              "      <td>0.091588</td>\n",
              "      <td>...</td>\n",
              "      <td>0.0</td>\n",
              "      <td>0.0</td>\n",
              "      <td>1.0</td>\n",
              "      <td>0.0</td>\n",
              "      <td>0.0</td>\n",
              "      <td>0.0</td>\n",
              "      <td>0.0</td>\n",
              "      <td>0.0</td>\n",
              "      <td>0.0</td>\n",
              "      <td>0.0</td>\n",
              "    </tr>\n",
              "    <tr>\n",
              "      <th>1</th>\n",
              "      <td>-0.805893</td>\n",
              "      <td>-1.693958</td>\n",
              "      <td>-0.200667</td>\n",
              "      <td>-0.005730</td>\n",
              "      <td>0.529772</td>\n",
              "      <td>-0.213295</td>\n",
              "      <td>-0.504954</td>\n",
              "      <td>0.534112</td>\n",
              "      <td>1.906908</td>\n",
              "      <td>0.046515</td>\n",
              "      <td>...</td>\n",
              "      <td>0.0</td>\n",
              "      <td>0.0</td>\n",
              "      <td>1.0</td>\n",
              "      <td>0.0</td>\n",
              "      <td>0.0</td>\n",
              "      <td>0.0</td>\n",
              "      <td>0.0</td>\n",
              "      <td>0.0</td>\n",
              "      <td>0.0</td>\n",
              "      <td>0.0</td>\n",
              "    </tr>\n",
              "    <tr>\n",
              "      <th>2</th>\n",
              "      <td>2.217118</td>\n",
              "      <td>-0.109333</td>\n",
              "      <td>-0.200667</td>\n",
              "      <td>-0.128734</td>\n",
              "      <td>-0.300523</td>\n",
              "      <td>-0.213295</td>\n",
              "      <td>0.293794</td>\n",
              "      <td>0.459484</td>\n",
              "      <td>3.002606</td>\n",
              "      <td>1.038121</td>\n",
              "      <td>...</td>\n",
              "      <td>0.0</td>\n",
              "      <td>0.0</td>\n",
              "      <td>0.0</td>\n",
              "      <td>0.0</td>\n",
              "      <td>0.0</td>\n",
              "      <td>0.0</td>\n",
              "      <td>0.0</td>\n",
              "      <td>0.0</td>\n",
              "      <td>0.0</td>\n",
              "      <td>0.0</td>\n",
              "    </tr>\n",
              "    <tr>\n",
              "      <th>3</th>\n",
              "      <td>-1.141783</td>\n",
              "      <td>1.424174</td>\n",
              "      <td>0.383984</td>\n",
              "      <td>-0.620750</td>\n",
              "      <td>-0.300523</td>\n",
              "      <td>-0.213295</td>\n",
              "      <td>-0.504954</td>\n",
              "      <td>-2.087199</td>\n",
              "      <td>0.368716</td>\n",
              "      <td>-0.579499</td>\n",
              "      <td>...</td>\n",
              "      <td>0.0</td>\n",
              "      <td>0.0</td>\n",
              "      <td>0.0</td>\n",
              "      <td>0.0</td>\n",
              "      <td>0.0</td>\n",
              "      <td>0.0</td>\n",
              "      <td>0.0</td>\n",
              "      <td>0.0</td>\n",
              "      <td>0.0</td>\n",
              "      <td>0.0</td>\n",
              "    </tr>\n",
              "    <tr>\n",
              "      <th>4</th>\n",
              "      <td>0.873558</td>\n",
              "      <td>0.810771</td>\n",
              "      <td>0.383984</td>\n",
              "      <td>0.240277</td>\n",
              "      <td>-0.300523</td>\n",
              "      <td>-0.213295</td>\n",
              "      <td>-0.504954</td>\n",
              "      <td>0.501462</td>\n",
              "      <td>0.869155</td>\n",
              "      <td>-0.706705</td>\n",
              "      <td>...</td>\n",
              "      <td>0.0</td>\n",
              "      <td>0.0</td>\n",
              "      <td>0.0</td>\n",
              "      <td>0.0</td>\n",
              "      <td>0.0</td>\n",
              "      <td>0.0</td>\n",
              "      <td>0.0</td>\n",
              "      <td>0.0</td>\n",
              "      <td>0.0</td>\n",
              "      <td>0.0</td>\n",
              "    </tr>\n",
              "  </tbody>\n",
              "</table>\n",
              "<p>5 rows × 86 columns</p>\n",
              "</div>\n",
              "      <button class=\"colab-df-convert\" onclick=\"convertToInteractive('df-3de5ed8b-a1b0-40b9-a300-28e95f032731')\"\n",
              "              title=\"Convert this dataframe to an interactive table.\"\n",
              "              style=\"display:none;\">\n",
              "        \n",
              "  <svg xmlns=\"http://www.w3.org/2000/svg\" height=\"24px\"viewBox=\"0 0 24 24\"\n",
              "       width=\"24px\">\n",
              "    <path d=\"M0 0h24v24H0V0z\" fill=\"none\"/>\n",
              "    <path d=\"M18.56 5.44l.94 2.06.94-2.06 2.06-.94-2.06-.94-.94-2.06-.94 2.06-2.06.94zm-11 1L8.5 8.5l.94-2.06 2.06-.94-2.06-.94L8.5 2.5l-.94 2.06-2.06.94zm10 10l.94 2.06.94-2.06 2.06-.94-2.06-.94-.94-2.06-.94 2.06-2.06.94z\"/><path d=\"M17.41 7.96l-1.37-1.37c-.4-.4-.92-.59-1.43-.59-.52 0-1.04.2-1.43.59L10.3 9.45l-7.72 7.72c-.78.78-.78 2.05 0 2.83L4 21.41c.39.39.9.59 1.41.59.51 0 1.02-.2 1.41-.59l7.78-7.78 2.81-2.81c.8-.78.8-2.07 0-2.86zM5.41 20L4 18.59l7.72-7.72 1.47 1.35L5.41 20z\"/>\n",
              "  </svg>\n",
              "      </button>\n",
              "      \n",
              "  <style>\n",
              "    .colab-df-container {\n",
              "      display:flex;\n",
              "      flex-wrap:wrap;\n",
              "      gap: 12px;\n",
              "    }\n",
              "\n",
              "    .colab-df-convert {\n",
              "      background-color: #E8F0FE;\n",
              "      border: none;\n",
              "      border-radius: 50%;\n",
              "      cursor: pointer;\n",
              "      display: none;\n",
              "      fill: #1967D2;\n",
              "      height: 32px;\n",
              "      padding: 0 0 0 0;\n",
              "      width: 32px;\n",
              "    }\n",
              "\n",
              "    .colab-df-convert:hover {\n",
              "      background-color: #E2EBFA;\n",
              "      box-shadow: 0px 1px 2px rgba(60, 64, 67, 0.3), 0px 1px 3px 1px rgba(60, 64, 67, 0.15);\n",
              "      fill: #174EA6;\n",
              "    }\n",
              "\n",
              "    [theme=dark] .colab-df-convert {\n",
              "      background-color: #3B4455;\n",
              "      fill: #D2E3FC;\n",
              "    }\n",
              "\n",
              "    [theme=dark] .colab-df-convert:hover {\n",
              "      background-color: #434B5C;\n",
              "      box-shadow: 0px 1px 3px 1px rgba(0, 0, 0, 0.15);\n",
              "      filter: drop-shadow(0px 1px 2px rgba(0, 0, 0, 0.3));\n",
              "      fill: #FFFFFF;\n",
              "    }\n",
              "  </style>\n",
              "\n",
              "      <script>\n",
              "        const buttonEl =\n",
              "          document.querySelector('#df-3de5ed8b-a1b0-40b9-a300-28e95f032731 button.colab-df-convert');\n",
              "        buttonEl.style.display =\n",
              "          google.colab.kernel.accessAllowed ? 'block' : 'none';\n",
              "\n",
              "        async function convertToInteractive(key) {\n",
              "          const element = document.querySelector('#df-3de5ed8b-a1b0-40b9-a300-28e95f032731');\n",
              "          const dataTable =\n",
              "            await google.colab.kernel.invokeFunction('convertToInteractive',\n",
              "                                                     [key], {});\n",
              "          if (!dataTable) return;\n",
              "\n",
              "          const docLinkHtml = 'Like what you see? Visit the ' +\n",
              "            '<a target=\"_blank\" href=https://colab.research.google.com/notebooks/data_table.ipynb>data table notebook</a>'\n",
              "            + ' to learn more about interactive tables.';\n",
              "          element.innerHTML = '';\n",
              "          dataTable['output_type'] = 'display_data';\n",
              "          await google.colab.output.renderOutput(dataTable, element);\n",
              "          const docLink = document.createElement('div');\n",
              "          docLink.innerHTML = docLinkHtml;\n",
              "          element.appendChild(docLink);\n",
              "        }\n",
              "      </script>\n",
              "    </div>\n",
              "  </div>\n",
              "  "
            ]
          },
          "metadata": {}
        }
      ],
      "source": [
        "#combine on train, test and validation data\n",
        "X_train = combine_num_df_cat_df(X_train_num, X_train_cat)\n",
        "X_val = combine_num_df_cat_df(X_val_num, X_val_cat)\n",
        "X_test = combine_num_df_cat_df(X_test_num, X_test_cat)"
      ],
      "id": "3eSaLEbjSGxE"
    },
    {
      "cell_type": "code",
      "execution_count": 133,
      "metadata": {
        "colab": {
          "base_uri": "https://localhost:8080/"
        },
        "id": "DvYQrEXSphjh",
        "outputId": "3a81ea17-edcf-4222-de9e-bab5f4bcb74a"
      },
      "outputs": [
        {
          "output_type": "execute_result",
          "data": {
            "text/plain": [
              "(14674, 86)"
            ]
          },
          "metadata": {},
          "execution_count": 133
        }
      ],
      "source": [
        "X_val.shape"
      ],
      "id": "DvYQrEXSphjh"
    },
    {
      "cell_type": "code",
      "execution_count": 134,
      "metadata": {
        "colab": {
          "base_uri": "https://localhost:8080/"
        },
        "id": "IlFYgGXUVaWc",
        "outputId": "6722bdb9-b50c-484c-ceb3-7e33b3a50545"
      },
      "outputs": [
        {
          "output_type": "execute_result",
          "data": {
            "text/plain": [
              "(34237, 86)"
            ]
          },
          "metadata": {},
          "execution_count": 134
        }
      ],
      "source": [
        "X_train.shape"
      ],
      "id": "IlFYgGXUVaWc"
    },
    {
      "cell_type": "code",
      "execution_count": 135,
      "metadata": {
        "colab": {
          "base_uri": "https://localhost:8080/"
        },
        "id": "g3yoszAtUfPL",
        "outputId": "e3731756-42ca-4912-b659-5926b03d2ef3"
      },
      "outputs": [
        {
          "output_type": "execute_result",
          "data": {
            "text/plain": [
              "(15379, 86)"
            ]
          },
          "metadata": {},
          "execution_count": 135
        }
      ],
      "source": [
        "X_test.shape\n"
      ],
      "id": "g3yoszAtUfPL"
    },
    {
      "cell_type": "code",
      "execution_count": 136,
      "metadata": {
        "colab": {
          "base_uri": "https://localhost:8080/"
        },
        "id": "zbQJCqFmg0KD",
        "outputId": "2985e202-7d02-41cf-f084-369d4dbe9e8b"
      },
      "outputs": [
        {
          "output_type": "execute_result",
          "data": {
            "text/plain": [
              "(14674, 86)"
            ]
          },
          "metadata": {},
          "execution_count": 136
        }
      ],
      "source": [
        "X_val.shape"
      ],
      "id": "zbQJCqFmg0KD"
    },
    {
      "cell_type": "code",
      "execution_count": 137,
      "metadata": {
        "colab": {
          "base_uri": "https://localhost:8080/"
        },
        "id": "wlCaA9K-webn",
        "outputId": "8c3c311f-b0c3-454b-dbaf-2580356aa05f"
      },
      "outputs": [
        {
          "output_type": "execute_result",
          "data": {
            "text/plain": [
              "(15379, 86)"
            ]
          },
          "metadata": {},
          "execution_count": 137
        }
      ],
      "source": [
        "X_test.shape"
      ],
      "id": "wlCaA9K-webn"
    },
    {
      "cell_type": "markdown",
      "metadata": {
        "id": "JZterDTH899U"
      },
      "source": [
        "#Model Building- Logistic Regression"
      ],
      "id": "JZterDTH899U"
    },
    {
      "cell_type": "code",
      "execution_count": 138,
      "metadata": {
        "colab": {
          "base_uri": "https://localhost:8080/"
        },
        "id": "L0okRli3Q-UJ",
        "outputId": "fcd10799-ef7b-4546-f131-443d6859a305"
      },
      "outputs": [
        {
          "output_type": "execute_result",
          "data": {
            "text/plain": [
              "LogisticRegression(random_state=123)"
            ]
          },
          "metadata": {},
          "execution_count": 138
        }
      ],
      "source": [
        "from sklearn.linear_model import LogisticRegression\n",
        "from sklearn.metrics import accuracy_score\n",
        "lr = LogisticRegression(random_state = 123)\n",
        "lr.fit(X_train, y_train)"
      ],
      "id": "L0okRli3Q-UJ"
    },
    {
      "cell_type": "code",
      "execution_count": 170,
      "metadata": {
        "colab": {
          "base_uri": "https://localhost:8080/",
          "height": 505
        },
        "id": "AyIw3vov4RMY",
        "outputId": "022f41f7-3122-41a4-b78d-646cca64c4e0"
      },
      "outputs": [
        {
          "output_type": "execute_result",
          "data": {
            "text/plain": [
              "              0         1         2         3         4         5         6  \\\n",
              "0      0.537667  1.270824 -0.785318 -0.620750 -0.300523 -0.213295 -0.504954   \n",
              "1     -1.141783 -2.154010  0.383984 -1.112765 -0.300523 -0.213295 -0.504954   \n",
              "2     -0.805893 -0.109333 -0.785318 -1.112765 -0.300523 -0.213295 -0.504954   \n",
              "3      0.201777 -0.773853 -0.200667  0.609289 -0.300523 -0.213295  2.690040   \n",
              "4      0.201777  0.861888 -0.200667 -0.005730 -0.300523 -0.213295 -0.504954   \n",
              "...         ...       ...       ...       ...       ...       ...       ...   \n",
              "34232  0.537667 -0.007099  0.968635 -0.374742 -0.300523 -0.213295 -0.504954   \n",
              "34233 -0.470003 -0.722736 -0.785318 -1.481777 -0.300523 -0.213295 -0.504954   \n",
              "34234 -0.470003  0.146251 -0.785318 -0.005730 -0.300523 -0.213295 -0.504954   \n",
              "34235 -1.141783 -1.540607  2.722589  0.240277 -0.300523 -0.213295  0.293794   \n",
              "34236 -0.805893  0.657421 -0.785318 -0.005730 -0.300523 -0.213295 -0.504954   \n",
              "\n",
              "              7         8         9  ...  med_spec_Orthopedics  \\\n",
              "0     -0.268140 -0.000028 -0.579499  ...                   0.0   \n",
              "1     -0.235490  1.875301  0.046515  ...                   0.0   \n",
              "2     -0.268140 -0.005296  0.973015  ...                   0.0   \n",
              "3      1.070501  0.879691  0.111620  ...                   1.0   \n",
              "4     -0.328775  0.142202  0.306937  ...                   0.0   \n",
              "...         ...       ...       ...  ...                   ...   \n",
              "34232  0.226271 -0.927157  0.692561  ...                   0.0   \n",
              "34233 -2.227126  1.901640 -0.709710  ...                   0.0   \n",
              "34234 -0.333439 -0.079045 -0.709610  ...                   0.0   \n",
              "34235 -0.333439 -0.063242  0.111620  ...                   0.0   \n",
              "34236 -0.650608 -0.131723 -0.709710  ...                   0.0   \n",
              "\n",
              "       med_spec_Orthopedics-Reconstructive  med_spec_Other  \\\n",
              "0                                      0.0             1.0   \n",
              "1                                      0.0             0.0   \n",
              "2                                      0.0             1.0   \n",
              "3                                      0.0             0.0   \n",
              "4                                      0.0             0.0   \n",
              "...                                    ...             ...   \n",
              "34232                                  0.0             1.0   \n",
              "34233                                  0.0             0.0   \n",
              "34234                                  0.0             1.0   \n",
              "34235                                  0.0             0.0   \n",
              "34236                                  0.0             0.0   \n",
              "\n",
              "       med_spec_Psychiatry  med_spec_Pulmonology  med_spec_Radiologist  \\\n",
              "0                      0.0                   0.0                   0.0   \n",
              "1                      0.0                   0.0                   0.0   \n",
              "2                      0.0                   0.0                   0.0   \n",
              "3                      0.0                   0.0                   0.0   \n",
              "4                      0.0                   0.0                   0.0   \n",
              "...                    ...                   ...                   ...   \n",
              "34232                  0.0                   0.0                   0.0   \n",
              "34233                  0.0                   0.0                   0.0   \n",
              "34234                  0.0                   0.0                   0.0   \n",
              "34235                  0.0                   0.0                   1.0   \n",
              "34236                  0.0                   0.0                   0.0   \n",
              "\n",
              "       med_spec_Surgery-Cardiovascular/Thoracic  med_spec_Surgery-General  \\\n",
              "0                                           0.0                       0.0   \n",
              "1                                           0.0                       0.0   \n",
              "2                                           0.0                       0.0   \n",
              "3                                           0.0                       0.0   \n",
              "4                                           0.0                       0.0   \n",
              "...                                         ...                       ...   \n",
              "34232                                       0.0                       0.0   \n",
              "34233                                       0.0                       1.0   \n",
              "34234                                       0.0                       0.0   \n",
              "34235                                       0.0                       0.0   \n",
              "34236                                       0.0                       0.0   \n",
              "\n",
              "       med_spec_Surgery-Vascular  med_spec_Urology  \n",
              "0                            0.0               0.0  \n",
              "1                            0.0               0.0  \n",
              "2                            0.0               0.0  \n",
              "3                            0.0               0.0  \n",
              "4                            0.0               0.0  \n",
              "...                          ...               ...  \n",
              "34232                        0.0               0.0  \n",
              "34233                        0.0               0.0  \n",
              "34234                        0.0               0.0  \n",
              "34235                        0.0               0.0  \n",
              "34236                        0.0               0.0  \n",
              "\n",
              "[34237 rows x 86 columns]"
            ],
            "text/html": [
              "\n",
              "  <div id=\"df-8edf780d-4e85-43ed-84bc-c80ee758051a\">\n",
              "    <div class=\"colab-df-container\">\n",
              "      <div>\n",
              "<style scoped>\n",
              "    .dataframe tbody tr th:only-of-type {\n",
              "        vertical-align: middle;\n",
              "    }\n",
              "\n",
              "    .dataframe tbody tr th {\n",
              "        vertical-align: top;\n",
              "    }\n",
              "\n",
              "    .dataframe thead th {\n",
              "        text-align: right;\n",
              "    }\n",
              "</style>\n",
              "<table border=\"1\" class=\"dataframe\">\n",
              "  <thead>\n",
              "    <tr style=\"text-align: right;\">\n",
              "      <th></th>\n",
              "      <th>0</th>\n",
              "      <th>1</th>\n",
              "      <th>2</th>\n",
              "      <th>3</th>\n",
              "      <th>4</th>\n",
              "      <th>5</th>\n",
              "      <th>6</th>\n",
              "      <th>7</th>\n",
              "      <th>8</th>\n",
              "      <th>9</th>\n",
              "      <th>...</th>\n",
              "      <th>med_spec_Orthopedics</th>\n",
              "      <th>med_spec_Orthopedics-Reconstructive</th>\n",
              "      <th>med_spec_Other</th>\n",
              "      <th>med_spec_Psychiatry</th>\n",
              "      <th>med_spec_Pulmonology</th>\n",
              "      <th>med_spec_Radiologist</th>\n",
              "      <th>med_spec_Surgery-Cardiovascular/Thoracic</th>\n",
              "      <th>med_spec_Surgery-General</th>\n",
              "      <th>med_spec_Surgery-Vascular</th>\n",
              "      <th>med_spec_Urology</th>\n",
              "    </tr>\n",
              "  </thead>\n",
              "  <tbody>\n",
              "    <tr>\n",
              "      <th>0</th>\n",
              "      <td>0.537667</td>\n",
              "      <td>1.270824</td>\n",
              "      <td>-0.785318</td>\n",
              "      <td>-0.620750</td>\n",
              "      <td>-0.300523</td>\n",
              "      <td>-0.213295</td>\n",
              "      <td>-0.504954</td>\n",
              "      <td>-0.268140</td>\n",
              "      <td>-0.000028</td>\n",
              "      <td>-0.579499</td>\n",
              "      <td>...</td>\n",
              "      <td>0.0</td>\n",
              "      <td>0.0</td>\n",
              "      <td>1.0</td>\n",
              "      <td>0.0</td>\n",
              "      <td>0.0</td>\n",
              "      <td>0.0</td>\n",
              "      <td>0.0</td>\n",
              "      <td>0.0</td>\n",
              "      <td>0.0</td>\n",
              "      <td>0.0</td>\n",
              "    </tr>\n",
              "    <tr>\n",
              "      <th>1</th>\n",
              "      <td>-1.141783</td>\n",
              "      <td>-2.154010</td>\n",
              "      <td>0.383984</td>\n",
              "      <td>-1.112765</td>\n",
              "      <td>-0.300523</td>\n",
              "      <td>-0.213295</td>\n",
              "      <td>-0.504954</td>\n",
              "      <td>-0.235490</td>\n",
              "      <td>1.875301</td>\n",
              "      <td>0.046515</td>\n",
              "      <td>...</td>\n",
              "      <td>0.0</td>\n",
              "      <td>0.0</td>\n",
              "      <td>0.0</td>\n",
              "      <td>0.0</td>\n",
              "      <td>0.0</td>\n",
              "      <td>0.0</td>\n",
              "      <td>0.0</td>\n",
              "      <td>0.0</td>\n",
              "      <td>0.0</td>\n",
              "      <td>0.0</td>\n",
              "    </tr>\n",
              "    <tr>\n",
              "      <th>2</th>\n",
              "      <td>-0.805893</td>\n",
              "      <td>-0.109333</td>\n",
              "      <td>-0.785318</td>\n",
              "      <td>-1.112765</td>\n",
              "      <td>-0.300523</td>\n",
              "      <td>-0.213295</td>\n",
              "      <td>-0.504954</td>\n",
              "      <td>-0.268140</td>\n",
              "      <td>-0.005296</td>\n",
              "      <td>0.973015</td>\n",
              "      <td>...</td>\n",
              "      <td>0.0</td>\n",
              "      <td>0.0</td>\n",
              "      <td>1.0</td>\n",
              "      <td>0.0</td>\n",
              "      <td>0.0</td>\n",
              "      <td>0.0</td>\n",
              "      <td>0.0</td>\n",
              "      <td>0.0</td>\n",
              "      <td>0.0</td>\n",
              "      <td>0.0</td>\n",
              "    </tr>\n",
              "    <tr>\n",
              "      <th>3</th>\n",
              "      <td>0.201777</td>\n",
              "      <td>-0.773853</td>\n",
              "      <td>-0.200667</td>\n",
              "      <td>0.609289</td>\n",
              "      <td>-0.300523</td>\n",
              "      <td>-0.213295</td>\n",
              "      <td>2.690040</td>\n",
              "      <td>1.070501</td>\n",
              "      <td>0.879691</td>\n",
              "      <td>0.111620</td>\n",
              "      <td>...</td>\n",
              "      <td>1.0</td>\n",
              "      <td>0.0</td>\n",
              "      <td>0.0</td>\n",
              "      <td>0.0</td>\n",
              "      <td>0.0</td>\n",
              "      <td>0.0</td>\n",
              "      <td>0.0</td>\n",
              "      <td>0.0</td>\n",
              "      <td>0.0</td>\n",
              "      <td>0.0</td>\n",
              "    </tr>\n",
              "    <tr>\n",
              "      <th>4</th>\n",
              "      <td>0.201777</td>\n",
              "      <td>0.861888</td>\n",
              "      <td>-0.200667</td>\n",
              "      <td>-0.005730</td>\n",
              "      <td>-0.300523</td>\n",
              "      <td>-0.213295</td>\n",
              "      <td>-0.504954</td>\n",
              "      <td>-0.328775</td>\n",
              "      <td>0.142202</td>\n",
              "      <td>0.306937</td>\n",
              "      <td>...</td>\n",
              "      <td>0.0</td>\n",
              "      <td>0.0</td>\n",
              "      <td>0.0</td>\n",
              "      <td>0.0</td>\n",
              "      <td>0.0</td>\n",
              "      <td>0.0</td>\n",
              "      <td>0.0</td>\n",
              "      <td>0.0</td>\n",
              "      <td>0.0</td>\n",
              "      <td>0.0</td>\n",
              "    </tr>\n",
              "    <tr>\n",
              "      <th>...</th>\n",
              "      <td>...</td>\n",
              "      <td>...</td>\n",
              "      <td>...</td>\n",
              "      <td>...</td>\n",
              "      <td>...</td>\n",
              "      <td>...</td>\n",
              "      <td>...</td>\n",
              "      <td>...</td>\n",
              "      <td>...</td>\n",
              "      <td>...</td>\n",
              "      <td>...</td>\n",
              "      <td>...</td>\n",
              "      <td>...</td>\n",
              "      <td>...</td>\n",
              "      <td>...</td>\n",
              "      <td>...</td>\n",
              "      <td>...</td>\n",
              "      <td>...</td>\n",
              "      <td>...</td>\n",
              "      <td>...</td>\n",
              "      <td>...</td>\n",
              "    </tr>\n",
              "    <tr>\n",
              "      <th>34232</th>\n",
              "      <td>0.537667</td>\n",
              "      <td>-0.007099</td>\n",
              "      <td>0.968635</td>\n",
              "      <td>-0.374742</td>\n",
              "      <td>-0.300523</td>\n",
              "      <td>-0.213295</td>\n",
              "      <td>-0.504954</td>\n",
              "      <td>0.226271</td>\n",
              "      <td>-0.927157</td>\n",
              "      <td>0.692561</td>\n",
              "      <td>...</td>\n",
              "      <td>0.0</td>\n",
              "      <td>0.0</td>\n",
              "      <td>1.0</td>\n",
              "      <td>0.0</td>\n",
              "      <td>0.0</td>\n",
              "      <td>0.0</td>\n",
              "      <td>0.0</td>\n",
              "      <td>0.0</td>\n",
              "      <td>0.0</td>\n",
              "      <td>0.0</td>\n",
              "    </tr>\n",
              "    <tr>\n",
              "      <th>34233</th>\n",
              "      <td>-0.470003</td>\n",
              "      <td>-0.722736</td>\n",
              "      <td>-0.785318</td>\n",
              "      <td>-1.481777</td>\n",
              "      <td>-0.300523</td>\n",
              "      <td>-0.213295</td>\n",
              "      <td>-0.504954</td>\n",
              "      <td>-2.227126</td>\n",
              "      <td>1.901640</td>\n",
              "      <td>-0.709710</td>\n",
              "      <td>...</td>\n",
              "      <td>0.0</td>\n",
              "      <td>0.0</td>\n",
              "      <td>0.0</td>\n",
              "      <td>0.0</td>\n",
              "      <td>0.0</td>\n",
              "      <td>0.0</td>\n",
              "      <td>0.0</td>\n",
              "      <td>1.0</td>\n",
              "      <td>0.0</td>\n",
              "      <td>0.0</td>\n",
              "    </tr>\n",
              "    <tr>\n",
              "      <th>34234</th>\n",
              "      <td>-0.470003</td>\n",
              "      <td>0.146251</td>\n",
              "      <td>-0.785318</td>\n",
              "      <td>-0.005730</td>\n",
              "      <td>-0.300523</td>\n",
              "      <td>-0.213295</td>\n",
              "      <td>-0.504954</td>\n",
              "      <td>-0.333439</td>\n",
              "      <td>-0.079045</td>\n",
              "      <td>-0.709610</td>\n",
              "      <td>...</td>\n",
              "      <td>0.0</td>\n",
              "      <td>0.0</td>\n",
              "      <td>1.0</td>\n",
              "      <td>0.0</td>\n",
              "      <td>0.0</td>\n",
              "      <td>0.0</td>\n",
              "      <td>0.0</td>\n",
              "      <td>0.0</td>\n",
              "      <td>0.0</td>\n",
              "      <td>0.0</td>\n",
              "    </tr>\n",
              "    <tr>\n",
              "      <th>34235</th>\n",
              "      <td>-1.141783</td>\n",
              "      <td>-1.540607</td>\n",
              "      <td>2.722589</td>\n",
              "      <td>0.240277</td>\n",
              "      <td>-0.300523</td>\n",
              "      <td>-0.213295</td>\n",
              "      <td>0.293794</td>\n",
              "      <td>-0.333439</td>\n",
              "      <td>-0.063242</td>\n",
              "      <td>0.111620</td>\n",
              "      <td>...</td>\n",
              "      <td>0.0</td>\n",
              "      <td>0.0</td>\n",
              "      <td>0.0</td>\n",
              "      <td>0.0</td>\n",
              "      <td>0.0</td>\n",
              "      <td>1.0</td>\n",
              "      <td>0.0</td>\n",
              "      <td>0.0</td>\n",
              "      <td>0.0</td>\n",
              "      <td>0.0</td>\n",
              "    </tr>\n",
              "    <tr>\n",
              "      <th>34236</th>\n",
              "      <td>-0.805893</td>\n",
              "      <td>0.657421</td>\n",
              "      <td>-0.785318</td>\n",
              "      <td>-0.005730</td>\n",
              "      <td>-0.300523</td>\n",
              "      <td>-0.213295</td>\n",
              "      <td>-0.504954</td>\n",
              "      <td>-0.650608</td>\n",
              "      <td>-0.131723</td>\n",
              "      <td>-0.709710</td>\n",
              "      <td>...</td>\n",
              "      <td>0.0</td>\n",
              "      <td>0.0</td>\n",
              "      <td>0.0</td>\n",
              "      <td>0.0</td>\n",
              "      <td>0.0</td>\n",
              "      <td>0.0</td>\n",
              "      <td>0.0</td>\n",
              "      <td>0.0</td>\n",
              "      <td>0.0</td>\n",
              "      <td>0.0</td>\n",
              "    </tr>\n",
              "  </tbody>\n",
              "</table>\n",
              "<p>34237 rows × 86 columns</p>\n",
              "</div>\n",
              "      <button class=\"colab-df-convert\" onclick=\"convertToInteractive('df-8edf780d-4e85-43ed-84bc-c80ee758051a')\"\n",
              "              title=\"Convert this dataframe to an interactive table.\"\n",
              "              style=\"display:none;\">\n",
              "        \n",
              "  <svg xmlns=\"http://www.w3.org/2000/svg\" height=\"24px\"viewBox=\"0 0 24 24\"\n",
              "       width=\"24px\">\n",
              "    <path d=\"M0 0h24v24H0V0z\" fill=\"none\"/>\n",
              "    <path d=\"M18.56 5.44l.94 2.06.94-2.06 2.06-.94-2.06-.94-.94-2.06-.94 2.06-2.06.94zm-11 1L8.5 8.5l.94-2.06 2.06-.94-2.06-.94L8.5 2.5l-.94 2.06-2.06.94zm10 10l.94 2.06.94-2.06 2.06-.94-2.06-.94-.94-2.06-.94 2.06-2.06.94z\"/><path d=\"M17.41 7.96l-1.37-1.37c-.4-.4-.92-.59-1.43-.59-.52 0-1.04.2-1.43.59L10.3 9.45l-7.72 7.72c-.78.78-.78 2.05 0 2.83L4 21.41c.39.39.9.59 1.41.59.51 0 1.02-.2 1.41-.59l7.78-7.78 2.81-2.81c.8-.78.8-2.07 0-2.86zM5.41 20L4 18.59l7.72-7.72 1.47 1.35L5.41 20z\"/>\n",
              "  </svg>\n",
              "      </button>\n",
              "      \n",
              "  <style>\n",
              "    .colab-df-container {\n",
              "      display:flex;\n",
              "      flex-wrap:wrap;\n",
              "      gap: 12px;\n",
              "    }\n",
              "\n",
              "    .colab-df-convert {\n",
              "      background-color: #E8F0FE;\n",
              "      border: none;\n",
              "      border-radius: 50%;\n",
              "      cursor: pointer;\n",
              "      display: none;\n",
              "      fill: #1967D2;\n",
              "      height: 32px;\n",
              "      padding: 0 0 0 0;\n",
              "      width: 32px;\n",
              "    }\n",
              "\n",
              "    .colab-df-convert:hover {\n",
              "      background-color: #E2EBFA;\n",
              "      box-shadow: 0px 1px 2px rgba(60, 64, 67, 0.3), 0px 1px 3px 1px rgba(60, 64, 67, 0.15);\n",
              "      fill: #174EA6;\n",
              "    }\n",
              "\n",
              "    [theme=dark] .colab-df-convert {\n",
              "      background-color: #3B4455;\n",
              "      fill: #D2E3FC;\n",
              "    }\n",
              "\n",
              "    [theme=dark] .colab-df-convert:hover {\n",
              "      background-color: #434B5C;\n",
              "      box-shadow: 0px 1px 3px 1px rgba(0, 0, 0, 0.15);\n",
              "      filter: drop-shadow(0px 1px 2px rgba(0, 0, 0, 0.3));\n",
              "      fill: #FFFFFF;\n",
              "    }\n",
              "  </style>\n",
              "\n",
              "      <script>\n",
              "        const buttonEl =\n",
              "          document.querySelector('#df-8edf780d-4e85-43ed-84bc-c80ee758051a button.colab-df-convert');\n",
              "        buttonEl.style.display =\n",
              "          google.colab.kernel.accessAllowed ? 'block' : 'none';\n",
              "\n",
              "        async function convertToInteractive(key) {\n",
              "          const element = document.querySelector('#df-8edf780d-4e85-43ed-84bc-c80ee758051a');\n",
              "          const dataTable =\n",
              "            await google.colab.kernel.invokeFunction('convertToInteractive',\n",
              "                                                     [key], {});\n",
              "          if (!dataTable) return;\n",
              "\n",
              "          const docLinkHtml = 'Like what you see? Visit the ' +\n",
              "            '<a target=\"_blank\" href=https://colab.research.google.com/notebooks/data_table.ipynb>data table notebook</a>'\n",
              "            + ' to learn more about interactive tables.';\n",
              "          element.innerHTML = '';\n",
              "          dataTable['output_type'] = 'display_data';\n",
              "          await google.colab.output.renderOutput(dataTable, element);\n",
              "          const docLink = document.createElement('div');\n",
              "          docLink.innerHTML = docLinkHtml;\n",
              "          element.appendChild(docLink);\n",
              "        }\n",
              "      </script>\n",
              "    </div>\n",
              "  </div>\n",
              "  "
            ]
          },
          "metadata": {},
          "execution_count": 170
        }
      ],
      "source": [
        "X_train"
      ],
      "id": "AyIw3vov4RMY"
    },
    {
      "cell_type": "code",
      "source": [
        "X_train"
      ],
      "metadata": {
        "id": "I1SNuRSGjvoh"
      },
      "id": "I1SNuRSGjvoh",
      "execution_count": null,
      "outputs": []
    },
    {
      "cell_type": "code",
      "execution_count": 140,
      "metadata": {
        "id": "ACpDa9pp_F7p"
      },
      "outputs": [],
      "source": [
        "y_test_pred = lr.predict(X_test)\n",
        "y_val_pred = lr.predict(X_val)\n",
        "y_train_pred = lr.predict(X_train)\n"
      ],
      "id": "ACpDa9pp_F7p"
    },
    {
      "cell_type": "code",
      "execution_count": 141,
      "metadata": {
        "colab": {
          "base_uri": "https://localhost:8080/"
        },
        "id": "QIS7D28VDuDG",
        "outputId": "a0c1ba09-9281-42ad-897b-5eca46dbb629"
      },
      "outputs": [
        {
          "output_type": "stream",
          "name": "stdout",
          "text": [
            "Accuracy on Validation: 0.6179637454000273\n"
          ]
        }
      ],
      "source": [
        "from sklearn.metrics import accuracy_score,recall_score,f1_score\n",
        "print(\"Accuracy on Validation:\",accuracy_score(y_val, y_val_pred))"
      ],
      "id": "QIS7D28VDuDG"
    },
    {
      "cell_type": "code",
      "execution_count": 142,
      "metadata": {
        "colab": {
          "base_uri": "https://localhost:8080/"
        },
        "id": "zBSGpKj643NS",
        "outputId": "6ca6ff16-3b0c-49c4-8d7e-a3c4ea3b90bb"
      },
      "outputs": [
        {
          "output_type": "stream",
          "name": "stdout",
          "text": [
            "Accuracy on Train: 0.622426030318077\n"
          ]
        }
      ],
      "source": [
        "print(\"Accuracy on Train:\",accuracy_score(y_train, y_train_pred))"
      ],
      "id": "zBSGpKj643NS"
    },
    {
      "cell_type": "code",
      "execution_count": 143,
      "metadata": {
        "colab": {
          "base_uri": "https://localhost:8080/"
        },
        "id": "4sNXVU3L4pC_",
        "outputId": "75738f11-1490-42c9-dd95-31f9c0366938"
      },
      "outputs": [
        {
          "output_type": "stream",
          "name": "stdout",
          "text": [
            "F1 score on Train: 0.5086098756984833\n"
          ]
        }
      ],
      "source": [
        "print(\"F1 score on Train:\",f1_score(y_train, y_train_pred))"
      ],
      "id": "4sNXVU3L4pC_"
    },
    {
      "cell_type": "code",
      "execution_count": 144,
      "metadata": {
        "colab": {
          "base_uri": "https://localhost:8080/"
        },
        "id": "f8n2p4LWQlU1",
        "outputId": "bd1cd1e8-5b75-4a73-97aa-6d5d15f77460"
      },
      "outputs": [
        {
          "output_type": "stream",
          "name": "stdout",
          "text": [
            "F1 score on Validation: 0.5059922453295735\n"
          ]
        }
      ],
      "source": [
        "print(\"F1 score on Validation:\",f1_score(y_val, y_val_pred))"
      ],
      "id": "f8n2p4LWQlU1"
    },
    {
      "cell_type": "code",
      "source": [
        "num_cols = list(X_train_num.columns)"
      ],
      "metadata": {
        "id": "eZXYEICYhLTY"
      },
      "id": "eZXYEICYhLTY",
      "execution_count": 174,
      "outputs": []
    },
    {
      "cell_type": "code",
      "source": [
        "categ_cols = list(X_train_cat.columns)"
      ],
      "metadata": {
        "id": "xom3PUNdiBSs"
      },
      "id": "xom3PUNdiBSs",
      "execution_count": 175,
      "outputs": []
    },
    {
      "cell_type": "code",
      "source": [
        "cols = num_cols + categ_cols"
      ],
      "metadata": {
        "id": "y65ITg3jh0Tq"
      },
      "id": "y65ITg3jh0Tq",
      "execution_count": 176,
      "outputs": []
    },
    {
      "cell_type": "code",
      "source": [
        "feature_importances = pd.DataFrame(lr.coef_[0], index = cols,columns=['importance']).sort_values('importance',\n",
        "                                                                        ascending=False)\n",
        "feature_importances.head()"
      ],
      "metadata": {
        "colab": {
          "base_uri": "https://localhost:8080/",
          "height": 206
        },
        "id": "pTiKoYlueoGZ",
        "outputId": "b32167de-f06c-4b08-8287-c96ac9955588"
      },
      "id": "pTiKoYlueoGZ",
      "execution_count": 177,
      "outputs": [
        {
          "output_type": "execute_result",
          "data": {
            "text/plain": [
              "                  importance\n",
              "number_inpatient    0.474015\n",
              "X13_Steady          0.413036\n",
              "X13_No              0.373736\n",
              "X12_Steady          0.313080\n",
              "diabetesMed_Yes     0.294136"
            ],
            "text/html": [
              "\n",
              "  <div id=\"df-ac3ab70a-21a9-457e-9c45-95e52268a4cd\">\n",
              "    <div class=\"colab-df-container\">\n",
              "      <div>\n",
              "<style scoped>\n",
              "    .dataframe tbody tr th:only-of-type {\n",
              "        vertical-align: middle;\n",
              "    }\n",
              "\n",
              "    .dataframe tbody tr th {\n",
              "        vertical-align: top;\n",
              "    }\n",
              "\n",
              "    .dataframe thead th {\n",
              "        text-align: right;\n",
              "    }\n",
              "</style>\n",
              "<table border=\"1\" class=\"dataframe\">\n",
              "  <thead>\n",
              "    <tr style=\"text-align: right;\">\n",
              "      <th></th>\n",
              "      <th>importance</th>\n",
              "    </tr>\n",
              "  </thead>\n",
              "  <tbody>\n",
              "    <tr>\n",
              "      <th>number_inpatient</th>\n",
              "      <td>0.474015</td>\n",
              "    </tr>\n",
              "    <tr>\n",
              "      <th>X13_Steady</th>\n",
              "      <td>0.413036</td>\n",
              "    </tr>\n",
              "    <tr>\n",
              "      <th>X13_No</th>\n",
              "      <td>0.373736</td>\n",
              "    </tr>\n",
              "    <tr>\n",
              "      <th>X12_Steady</th>\n",
              "      <td>0.313080</td>\n",
              "    </tr>\n",
              "    <tr>\n",
              "      <th>diabetesMed_Yes</th>\n",
              "      <td>0.294136</td>\n",
              "    </tr>\n",
              "  </tbody>\n",
              "</table>\n",
              "</div>\n",
              "      <button class=\"colab-df-convert\" onclick=\"convertToInteractive('df-ac3ab70a-21a9-457e-9c45-95e52268a4cd')\"\n",
              "              title=\"Convert this dataframe to an interactive table.\"\n",
              "              style=\"display:none;\">\n",
              "        \n",
              "  <svg xmlns=\"http://www.w3.org/2000/svg\" height=\"24px\"viewBox=\"0 0 24 24\"\n",
              "       width=\"24px\">\n",
              "    <path d=\"M0 0h24v24H0V0z\" fill=\"none\"/>\n",
              "    <path d=\"M18.56 5.44l.94 2.06.94-2.06 2.06-.94-2.06-.94-.94-2.06-.94 2.06-2.06.94zm-11 1L8.5 8.5l.94-2.06 2.06-.94-2.06-.94L8.5 2.5l-.94 2.06-2.06.94zm10 10l.94 2.06.94-2.06 2.06-.94-2.06-.94-.94-2.06-.94 2.06-2.06.94z\"/><path d=\"M17.41 7.96l-1.37-1.37c-.4-.4-.92-.59-1.43-.59-.52 0-1.04.2-1.43.59L10.3 9.45l-7.72 7.72c-.78.78-.78 2.05 0 2.83L4 21.41c.39.39.9.59 1.41.59.51 0 1.02-.2 1.41-.59l7.78-7.78 2.81-2.81c.8-.78.8-2.07 0-2.86zM5.41 20L4 18.59l7.72-7.72 1.47 1.35L5.41 20z\"/>\n",
              "  </svg>\n",
              "      </button>\n",
              "      \n",
              "  <style>\n",
              "    .colab-df-container {\n",
              "      display:flex;\n",
              "      flex-wrap:wrap;\n",
              "      gap: 12px;\n",
              "    }\n",
              "\n",
              "    .colab-df-convert {\n",
              "      background-color: #E8F0FE;\n",
              "      border: none;\n",
              "      border-radius: 50%;\n",
              "      cursor: pointer;\n",
              "      display: none;\n",
              "      fill: #1967D2;\n",
              "      height: 32px;\n",
              "      padding: 0 0 0 0;\n",
              "      width: 32px;\n",
              "    }\n",
              "\n",
              "    .colab-df-convert:hover {\n",
              "      background-color: #E2EBFA;\n",
              "      box-shadow: 0px 1px 2px rgba(60, 64, 67, 0.3), 0px 1px 3px 1px rgba(60, 64, 67, 0.15);\n",
              "      fill: #174EA6;\n",
              "    }\n",
              "\n",
              "    [theme=dark] .colab-df-convert {\n",
              "      background-color: #3B4455;\n",
              "      fill: #D2E3FC;\n",
              "    }\n",
              "\n",
              "    [theme=dark] .colab-df-convert:hover {\n",
              "      background-color: #434B5C;\n",
              "      box-shadow: 0px 1px 3px 1px rgba(0, 0, 0, 0.15);\n",
              "      filter: drop-shadow(0px 1px 2px rgba(0, 0, 0, 0.3));\n",
              "      fill: #FFFFFF;\n",
              "    }\n",
              "  </style>\n",
              "\n",
              "      <script>\n",
              "        const buttonEl =\n",
              "          document.querySelector('#df-ac3ab70a-21a9-457e-9c45-95e52268a4cd button.colab-df-convert');\n",
              "        buttonEl.style.display =\n",
              "          google.colab.kernel.accessAllowed ? 'block' : 'none';\n",
              "\n",
              "        async function convertToInteractive(key) {\n",
              "          const element = document.querySelector('#df-ac3ab70a-21a9-457e-9c45-95e52268a4cd');\n",
              "          const dataTable =\n",
              "            await google.colab.kernel.invokeFunction('convertToInteractive',\n",
              "                                                     [key], {});\n",
              "          if (!dataTable) return;\n",
              "\n",
              "          const docLinkHtml = 'Like what you see? Visit the ' +\n",
              "            '<a target=\"_blank\" href=https://colab.research.google.com/notebooks/data_table.ipynb>data table notebook</a>'\n",
              "            + ' to learn more about interactive tables.';\n",
              "          element.innerHTML = '';\n",
              "          dataTable['output_type'] = 'display_data';\n",
              "          await google.colab.output.renderOutput(dataTable, element);\n",
              "          const docLink = document.createElement('div');\n",
              "          docLink.innerHTML = docLinkHtml;\n",
              "          element.appendChild(docLink);\n",
              "        }\n",
              "      </script>\n",
              "    </div>\n",
              "  </div>\n",
              "  "
            ]
          },
          "metadata": {},
          "execution_count": 177
        }
      ]
    },
    {
      "cell_type": "markdown",
      "metadata": {
        "id": "b-A6q63JLrX1"
      },
      "source": [
        "# kNN "
      ],
      "id": "b-A6q63JLrX1"
    },
    {
      "cell_type": "code",
      "execution_count": 178,
      "metadata": {
        "id": "NX86iv4BLv84"
      },
      "outputs": [],
      "source": [
        "from sklearn.neighbors import KNeighborsClassifier\n",
        "knn = KNeighborsClassifier(n_neighbors=10)\n"
      ],
      "id": "NX86iv4BLv84"
    },
    {
      "cell_type": "code",
      "execution_count": 179,
      "metadata": {
        "colab": {
          "base_uri": "https://localhost:8080/"
        },
        "id": "kyomW4tONLGG",
        "outputId": "060d9152-218c-4824-9492-098be16e0e21"
      },
      "outputs": [
        {
          "output_type": "execute_result",
          "data": {
            "text/plain": [
              "KNeighborsClassifier(n_neighbors=10)"
            ]
          },
          "metadata": {},
          "execution_count": 179
        }
      ],
      "source": [
        "knn.fit(X_train,y_train)"
      ],
      "id": "kyomW4tONLGG"
    },
    {
      "cell_type": "code",
      "execution_count": 180,
      "metadata": {
        "id": "HgrCy3HaNXRr"
      },
      "outputs": [],
      "source": [
        "y_test_pred = knn.predict(X_test)\n",
        "y_val_pred = knn.predict(X_val)\n",
        "y_train_pred = knn.predict(X_train)"
      ],
      "id": "HgrCy3HaNXRr"
    },
    {
      "cell_type": "code",
      "execution_count": 181,
      "metadata": {
        "colab": {
          "base_uri": "https://localhost:8080/"
        },
        "id": "Hlr-95TaNqTw",
        "outputId": "935c8351-bd79-42f2-9a10-8446a0ed964b"
      },
      "outputs": [
        {
          "output_type": "stream",
          "name": "stdout",
          "text": [
            "Accuracy on Train: 0.6716709992113795\n"
          ]
        }
      ],
      "source": [
        "print(\"Accuracy on Train:\",accuracy_score(y_train, y_train_pred))"
      ],
      "id": "Hlr-95TaNqTw"
    },
    {
      "cell_type": "code",
      "execution_count": 182,
      "metadata": {
        "colab": {
          "base_uri": "https://localhost:8080/"
        },
        "id": "85ig6DeVN_qM",
        "outputId": "1fb372c6-17dd-4e66-e307-e98b6209ca78"
      },
      "outputs": [
        {
          "output_type": "stream",
          "name": "stdout",
          "text": [
            "Accuracy on Val: 0.5800735995638544\n"
          ]
        }
      ],
      "source": [
        "print(\"Accuracy on Val:\",accuracy_score(y_val, y_val_pred))\n"
      ],
      "id": "85ig6DeVN_qM"
    },
    {
      "cell_type": "code",
      "execution_count": 183,
      "metadata": {
        "colab": {
          "base_uri": "https://localhost:8080/"
        },
        "id": "Zd70qfDARGkW",
        "outputId": "ea351dd1-5f9a-4ce2-e1cb-a6221e918034"
      },
      "outputs": [
        {
          "output_type": "stream",
          "name": "stdout",
          "text": [
            "F1 score on Train: 0.575025518883974\n"
          ]
        }
      ],
      "source": [
        "print(\"F1 score on Train:\",f1_score(y_train, y_train_pred))"
      ],
      "id": "Zd70qfDARGkW"
    },
    {
      "cell_type": "code",
      "execution_count": 184,
      "metadata": {
        "colab": {
          "base_uri": "https://localhost:8080/"
        },
        "id": "o6jIkGoVRUyX",
        "outputId": "dbafe37a-538b-4848-adfb-7d4a07e6dc76"
      },
      "outputs": [
        {
          "output_type": "stream",
          "name": "stdout",
          "text": [
            "F1 score on Validation: 0.45343267695582756\n"
          ]
        }
      ],
      "source": [
        "print(\"F1 score on Validation:\",f1_score(y_val, y_val_pred))"
      ],
      "id": "o6jIkGoVRUyX"
    },
    {
      "cell_type": "markdown",
      "metadata": {
        "id": "rGNJReKK-CmG"
      },
      "source": [
        "# Naive Bayes "
      ],
      "id": "rGNJReKK-CmG"
    },
    {
      "cell_type": "code",
      "execution_count": 185,
      "metadata": {
        "id": "MbeggoKQBWZs"
      },
      "outputs": [],
      "source": [
        "from sklearn.naive_bayes import GaussianNB"
      ],
      "id": "MbeggoKQBWZs"
    },
    {
      "cell_type": "code",
      "execution_count": 186,
      "metadata": {
        "id": "KuEVxc7Dqlfz"
      },
      "outputs": [],
      "source": [
        "nb = GaussianNB()"
      ],
      "id": "KuEVxc7Dqlfz"
    },
    {
      "cell_type": "code",
      "execution_count": 187,
      "metadata": {
        "colab": {
          "base_uri": "https://localhost:8080/"
        },
        "id": "RH91Zgp1UTgI",
        "outputId": "b3b652fc-8acc-4883-e10d-53198d167365"
      },
      "outputs": [
        {
          "output_type": "execute_result",
          "data": {
            "text/plain": [
              "GaussianNB()"
            ]
          },
          "metadata": {},
          "execution_count": 187
        }
      ],
      "source": [
        "nb.fit(X_train, y_train)"
      ],
      "id": "RH91Zgp1UTgI"
    },
    {
      "cell_type": "code",
      "execution_count": 188,
      "metadata": {
        "id": "RrU-Or_qUe0F"
      },
      "outputs": [],
      "source": [
        "y_test_pred_nb = knn.predict(X_test)\n",
        "y_val_pred_nb = knn.predict(X_val)\n",
        "y_train_pred_nb = knn.predict(X_train)"
      ],
      "id": "RrU-Or_qUe0F"
    },
    {
      "cell_type": "code",
      "execution_count": 189,
      "metadata": {
        "colab": {
          "base_uri": "https://localhost:8080/"
        },
        "id": "2rO11uOuUq5a",
        "outputId": "97546eec-724f-497b-df70-58374a77e18e"
      },
      "outputs": [
        {
          "output_type": "stream",
          "name": "stdout",
          "text": [
            "Accuracy on Train: 0.6716709992113795\n"
          ]
        }
      ],
      "source": [
        "print(\"Accuracy on Train:\",accuracy_score(y_train, y_train_pred_nb))"
      ],
      "id": "2rO11uOuUq5a"
    },
    {
      "cell_type": "code",
      "execution_count": 190,
      "metadata": {
        "colab": {
          "base_uri": "https://localhost:8080/"
        },
        "id": "JU2L4JkGUsEB",
        "outputId": "f242eeae-da10-41ff-8c61-a95306837d44"
      },
      "outputs": [
        {
          "output_type": "stream",
          "name": "stdout",
          "text": [
            "Accuracy on Validation: 0.5800735995638544\n"
          ]
        }
      ],
      "source": [
        "print(\"Accuracy on Validation:\",accuracy_score(y_val, y_val_pred_nb))"
      ],
      "id": "JU2L4JkGUsEB"
    },
    {
      "cell_type": "code",
      "execution_count": 191,
      "metadata": {
        "colab": {
          "base_uri": "https://localhost:8080/"
        },
        "id": "ympTjGe8aCDD",
        "outputId": "07813980-d884-4c31-f644-fe5b2919078e"
      },
      "outputs": [
        {
          "output_type": "stream",
          "name": "stdout",
          "text": [
            "F1 score on Train: 0.575025518883974\n"
          ]
        }
      ],
      "source": [
        "print(\"F1 score on Train:\",f1_score(y_train, y_train_pred_nb))"
      ],
      "id": "ympTjGe8aCDD"
    },
    {
      "cell_type": "code",
      "execution_count": 192,
      "metadata": {
        "colab": {
          "base_uri": "https://localhost:8080/"
        },
        "id": "e_yE6XUYSM3g",
        "outputId": "d1335261-f4e6-41f9-f632-938c53c96ccc"
      },
      "outputs": [
        {
          "output_type": "stream",
          "name": "stdout",
          "text": [
            "F1 score on Validation: 0.45343267695582756\n"
          ]
        }
      ],
      "source": [
        "print(\"F1 score on Validation:\",f1_score(y_val, y_val_pred_nb))"
      ],
      "id": "e_yE6XUYSM3g"
    },
    {
      "cell_type": "markdown",
      "metadata": {
        "id": "X60ov3RBaXAs"
      },
      "source": [
        "# Random Forest"
      ],
      "id": "X60ov3RBaXAs"
    },
    {
      "cell_type": "code",
      "execution_count": 193,
      "metadata": {
        "id": "MIKLBPq7axPa"
      },
      "outputs": [],
      "source": [
        "from sklearn.ensemble import RandomForestClassifier"
      ],
      "id": "MIKLBPq7axPa"
    },
    {
      "cell_type": "code",
      "execution_count": 194,
      "metadata": {
        "colab": {
          "base_uri": "https://localhost:8080/"
        },
        "id": "iUqIQbTRayY1",
        "outputId": "a5358cbf-45c6-41b8-add7-f1445883c39b"
      },
      "outputs": [
        {
          "output_type": "stream",
          "name": "stdout",
          "text": [
            "{'n_estimators': [10, 20, 30, 40, 50, 60, 70, 80, 90, 100], 'max_depth': [5, 10, 15, 20], 'criterion': ['gini', 'entropy']}\n"
          ]
        }
      ],
      "source": [
        "from sklearn.model_selection import GridSearchCV\n",
        "# Number of trees in random forest\n",
        "n_estimators = [10,20,30,40,50,60,70,80,90,100]\n",
        "# Maximum number of levels in tree\n",
        "max_depth = [5,10,15,20]\n",
        "#method to use for splitting\n",
        "criterion = ['gini','entropy']\n",
        "#create the random grid\n",
        "random_grid = {'n_estimators': n_estimators,\n",
        "               'max_depth': max_depth,\n",
        "               'criterion': criterion}\n",
        "               \n",
        "print(random_grid)"
      ],
      "id": "iUqIQbTRayY1"
    },
    {
      "cell_type": "code",
      "execution_count": 195,
      "metadata": {
        "id": "yoGnbkMqbBTW"
      },
      "outputs": [],
      "source": [
        "# First create the base model to tune\n",
        "rf = RandomForestClassifier(n_estimators= 30, max_depth = 5, criterion=\"gini\")\n",
        "\n"
      ],
      "id": "yoGnbkMqbBTW"
    },
    {
      "cell_type": "code",
      "execution_count": 196,
      "metadata": {
        "id": "tSgH1ZC-ad3J"
      },
      "outputs": [],
      "source": [
        "#baseline model\n",
        "rf.fit(X_train,y_train)\n",
        "train_preds_rf = rf.predict(X_train)\n",
        "val_preds_rf = rf.predict(X_val)\n",
        "test_preds_rf = rf.predict(X_test)"
      ],
      "id": "tSgH1ZC-ad3J"
    },
    {
      "cell_type": "code",
      "execution_count": 199,
      "metadata": {
        "colab": {
          "base_uri": "https://localhost:8080/"
        },
        "id": "_wH6tewoUdxp",
        "outputId": "23e03450-e772-4bf9-92f8-d447837f3917"
      },
      "outputs": [
        {
          "output_type": "stream",
          "name": "stdout",
          "text": [
            "Train accuracy: 0.6274790431404621\n"
          ]
        }
      ],
      "source": [
        "print(\"Train accuracy:\",accuracy_score(y_train,train_preds_rf))"
      ],
      "id": "_wH6tewoUdxp"
    },
    {
      "cell_type": "code",
      "execution_count": 204,
      "metadata": {
        "colab": {
          "base_uri": "https://localhost:8080/"
        },
        "id": "V5FxzU9ZVHLP",
        "outputId": "c2fc37a1-9c2c-468b-d457-6f4d0a9ddd90"
      },
      "outputs": [
        {
          "output_type": "stream",
          "name": "stdout",
          "text": [
            "Val accuracy: 0.6227340875017037\n"
          ]
        }
      ],
      "source": [
        "print(\"Val accuracy:\",accuracy_score(y_val,val_preds_rf))"
      ],
      "id": "V5FxzU9ZVHLP"
    },
    {
      "cell_type": "code",
      "execution_count": 205,
      "metadata": {
        "colab": {
          "base_uri": "https://localhost:8080/"
        },
        "id": "cvgL2cf1VVsN",
        "outputId": "9181f277-254f-4e5b-a50d-799cf72a7760"
      },
      "outputs": [
        {
          "output_type": "stream",
          "name": "stdout",
          "text": [
            "Val f1: 0.5102618542108988\n"
          ]
        }
      ],
      "source": [
        "print(\"Val f1:\",f1_score(y_val,val_preds_rf))"
      ],
      "id": "cvgL2cf1VVsN"
    },
    {
      "cell_type": "code",
      "execution_count": 206,
      "metadata": {
        "colab": {
          "base_uri": "https://localhost:8080/"
        },
        "id": "LF6ILyx3VgPO",
        "outputId": "ab2d7e59-812b-47a7-b4bc-ee37b8710172"
      },
      "outputs": [
        {
          "output_type": "stream",
          "name": "stdout",
          "text": [
            "Train f1: 0.5147249067803059\n"
          ]
        }
      ],
      "source": [
        "print(\"Train f1:\",f1_score(y_train,train_preds_rf))"
      ],
      "id": "LF6ILyx3VgPO"
    },
    {
      "cell_type": "code",
      "execution_count": 216,
      "metadata": {
        "id": "LGwA-J53hHBd"
      },
      "outputs": [],
      "source": [
        "#GridSearch (hyperparameter tuning) \n",
        "rfc=RandomForestClassifier(random_state=42)\n",
        "CV_rfc = GridSearchCV(estimator=rfc, param_grid=random_grid, cv= 5)"
      ],
      "id": "LGwA-J53hHBd"
    },
    {
      "cell_type": "code",
      "execution_count": 217,
      "metadata": {
        "id": "4tNW7QZacPCf"
      },
      "outputs": [],
      "source": [
        "CV_rfc.fit(X_train,y_train)\n",
        "train_preds_rfCV = CV_rfc.predict(X_train)\n",
        "val_preds_rfCV = CV_rfc.predict(X_val)"
      ],
      "id": "4tNW7QZacPCf"
    },
    {
      "cell_type": "code",
      "execution_count": 218,
      "metadata": {
        "id": "nyAmhbx-g1G1",
        "colab": {
          "base_uri": "https://localhost:8080/"
        },
        "outputId": "d3bf7737-08bc-44c4-94fb-fecc493d49df"
      },
      "outputs": [
        {
          "output_type": "stream",
          "name": "stdout",
          "text": [
            "Train accuracy: 0.6680491865525601\n"
          ]
        }
      ],
      "source": [
        "print(\"Train accuracy:\",accuracy_score(y_train,train_preds_rfCV))"
      ],
      "id": "nyAmhbx-g1G1"
    },
    {
      "cell_type": "code",
      "execution_count": 221,
      "metadata": {
        "id": "9ZPaZFXGhAJL",
        "colab": {
          "base_uri": "https://localhost:8080/"
        },
        "outputId": "930ff5a4-ffcb-4ece-b87e-60f8d3eb1cf3"
      },
      "outputs": [
        {
          "output_type": "stream",
          "name": "stdout",
          "text": [
            "Validation accuracy: 0.6254599972740902\n"
          ]
        }
      ],
      "source": [
        "print(\"Validation accuracy:\",accuracy_score(y_val,val_preds_rfCV))"
      ],
      "id": "9ZPaZFXGhAJL"
    },
    {
      "cell_type": "code",
      "execution_count": 222,
      "metadata": {
        "id": "Qn0tcK3vgnZq",
        "colab": {
          "base_uri": "https://localhost:8080/"
        },
        "outputId": "78d24127-299f-4236-e18b-626e9062dcd2"
      },
      "outputs": [
        {
          "output_type": "stream",
          "name": "stdout",
          "text": [
            "Validation f1score: 0.5370619946091645\n"
          ]
        }
      ],
      "source": [
        "print(\"Validation f1score:\",f1_score(y_val,val_preds_rfCV))"
      ],
      "id": "Qn0tcK3vgnZq"
    },
    {
      "cell_type": "code",
      "source": [
        "print(\"Train f1:\",f1_score(y_train,train_preds_rfCV))"
      ],
      "metadata": {
        "colab": {
          "base_uri": "https://localhost:8080/"
        },
        "id": "O3A7ALE4cVxI",
        "outputId": "94b4e667-a948-4ed4-a273-4066d6118f15"
      },
      "id": "O3A7ALE4cVxI",
      "execution_count": 223,
      "outputs": [
        {
          "output_type": "stream",
          "name": "stdout",
          "text": [
            "Train f1: 0.586531815039837\n"
          ]
        }
      ]
    },
    {
      "cell_type": "markdown",
      "metadata": {
        "id": "1y8LVXkilcnR"
      },
      "source": [
        "# Adaboost"
      ],
      "id": "1y8LVXkilcnR"
    },
    {
      "cell_type": "code",
      "execution_count": 224,
      "metadata": {
        "id": "nKXeFm2qlLMG"
      },
      "outputs": [],
      "source": [
        "from sklearn.ensemble import AdaBoostClassifier\n"
      ],
      "id": "nKXeFm2qlLMG"
    },
    {
      "cell_type": "code",
      "execution_count": 225,
      "metadata": {
        "id": "IwrEUiy9llui",
        "colab": {
          "base_uri": "https://localhost:8080/"
        },
        "outputId": "ea27c8f8-5040-4ce8-b81c-63bd8b7d1fe9"
      },
      "outputs": [
        {
          "output_type": "execute_result",
          "data": {
            "text/plain": [
              "AdaBoostClassifier()"
            ]
          },
          "metadata": {},
          "execution_count": 225
        }
      ],
      "source": [
        "ada = AdaBoostClassifier()\n",
        "ada.fit(X_train,y_train)"
      ],
      "id": "IwrEUiy9llui"
    },
    {
      "cell_type": "code",
      "execution_count": 226,
      "metadata": {
        "id": "aZP4JFezl9Ox"
      },
      "outputs": [],
      "source": [
        "train_preds_ada = ada.predict(X_train)\n",
        "val_preds_ada = ada.predict(X_val)\n",
        "test_preds_ada = ada.predict(X_test)"
      ],
      "id": "aZP4JFezl9Ox"
    },
    {
      "cell_type": "code",
      "source": [
        "print(\"Train f1:\",f1_score(y_train,train_preds_ada))"
      ],
      "metadata": {
        "colab": {
          "base_uri": "https://localhost:8080/"
        },
        "id": "YdU_JN1NGSjM",
        "outputId": "5721590d-ed6b-4b59-c77d-d214d495c882"
      },
      "id": "YdU_JN1NGSjM",
      "execution_count": 270,
      "outputs": [
        {
          "output_type": "stream",
          "name": "stdout",
          "text": [
            "Train f1: 0.5387654499981877\n"
          ]
        }
      ]
    },
    {
      "cell_type": "code",
      "execution_count": 227,
      "metadata": {
        "id": "I56ouOvkmSHw",
        "colab": {
          "base_uri": "https://localhost:8080/"
        },
        "outputId": "3201abed-ad28-45c6-a002-801a8e15a3e6"
      },
      "outputs": [
        {
          "output_type": "stream",
          "name": "stdout",
          "text": [
            "Validation accuracy: 0.6266185089273545\n"
          ]
        }
      ],
      "source": [
        "print(\"Validation accuracy:\",accuracy_score(y_val,val_preds_ada))"
      ],
      "id": "I56ouOvkmSHw"
    },
    {
      "cell_type": "code",
      "source": [
        "print(\"Train accuracy:\",accuracy_score(y_train,train_preds_ada))"
      ],
      "metadata": {
        "colab": {
          "base_uri": "https://localhost:8080/"
        },
        "id": "WLuQblJcc7Hj",
        "outputId": "c9d7aa47-2bde-446d-f76b-c6a0866a27ef"
      },
      "id": "WLuQblJcc7Hj",
      "execution_count": 228,
      "outputs": [
        {
          "output_type": "stream",
          "name": "stdout",
          "text": [
            "Train accuracy: 0.6283260799719601\n"
          ]
        }
      ]
    },
    {
      "cell_type": "code",
      "execution_count": 229,
      "metadata": {
        "id": "h2Q-FBLjmj1f",
        "colab": {
          "base_uri": "https://localhost:8080/"
        },
        "outputId": "2a25f6ff-e88d-4aa0-a434-671c2cc179ad"
      },
      "outputs": [
        {
          "output_type": "stream",
          "name": "stdout",
          "text": [
            "Train f1: 0.5364244013875963\n"
          ]
        }
      ],
      "source": [
        "print(\"Val f1:\",f1_score(y_val,val_preds_ada))"
      ],
      "id": "h2Q-FBLjmj1f"
    },
    {
      "cell_type": "markdown",
      "source": [
        "# Final model predictions: \n",
        "Based on different choice of classification models, I found that adaboost gave us the highest accuracy and f1 score. "
      ],
      "metadata": {
        "id": "twmYtf_P_yto"
      },
      "id": "twmYtf_P_yto"
    },
    {
      "cell_type": "code",
      "source": [
        "test_preds_ada = pd.DataFrame(test_preds_rf)\n",
        "test_preds_rf"
      ],
      "metadata": {
        "id": "sab702vL_miX"
      },
      "id": "sab702vL_miX",
      "execution_count": 255,
      "outputs": []
    },
    {
      "cell_type": "code",
      "source": [
        "#create submission file with final predictions on test set\n",
        "test1 = pd.read_csv(\"/content/drive/MyDrive/test-1617360461595-1660719701431.csv\",na_values = [\"?\",\"#\"])\n",
        "test_preds_ada= pd.concat([test1[\"encounter_id\"],test_preds_ada],axis=1).dropna()"
      ],
      "metadata": {
        "id": "1oH2hQrr_x6s"
      },
      "id": "1oH2hQrr_x6s",
      "execution_count": 257,
      "outputs": []
    },
    {
      "cell_type": "code",
      "source": [
        "test_preds_ada.rename(columns={0:'predictions'},inplace=True)"
      ],
      "metadata": {
        "id": "DmbWMV3MBKxU"
      },
      "id": "DmbWMV3MBKxU",
      "execution_count": 258,
      "outputs": []
    },
    {
      "cell_type": "code",
      "source": [
        "test_preds_ada"
      ],
      "metadata": {
        "colab": {
          "base_uri": "https://localhost:8080/",
          "height": 424
        },
        "id": "cV9ExMMiBccw",
        "outputId": "b48fa9bb-1c55-4fca-ef3c-8089680dd60b"
      },
      "id": "cV9ExMMiBccw",
      "execution_count": 259,
      "outputs": [
        {
          "output_type": "execute_result",
          "data": {
            "text/plain": [
              "       encounter_id  encounter_id  predictions\n",
              "0          46325466    46325466.0          0.0\n",
              "1         245219616   245219616.0          0.0\n",
              "2         155321232   155321232.0          0.0\n",
              "3         179491944   179491944.0          0.0\n",
              "4           7425954     7425954.0          0.0\n",
              "...             ...           ...          ...\n",
              "15374     413691170   413691170.0          0.0\n",
              "15375     168701808   168701808.0          0.0\n",
              "15376     351312488   351312488.0          0.0\n",
              "15377      69021378    69021378.0          0.0\n",
              "15378     426105914   426105914.0          0.0\n",
              "\n",
              "[15379 rows x 3 columns]"
            ],
            "text/html": [
              "\n",
              "  <div id=\"df-bec766fc-5b0e-4de2-922c-1902981f314c\">\n",
              "    <div class=\"colab-df-container\">\n",
              "      <div>\n",
              "<style scoped>\n",
              "    .dataframe tbody tr th:only-of-type {\n",
              "        vertical-align: middle;\n",
              "    }\n",
              "\n",
              "    .dataframe tbody tr th {\n",
              "        vertical-align: top;\n",
              "    }\n",
              "\n",
              "    .dataframe thead th {\n",
              "        text-align: right;\n",
              "    }\n",
              "</style>\n",
              "<table border=\"1\" class=\"dataframe\">\n",
              "  <thead>\n",
              "    <tr style=\"text-align: right;\">\n",
              "      <th></th>\n",
              "      <th>encounter_id</th>\n",
              "      <th>encounter_id</th>\n",
              "      <th>predictions</th>\n",
              "    </tr>\n",
              "  </thead>\n",
              "  <tbody>\n",
              "    <tr>\n",
              "      <th>0</th>\n",
              "      <td>46325466</td>\n",
              "      <td>46325466.0</td>\n",
              "      <td>0.0</td>\n",
              "    </tr>\n",
              "    <tr>\n",
              "      <th>1</th>\n",
              "      <td>245219616</td>\n",
              "      <td>245219616.0</td>\n",
              "      <td>0.0</td>\n",
              "    </tr>\n",
              "    <tr>\n",
              "      <th>2</th>\n",
              "      <td>155321232</td>\n",
              "      <td>155321232.0</td>\n",
              "      <td>0.0</td>\n",
              "    </tr>\n",
              "    <tr>\n",
              "      <th>3</th>\n",
              "      <td>179491944</td>\n",
              "      <td>179491944.0</td>\n",
              "      <td>0.0</td>\n",
              "    </tr>\n",
              "    <tr>\n",
              "      <th>4</th>\n",
              "      <td>7425954</td>\n",
              "      <td>7425954.0</td>\n",
              "      <td>0.0</td>\n",
              "    </tr>\n",
              "    <tr>\n",
              "      <th>...</th>\n",
              "      <td>...</td>\n",
              "      <td>...</td>\n",
              "      <td>...</td>\n",
              "    </tr>\n",
              "    <tr>\n",
              "      <th>15374</th>\n",
              "      <td>413691170</td>\n",
              "      <td>413691170.0</td>\n",
              "      <td>0.0</td>\n",
              "    </tr>\n",
              "    <tr>\n",
              "      <th>15375</th>\n",
              "      <td>168701808</td>\n",
              "      <td>168701808.0</td>\n",
              "      <td>0.0</td>\n",
              "    </tr>\n",
              "    <tr>\n",
              "      <th>15376</th>\n",
              "      <td>351312488</td>\n",
              "      <td>351312488.0</td>\n",
              "      <td>0.0</td>\n",
              "    </tr>\n",
              "    <tr>\n",
              "      <th>15377</th>\n",
              "      <td>69021378</td>\n",
              "      <td>69021378.0</td>\n",
              "      <td>0.0</td>\n",
              "    </tr>\n",
              "    <tr>\n",
              "      <th>15378</th>\n",
              "      <td>426105914</td>\n",
              "      <td>426105914.0</td>\n",
              "      <td>0.0</td>\n",
              "    </tr>\n",
              "  </tbody>\n",
              "</table>\n",
              "<p>15379 rows × 3 columns</p>\n",
              "</div>\n",
              "      <button class=\"colab-df-convert\" onclick=\"convertToInteractive('df-bec766fc-5b0e-4de2-922c-1902981f314c')\"\n",
              "              title=\"Convert this dataframe to an interactive table.\"\n",
              "              style=\"display:none;\">\n",
              "        \n",
              "  <svg xmlns=\"http://www.w3.org/2000/svg\" height=\"24px\"viewBox=\"0 0 24 24\"\n",
              "       width=\"24px\">\n",
              "    <path d=\"M0 0h24v24H0V0z\" fill=\"none\"/>\n",
              "    <path d=\"M18.56 5.44l.94 2.06.94-2.06 2.06-.94-2.06-.94-.94-2.06-.94 2.06-2.06.94zm-11 1L8.5 8.5l.94-2.06 2.06-.94-2.06-.94L8.5 2.5l-.94 2.06-2.06.94zm10 10l.94 2.06.94-2.06 2.06-.94-2.06-.94-.94-2.06-.94 2.06-2.06.94z\"/><path d=\"M17.41 7.96l-1.37-1.37c-.4-.4-.92-.59-1.43-.59-.52 0-1.04.2-1.43.59L10.3 9.45l-7.72 7.72c-.78.78-.78 2.05 0 2.83L4 21.41c.39.39.9.59 1.41.59.51 0 1.02-.2 1.41-.59l7.78-7.78 2.81-2.81c.8-.78.8-2.07 0-2.86zM5.41 20L4 18.59l7.72-7.72 1.47 1.35L5.41 20z\"/>\n",
              "  </svg>\n",
              "      </button>\n",
              "      \n",
              "  <style>\n",
              "    .colab-df-container {\n",
              "      display:flex;\n",
              "      flex-wrap:wrap;\n",
              "      gap: 12px;\n",
              "    }\n",
              "\n",
              "    .colab-df-convert {\n",
              "      background-color: #E8F0FE;\n",
              "      border: none;\n",
              "      border-radius: 50%;\n",
              "      cursor: pointer;\n",
              "      display: none;\n",
              "      fill: #1967D2;\n",
              "      height: 32px;\n",
              "      padding: 0 0 0 0;\n",
              "      width: 32px;\n",
              "    }\n",
              "\n",
              "    .colab-df-convert:hover {\n",
              "      background-color: #E2EBFA;\n",
              "      box-shadow: 0px 1px 2px rgba(60, 64, 67, 0.3), 0px 1px 3px 1px rgba(60, 64, 67, 0.15);\n",
              "      fill: #174EA6;\n",
              "    }\n",
              "\n",
              "    [theme=dark] .colab-df-convert {\n",
              "      background-color: #3B4455;\n",
              "      fill: #D2E3FC;\n",
              "    }\n",
              "\n",
              "    [theme=dark] .colab-df-convert:hover {\n",
              "      background-color: #434B5C;\n",
              "      box-shadow: 0px 1px 3px 1px rgba(0, 0, 0, 0.15);\n",
              "      filter: drop-shadow(0px 1px 2px rgba(0, 0, 0, 0.3));\n",
              "      fill: #FFFFFF;\n",
              "    }\n",
              "  </style>\n",
              "\n",
              "      <script>\n",
              "        const buttonEl =\n",
              "          document.querySelector('#df-bec766fc-5b0e-4de2-922c-1902981f314c button.colab-df-convert');\n",
              "        buttonEl.style.display =\n",
              "          google.colab.kernel.accessAllowed ? 'block' : 'none';\n",
              "\n",
              "        async function convertToInteractive(key) {\n",
              "          const element = document.querySelector('#df-bec766fc-5b0e-4de2-922c-1902981f314c');\n",
              "          const dataTable =\n",
              "            await google.colab.kernel.invokeFunction('convertToInteractive',\n",
              "                                                     [key], {});\n",
              "          if (!dataTable) return;\n",
              "\n",
              "          const docLinkHtml = 'Like what you see? Visit the ' +\n",
              "            '<a target=\"_blank\" href=https://colab.research.google.com/notebooks/data_table.ipynb>data table notebook</a>'\n",
              "            + ' to learn more about interactive tables.';\n",
              "          element.innerHTML = '';\n",
              "          dataTable['output_type'] = 'display_data';\n",
              "          await google.colab.output.renderOutput(dataTable, element);\n",
              "          const docLink = document.createElement('div');\n",
              "          docLink.innerHTML = docLinkHtml;\n",
              "          element.appendChild(docLink);\n",
              "        }\n",
              "      </script>\n",
              "    </div>\n",
              "  </div>\n",
              "  "
            ]
          },
          "metadata": {},
          "execution_count": 259
        }
      ]
    },
    {
      "cell_type": "code",
      "source": [
        "test_preds_ada.to_csv(\"submission_Dhara_Awasthi_Batch120_MiTH.csv\")"
      ],
      "metadata": {
        "id": "9oleOs-8BnGt"
      },
      "id": "9oleOs-8BnGt",
      "execution_count": 260,
      "outputs": []
    },
    {
      "cell_type": "markdown",
      "source": [],
      "metadata": {
        "id": "lrTMHG7jAVjx"
      },
      "id": "lrTMHG7jAVjx"
    },
    {
      "cell_type": "markdown",
      "source": [
        "# Exploratory Analysis:\n",
        "## Insights from univariate and bivariate analyses-\n",
        "1) From the catplot of `\"race\"` versus `\"num_medications\"`, we can see that Caucasian group of population are under higher medications as compared to other groups. We also observed that Caucasians are getting higher number of diagnoses as compared to other population groups. This might mean that they are more prone to infections.\n",
        "\n",
        "\n",
        "2) We can observe that old age people are under higher medications which is quite expected.\n",
        "\n",
        "3) From the heatmap we can observe that `\"num_medications\"` is correlated with the `\"time_in_hospital\"`. From this, we can we can say that people who are under multiple medications have spent higher time in the hospital.\n",
        "\n",
        "4) If we observe the correlation of different predictors (categorical) with the target variable, we can say that `number_inpatient` certainly has some kind of impact on the readmitted status of the patient. We have confirmed this observation based on our modelling results and visualisation.\n",
        "\n",
        "##Can you explain your ML model using non-technical terms?\n",
        "Based on the given medical records of various patients colleceted over the last year, we are trying to find the readmission status of the patient based on his previous encounters in the hospital. Using various parameters like number of lab procedures, time spent in hospital, diagnoses values, dosage status etc we are trying to figure out the relationship between the previous medical history of a patient in terms of medication status, lab test and visits to the hospital for different medical treatments and also predict his chances of readmission to the hospital."
      ],
      "metadata": {
        "id": "5AwybId6w0o6"
      },
      "id": "5AwybId6w0o6"
    },
    {
      "cell_type": "markdown",
      "source": [
        "# Recommendations:\n",
        "Based on the results obtained by Random Forest and Logistic Regression models the most important feature is `\"number_inpatient\"`, which makes sense since it is actually the number of inpatient visits (i.e patients who were hospitalised during the preceding year). This means that if patients have been to the hospital in the last year, they are more likely to be re-admitted again. This information can help us to understand the number of future readmissions and adopt strategies to reduce the number of hospital readmissions. \n",
        "The other important predictors were related to dosage and medications. This information might help us to monitor the medication procedures of patients and help in preventing ways to reduce the chances of readmission.\n",
        "Based on the insigts we from various visualisation plots, we might need to improve prognostic support for Caucasians as they might be more prone to risks or infections compared to other groups based on the number of medical procedures and diagnoses undergone."
      ],
      "metadata": {
        "id": "FxBYQUx0l1a-"
      },
      "id": "FxBYQUx0l1a-"
    }
  ],
  "metadata": {
    "colab": {
      "collapsed_sections": [],
      "provenance": []
    },
    "kernelspec": {
      "display_name": "Python 3 (ipykernel)",
      "language": "python",
      "name": "python3"
    },
    "language_info": {
      "codemirror_mode": {
        "name": "ipython",
        "version": 3
      },
      "file_extension": ".py",
      "mimetype": "text/x-python",
      "name": "python",
      "nbconvert_exporter": "python",
      "pygments_lexer": "ipython3",
      "version": "3.9.12"
    }
  },
  "nbformat": 4,
  "nbformat_minor": 5
}